{
 "cells": [
  {
   "cell_type": "code",
   "execution_count": 1,
   "metadata": {},
   "outputs": [],
   "source": [
    "import pandas as pd\n",
    "import numpy as np\n",
    "import matplotlib.pyplot as plt\n",
    "from scipy.optimize import minimize\n",
    "from WindPy import w\n",
    "from sklearn.linear_model import LinearRegression\n",
    "import datetime\n",
    "%matplotlib inline"
   ]
  },
  {
   "cell_type": "code",
   "execution_count": 2,
   "metadata": {},
   "outputs": [
    {
     "name": "stdout",
     "output_type": "stream",
     "text": [
      "Welcome to use Wind Quant API for Python (WindPy)!\n",
      "\n",
      "COPYRIGHT (C) 2017 WIND INFORMATION CO., LTD. ALL RIGHTS RESERVED.\n",
      "IN NO CIRCUMSTANCE SHALL WIND BE RESPONSIBLE FOR ANY DAMAGES OR LOSSES CAUSED BY USING WIND QUANT API FOR Python.\n"
     ]
    },
    {
     "data": {
      "text/plain": [
       ".ErrorCode=0\n",
       ".Data=[OK!]"
      ]
     },
     "execution_count": 2,
     "metadata": {},
     "output_type": "execute_result"
    }
   ],
   "source": [
    "w.start()"
   ]
  },
  {
   "cell_type": "code",
   "execution_count": 3,
   "metadata": {},
   "outputs": [],
   "source": [
    "end_date = datetime.datetime.today()\n",
    "start_date = end_date - datetime.timedelta(200)"
   ]
  },
  {
   "cell_type": "markdown",
   "metadata": {},
   "source": [
    "# 获取股票指数历史收益率"
   ]
  },
  {
   "cell_type": "code",
   "execution_count": 4,
   "metadata": {},
   "outputs": [],
   "source": [
    "# codes = 'CI005917.WI,CI005919.WI,CI005018.WI,CI005916.WI' # 金融地产、消费、医药、科技\n",
    "codes = '000934.SH,000931.CSI,000933.SH,000935.SH' # 中证金融地产、可选消费、必选医药、信息技术"
   ]
  },
  {
   "cell_type": "code",
   "execution_count": 5,
   "metadata": {},
   "outputs": [],
   "source": [
    "data = w.wsd(codes, 'close', start_date, end_date)"
   ]
  },
  {
   "cell_type": "code",
   "execution_count": 6,
   "metadata": {},
   "outputs": [],
   "source": [
    "df = pd.DataFrame(np.array(data.Data).T, index=data.Times, columns=data.Codes)"
   ]
  },
  {
   "cell_type": "code",
   "execution_count": 7,
   "metadata": {},
   "outputs": [],
   "source": [
    "rdf = df.pct_change().dropna()"
   ]
  },
  {
   "cell_type": "markdown",
   "metadata": {},
   "source": [
    "# 获取股票基金历史收益率"
   ]
  },
  {
   "cell_type": "code",
   "execution_count": 8,
   "metadata": {},
   "outputs": [],
   "source": [
    "fund_df = pd.read_excel(u'../data/股票基金池.xlsx')\n",
    "# fund_df = pd.read_excel(u'../data/嘉实股票基金池.xlsx')"
   ]
  },
  {
   "cell_type": "code",
   "execution_count": 9,
   "metadata": {},
   "outputs": [
    {
     "data": {
      "text/html": [
       "<div>\n",
       "<style scoped>\n",
       "    .dataframe tbody tr th:only-of-type {\n",
       "        vertical-align: middle;\n",
       "    }\n",
       "\n",
       "    .dataframe tbody tr th {\n",
       "        vertical-align: top;\n",
       "    }\n",
       "\n",
       "    .dataframe thead th {\n",
       "        text-align: right;\n",
       "    }\n",
       "</style>\n",
       "<table border=\"1\" class=\"dataframe\">\n",
       "  <thead>\n",
       "    <tr style=\"text-align: right;\">\n",
       "      <th></th>\n",
       "      <th>代码</th>\n",
       "      <th>名称</th>\n",
       "      <th>市值占净值</th>\n",
       "    </tr>\n",
       "  </thead>\n",
       "  <tbody>\n",
       "    <tr>\n",
       "      <th>0</th>\n",
       "      <td>000176.OF</td>\n",
       "      <td>嘉实沪深300增强</td>\n",
       "      <td>0.200000</td>\n",
       "    </tr>\n",
       "    <tr>\n",
       "      <th>1</th>\n",
       "      <td>160716.OF</td>\n",
       "      <td>嘉实基本面50指数(LOF)A</td>\n",
       "      <td>0.200000</td>\n",
       "    </tr>\n",
       "    <tr>\n",
       "      <th>2</th>\n",
       "      <td>005662.OF</td>\n",
       "      <td>嘉实金融精选A</td>\n",
       "      <td>0.199999</td>\n",
       "    </tr>\n",
       "    <tr>\n",
       "      <th>3</th>\n",
       "      <td>070019.OF</td>\n",
       "      <td>嘉实价值优势</td>\n",
       "      <td>0.199999</td>\n",
       "    </tr>\n",
       "    <tr>\n",
       "      <th>4</th>\n",
       "      <td>000008.OF</td>\n",
       "      <td>嘉实中证500ETF联接A</td>\n",
       "      <td>0.199999</td>\n",
       "    </tr>\n",
       "    <tr>\n",
       "      <th>5</th>\n",
       "      <td>000711.OF</td>\n",
       "      <td>嘉实医疗保健</td>\n",
       "      <td>0.199998</td>\n",
       "    </tr>\n",
       "    <tr>\n",
       "      <th>6</th>\n",
       "      <td>003053.OF</td>\n",
       "      <td>嘉实文体娱乐A</td>\n",
       "      <td>0.199997</td>\n",
       "    </tr>\n",
       "    <tr>\n",
       "      <th>7</th>\n",
       "      <td>070011.OF</td>\n",
       "      <td>嘉实策略增长</td>\n",
       "      <td>0.199997</td>\n",
       "    </tr>\n",
       "    <tr>\n",
       "      <th>8</th>\n",
       "      <td>070021.OF</td>\n",
       "      <td>嘉实主题新动力</td>\n",
       "      <td>0.199996</td>\n",
       "    </tr>\n",
       "  </tbody>\n",
       "</table>\n",
       "</div>"
      ],
      "text/plain": [
       "          代码               名称     市值占净值\n",
       "0  000176.OF        嘉实沪深300增强  0.200000\n",
       "1  160716.OF  嘉实基本面50指数(LOF)A  0.200000\n",
       "2  005662.OF          嘉实金融精选A  0.199999\n",
       "3  070019.OF           嘉实价值优势  0.199999\n",
       "4  000008.OF    嘉实中证500ETF联接A  0.199999\n",
       "5  000711.OF           嘉实医疗保健  0.199998\n",
       "6  003053.OF          嘉实文体娱乐A  0.199997\n",
       "7  070011.OF           嘉实策略增长  0.199997\n",
       "8  070021.OF          嘉实主题新动力  0.199996"
      ]
     },
     "execution_count": 9,
     "metadata": {},
     "output_type": "execute_result"
    }
   ],
   "source": [
    "fund_df"
   ]
  },
  {
   "cell_type": "code",
   "execution_count": 10,
   "metadata": {},
   "outputs": [],
   "source": [
    "codes = fund_df[u'代码'].tolist()"
   ]
  },
  {
   "cell_type": "code",
   "execution_count": 11,
   "metadata": {},
   "outputs": [
    {
     "data": {
      "text/plain": [
       "[u'000176.OF',\n",
       " u'160716.OF',\n",
       " u'005662.OF',\n",
       " u'070019.OF',\n",
       " u'000008.OF',\n",
       " u'000711.OF',\n",
       " u'003053.OF',\n",
       " u'070011.OF',\n",
       " u'070021.OF']"
      ]
     },
     "execution_count": 11,
     "metadata": {},
     "output_type": "execute_result"
    }
   ],
   "source": [
    "codes"
   ]
  },
  {
   "cell_type": "code",
   "execution_count": 12,
   "metadata": {},
   "outputs": [],
   "source": [
    "data = w.wsd(codes, 'nav', start_date, end_date)"
   ]
  },
  {
   "cell_type": "code",
   "execution_count": 13,
   "metadata": {},
   "outputs": [],
   "source": [
    "fdf = pd.DataFrame(np.array(data.Data).T, index=data.Times, columns=data.Codes)"
   ]
  },
  {
   "cell_type": "code",
   "execution_count": 14,
   "metadata": {},
   "outputs": [],
   "source": [
    "fdf = fdf.dropna(axis=1)"
   ]
  },
  {
   "cell_type": "code",
   "execution_count": 15,
   "metadata": {},
   "outputs": [],
   "source": [
    "rfdf = fdf.pct_change().dropna()"
   ]
  },
  {
   "cell_type": "code",
   "execution_count": 16,
   "metadata": {},
   "outputs": [],
   "source": [
    "codes = rfdf.columns.tolist()"
   ]
  },
  {
   "cell_type": "code",
   "execution_count": 17,
   "metadata": {},
   "outputs": [
    {
     "name": "stdout",
     "output_type": "stream",
     "text": [
      "(135, 9)\n",
      "(135, 4)\n"
     ]
    }
   ],
   "source": [
    "print rfdf.shape\n",
    "print rdf.shape"
   ]
  },
  {
   "cell_type": "markdown",
   "metadata": {},
   "source": [
    "# 非负线性优化求解"
   ]
  },
  {
   "cell_type": "code",
   "execution_count": 18,
   "metadata": {},
   "outputs": [],
   "source": [
    "# decomp = pd.DataFrame(index=codes, columns=[u'金融地产', u'消费', u'医药', u'科技'])\n",
    "decomp = pd.DataFrame(index=codes, columns=[u'金融地产', u'可选消费', u'必选医药', u'科技'])\n",
    "decomp.index.name = u'基金代码'"
   ]
  },
  {
   "cell_type": "code",
   "execution_count": 19,
   "metadata": {},
   "outputs": [],
   "source": [
    "def objective(coef, args):\n",
    "    n = coef.size\n",
    "    X, y = args[0], args[1]\n",
    "    target = np.dot(X, coef)\n",
    "#     error = np.sum(np.square(target - y))\n",
    "    error = np.sum(np.square(target - y)) + np.linalg.norm(coef, 1) # lasso error\n",
    "    return error / n\n",
    "\n",
    "def decomposition(code):\n",
    "    TOLERANCE = 1e-10\n",
    "    n = rdf.shape[1]\n",
    "    init_weights = np.array([1. / n] * n)\n",
    "    X = rdf.values\n",
    "    y = rfdf[code].values\n",
    "    \n",
    "    constraints = ({'type': 'eq', 'fun': lambda x: np.sum(x) - 1.0},\n",
    "                   {'type': 'ineq', 'fun': lambda x: x})\n",
    "    \n",
    "    opt_res = minimize(fun=objective,\n",
    "                       x0=init_weights,\n",
    "                       args=[X, y],\n",
    "                       constraints=constraints,\n",
    "                       tol=TOLERANCE,\n",
    "                       options={'disp': True})\n",
    "    \n",
    "    return opt_res.x"
   ]
  },
  {
   "cell_type": "code",
   "execution_count": 20,
   "metadata": {},
   "outputs": [
    {
     "name": "stdout",
     "output_type": "stream",
     "text": [
      "Optimization terminated successfully.    (Exit mode 0)\n",
      "            Current function value: 0.250193963914\n",
      "            Iterations: 20\n",
      "            Function evaluations: 120\n",
      "            Gradient evaluations: 20\n"
     ]
    },
    {
     "data": {
      "text/plain": [
       "array([0.57039419, 0.16012622, 0.21327435, 0.05620524])"
      ]
     },
     "execution_count": 20,
     "metadata": {},
     "output_type": "execute_result"
    }
   ],
   "source": [
    "decomposition(codes[0])"
   ]
  },
  {
   "cell_type": "code",
   "execution_count": 21,
   "metadata": {},
   "outputs": [
    {
     "name": "stdout",
     "output_type": "stream",
     "text": [
      "Optimization terminated successfully.    (Exit mode 0)\n",
      "            Current function value: 0.250193963914\n",
      "            Iterations: 20\n",
      "            Function evaluations: 120\n",
      "            Gradient evaluations: 20\n",
      "Optimization terminated successfully.    (Exit mode 0)\n",
      "            Current function value: 0.250268483248\n",
      "            Iterations: 17\n",
      "            Function evaluations: 102\n",
      "            Gradient evaluations: 17\n",
      "Optimization terminated successfully.    (Exit mode 0)\n",
      "            Current function value: 0.250318883414\n",
      "            Iterations: 18\n",
      "            Function evaluations: 108\n",
      "            Gradient evaluations: 18\n",
      "Optimization terminated successfully.    (Exit mode 0)\n",
      "            Current function value: 0.250564490113\n",
      "            Iterations: 17\n",
      "            Function evaluations: 102\n",
      "            Gradient evaluations: 17\n",
      "Optimization terminated successfully.    (Exit mode 0)\n",
      "            Current function value: 0.250498729745\n",
      "            Iterations: 21\n",
      "            Function evaluations: 126\n",
      "            Gradient evaluations: 21\n",
      "Optimization terminated successfully.    (Exit mode 0)\n",
      "            Current function value: 0.250912234092\n",
      "            Iterations: 13\n",
      "            Function evaluations: 78\n",
      "            Gradient evaluations: 13\n",
      "Optimization terminated successfully.    (Exit mode 0)\n",
      "            Current function value: 0.250593725017\n",
      "            Iterations: 20\n",
      "            Function evaluations: 121\n",
      "            Gradient evaluations: 20\n",
      "Optimization terminated successfully.    (Exit mode 0)\n",
      "            Current function value: 0.250447757329\n",
      "            Iterations: 17\n",
      "            Function evaluations: 102\n",
      "            Gradient evaluations: 17\n",
      "Optimization terminated successfully.    (Exit mode 0)\n",
      "            Current function value: 0.251445565265\n",
      "            Iterations: 17\n",
      "            Function evaluations: 102\n",
      "            Gradient evaluations: 17\n"
     ]
    }
   ],
   "source": [
    "for c in codes:\n",
    "    weight = decomposition(c)\n",
    "    decomp.loc[c] = weight"
   ]
  },
  {
   "cell_type": "code",
   "execution_count": 22,
   "metadata": {},
   "outputs": [],
   "source": [
    "decomp[u'基金名称'] = fund_df[fund_df[u'代码'].isin(codes)][u'名称'].tolist()"
   ]
  },
  {
   "cell_type": "code",
   "execution_count": 23,
   "metadata": {},
   "outputs": [],
   "source": [
    "if u'市值占净值' in fund_df.columns:\n",
    "    decomp[u'市值占净值'] = fund_df[fund_df[u'代码'].isin(codes)][u'市值占净值'].tolist()"
   ]
  },
  {
   "cell_type": "code",
   "execution_count": 24,
   "metadata": {},
   "outputs": [],
   "source": [
    "decomp = decomp[decomp.columns[4:].tolist() + decomp.columns[:4].tolist()]"
   ]
  },
  {
   "cell_type": "code",
   "execution_count": 25,
   "metadata": {},
   "outputs": [
    {
     "data": {
      "text/html": [
       "<div>\n",
       "<style scoped>\n",
       "    .dataframe tbody tr th:only-of-type {\n",
       "        vertical-align: middle;\n",
       "    }\n",
       "\n",
       "    .dataframe tbody tr th {\n",
       "        vertical-align: top;\n",
       "    }\n",
       "\n",
       "    .dataframe thead th {\n",
       "        text-align: right;\n",
       "    }\n",
       "</style>\n",
       "<table border=\"1\" class=\"dataframe\">\n",
       "  <thead>\n",
       "    <tr style=\"text-align: right;\">\n",
       "      <th></th>\n",
       "      <th>基金名称</th>\n",
       "      <th>市值占净值</th>\n",
       "      <th>金融地产</th>\n",
       "      <th>可选消费</th>\n",
       "      <th>必选医药</th>\n",
       "      <th>科技</th>\n",
       "    </tr>\n",
       "    <tr>\n",
       "      <th>基金代码</th>\n",
       "      <th></th>\n",
       "      <th></th>\n",
       "      <th></th>\n",
       "      <th></th>\n",
       "      <th></th>\n",
       "      <th></th>\n",
       "    </tr>\n",
       "  </thead>\n",
       "  <tbody>\n",
       "    <tr>\n",
       "      <th>000176.OF</th>\n",
       "      <td>嘉实沪深300增强</td>\n",
       "      <td>0.200000</td>\n",
       "      <td>0.570394</td>\n",
       "      <td>0.160126</td>\n",
       "      <td>0.213274</td>\n",
       "      <td>0.0562052</td>\n",
       "    </tr>\n",
       "    <tr>\n",
       "      <th>160716.OF</th>\n",
       "      <td>嘉实基本面50指数(LOF)A</td>\n",
       "      <td>0.200000</td>\n",
       "      <td>0.796087</td>\n",
       "      <td>0.181527</td>\n",
       "      <td>0.0223862</td>\n",
       "      <td>-3.75405e-18</td>\n",
       "    </tr>\n",
       "    <tr>\n",
       "      <th>005662.OF</th>\n",
       "      <td>嘉实金融精选A</td>\n",
       "      <td>0.199999</td>\n",
       "      <td>0.958662</td>\n",
       "      <td>-1.8052e-17</td>\n",
       "      <td>0.0413376</td>\n",
       "      <td>1.05439e-17</td>\n",
       "    </tr>\n",
       "    <tr>\n",
       "      <th>070019.OF</th>\n",
       "      <td>嘉实价值优势</td>\n",
       "      <td>0.199999</td>\n",
       "      <td>0.392395</td>\n",
       "      <td>0.252607</td>\n",
       "      <td>0.336242</td>\n",
       "      <td>0.0187557</td>\n",
       "    </tr>\n",
       "    <tr>\n",
       "      <th>000008.OF</th>\n",
       "      <td>嘉实中证500ETF联接A</td>\n",
       "      <td>0.199999</td>\n",
       "      <td>0.289526</td>\n",
       "      <td>0.193893</td>\n",
       "      <td>0.159883</td>\n",
       "      <td>0.356697</td>\n",
       "    </tr>\n",
       "    <tr>\n",
       "      <th>000711.OF</th>\n",
       "      <td>嘉实医疗保健</td>\n",
       "      <td>0.199998</td>\n",
       "      <td>-5.52284e-17</td>\n",
       "      <td>8.32667e-17</td>\n",
       "      <td>1</td>\n",
       "      <td>-3.76595e-17</td>\n",
       "    </tr>\n",
       "    <tr>\n",
       "      <th>003053.OF</th>\n",
       "      <td>嘉实文体娱乐A</td>\n",
       "      <td>0.199997</td>\n",
       "      <td>0.140588</td>\n",
       "      <td>0.0544448</td>\n",
       "      <td>0.158305</td>\n",
       "      <td>0.646663</td>\n",
       "    </tr>\n",
       "    <tr>\n",
       "      <th>070011.OF</th>\n",
       "      <td>嘉实策略增长</td>\n",
       "      <td>0.199997</td>\n",
       "      <td>0.325585</td>\n",
       "      <td>0.322871</td>\n",
       "      <td>0.122578</td>\n",
       "      <td>0.228967</td>\n",
       "    </tr>\n",
       "    <tr>\n",
       "      <th>070021.OF</th>\n",
       "      <td>嘉实主题新动力</td>\n",
       "      <td>0.199996</td>\n",
       "      <td>0.0148935</td>\n",
       "      <td>0.1423</td>\n",
       "      <td>0.143251</td>\n",
       "      <td>0.699555</td>\n",
       "    </tr>\n",
       "  </tbody>\n",
       "</table>\n",
       "</div>"
      ],
      "text/plain": [
       "                      基金名称     市值占净值         金融地产         可选消费       必选医药  \\\n",
       "基金代码                                                                        \n",
       "000176.OF        嘉实沪深300增强  0.200000     0.570394     0.160126   0.213274   \n",
       "160716.OF  嘉实基本面50指数(LOF)A  0.200000     0.796087     0.181527  0.0223862   \n",
       "005662.OF          嘉实金融精选A  0.199999     0.958662  -1.8052e-17  0.0413376   \n",
       "070019.OF           嘉实价值优势  0.199999     0.392395     0.252607   0.336242   \n",
       "000008.OF    嘉实中证500ETF联接A  0.199999     0.289526     0.193893   0.159883   \n",
       "000711.OF           嘉实医疗保健  0.199998 -5.52284e-17  8.32667e-17          1   \n",
       "003053.OF          嘉实文体娱乐A  0.199997     0.140588    0.0544448   0.158305   \n",
       "070011.OF           嘉实策略增长  0.199997     0.325585     0.322871   0.122578   \n",
       "070021.OF          嘉实主题新动力  0.199996    0.0148935       0.1423   0.143251   \n",
       "\n",
       "                    科技  \n",
       "基金代码                    \n",
       "000176.OF    0.0562052  \n",
       "160716.OF -3.75405e-18  \n",
       "005662.OF  1.05439e-17  \n",
       "070019.OF    0.0187557  \n",
       "000008.OF     0.356697  \n",
       "000711.OF -3.76595e-17  \n",
       "003053.OF     0.646663  \n",
       "070011.OF     0.228967  \n",
       "070021.OF     0.699555  "
      ]
     },
     "execution_count": 25,
     "metadata": {},
     "output_type": "execute_result"
    }
   ],
   "source": [
    "decomp"
   ]
  },
  {
   "cell_type": "code",
   "execution_count": 26,
   "metadata": {},
   "outputs": [],
   "source": [
    "if u'市值占净值' in fund_df.columns:\n",
    "    decomp = decomp.append(pd.DataFrame([['', '',\n",
    "                           np.dot(decomp[u'金融地产'], fund_df[u'市值占净值']) / fund_df[u'市值占净值'].sum(),\n",
    "                           np.dot(decomp[u'可选消费'], fund_df[u'市值占净值']) / fund_df[u'市值占净值'].sum(),\n",
    "                           np.dot(decomp[u'必选医药'], fund_df[u'市值占净值']) / fund_df[u'市值占净值'].sum(),\n",
    "                           np.dot(decomp[u'科技'], fund_df[u'市值占净值']) / fund_df[u'市值占净值'].sum(), \n",
    "                           ]], index=[u'组合'], columns=decomp.columns))"
   ]
  },
  {
   "cell_type": "code",
   "execution_count": 27,
   "metadata": {},
   "outputs": [],
   "source": [
    "decomp.to_excel(u'../data/股票基金收益率分解.xlsx')\n",
    "# decomp.to_excel(u'../data/嘉实股票基金收益率分解.xlsx')"
   ]
  },
  {
   "cell_type": "code",
   "execution_count": null,
   "metadata": {},
   "outputs": [],
   "source": []
  }
 ],
 "metadata": {
  "kernelspec": {
   "display_name": "Python 2",
   "language": "python",
   "name": "python2"
  },
  "language_info": {
   "codemirror_mode": {
    "name": "ipython",
    "version": 2
   },
   "file_extension": ".py",
   "mimetype": "text/x-python",
   "name": "python",
   "nbconvert_exporter": "python",
   "pygments_lexer": "ipython2",
   "version": "2.7.14"
  }
 },
 "nbformat": 4,
 "nbformat_minor": 4
}
