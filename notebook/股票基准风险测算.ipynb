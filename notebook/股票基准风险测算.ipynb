{
 "cells": [
  {
   "cell_type": "code",
   "execution_count": 1,
   "metadata": {},
   "outputs": [],
   "source": [
    "import pandas as pd\n",
    "import numpy as np\n",
    "import matplotlib.pyplot as plt\n",
    "from scipy.optimize import minimize\n",
    "from WindPy import w\n",
    "from sklearn.linear_model import LinearRegression\n",
    "import datetime\n",
    "%matplotlib inline"
   ]
  },
  {
   "cell_type": "code",
   "execution_count": 2,
   "metadata": {},
   "outputs": [
    {
     "name": "stdout",
     "output_type": "stream",
     "text": [
      "Welcome to use Wind Quant API for Python (WindPy)!\n",
      "\n",
      "COPYRIGHT (C) 2017 WIND INFORMATION CO., LTD. ALL RIGHTS RESERVED.\n",
      "IN NO CIRCUMSTANCE SHALL WIND BE RESPONSIBLE FOR ANY DAMAGES OR LOSSES CAUSED BY USING WIND QUANT API FOR Python.\n"
     ]
    },
    {
     "data": {
      "text/plain": [
       ".ErrorCode=0\n",
       ".Data=[OK!]"
      ]
     },
     "execution_count": 2,
     "metadata": {},
     "output_type": "execute_result"
    }
   ],
   "source": [
    "w.start()"
   ]
  },
  {
   "cell_type": "code",
   "execution_count": 3,
   "metadata": {},
   "outputs": [],
   "source": [
    "start_date, end_date = '2018-10-22', datetime.datetime.today()"
   ]
  },
  {
   "cell_type": "code",
   "execution_count": 5,
   "metadata": {},
   "outputs": [],
   "source": [
    "# codes = 'CI005917.WI,CI005919.WI,CI005018.WI,CI005916.WI' # 金融地产、消费、医药、科技\n",
    "codes = '000934.SH,000931.CSI,000933.SH,000935.SH' # 中证金融地产、可选消费、必选消费、科技"
   ]
  },
  {
   "cell_type": "code",
   "execution_count": 6,
   "metadata": {},
   "outputs": [],
   "source": [
    "data = w.wsd(codes, 'close', start_date, end_date)"
   ]
  },
  {
   "cell_type": "code",
   "execution_count": 7,
   "metadata": {},
   "outputs": [],
   "source": [
    "df = pd.DataFrame(np.array(data.Data).T, index=data.Times, columns=data.Codes)"
   ]
  },
  {
   "cell_type": "code",
   "execution_count": 8,
   "metadata": {},
   "outputs": [],
   "source": [
    "rdf = df.pct_change().dropna()"
   ]
  },
  {
   "cell_type": "code",
   "execution_count": 9,
   "metadata": {},
   "outputs": [
    {
     "data": {
      "text/html": [
       "<div>\n",
       "<style scoped>\n",
       "    .dataframe tbody tr th:only-of-type {\n",
       "        vertical-align: middle;\n",
       "    }\n",
       "\n",
       "    .dataframe tbody tr th {\n",
       "        vertical-align: top;\n",
       "    }\n",
       "\n",
       "    .dataframe thead th {\n",
       "        text-align: right;\n",
       "    }\n",
       "</style>\n",
       "<table border=\"1\" class=\"dataframe\">\n",
       "  <thead>\n",
       "    <tr style=\"text-align: right;\">\n",
       "      <th></th>\n",
       "      <th>000934.SH</th>\n",
       "      <th>000931.CSI</th>\n",
       "      <th>000933.SH</th>\n",
       "      <th>000935.SH</th>\n",
       "    </tr>\n",
       "  </thead>\n",
       "  <tbody>\n",
       "    <tr>\n",
       "      <th>2019-10-22</th>\n",
       "      <td>0.000063</td>\n",
       "      <td>0.007347</td>\n",
       "      <td>0.013637</td>\n",
       "      <td>0.017549</td>\n",
       "    </tr>\n",
       "    <tr>\n",
       "      <th>2019-10-23</th>\n",
       "      <td>-0.005821</td>\n",
       "      <td>-0.005418</td>\n",
       "      <td>-0.015698</td>\n",
       "      <td>-0.003861</td>\n",
       "    </tr>\n",
       "    <tr>\n",
       "      <th>2019-10-24</th>\n",
       "      <td>0.006960</td>\n",
       "      <td>-0.003131</td>\n",
       "      <td>-0.006278</td>\n",
       "      <td>-0.002888</td>\n",
       "    </tr>\n",
       "    <tr>\n",
       "      <th>2019-10-25</th>\n",
       "      <td>-0.001875</td>\n",
       "      <td>0.001981</td>\n",
       "      <td>0.011381</td>\n",
       "      <td>0.014107</td>\n",
       "    </tr>\n",
       "    <tr>\n",
       "      <th>2019-10-28</th>\n",
       "      <td>0.001059</td>\n",
       "      <td>0.009012</td>\n",
       "      <td>0.013833</td>\n",
       "      <td>0.038209</td>\n",
       "    </tr>\n",
       "  </tbody>\n",
       "</table>\n",
       "</div>"
      ],
      "text/plain": [
       "            000934.SH  000931.CSI  000933.SH  000935.SH\n",
       "2019-10-22   0.000063    0.007347   0.013637   0.017549\n",
       "2019-10-23  -0.005821   -0.005418  -0.015698  -0.003861\n",
       "2019-10-24   0.006960   -0.003131  -0.006278  -0.002888\n",
       "2019-10-25  -0.001875    0.001981   0.011381   0.014107\n",
       "2019-10-28   0.001059    0.009012   0.013833   0.038209"
      ]
     },
     "execution_count": 9,
     "metadata": {},
     "output_type": "execute_result"
    }
   ],
   "source": [
    "rdf.tail()"
   ]
  },
  {
   "cell_type": "code",
   "execution_count": 10,
   "metadata": {},
   "outputs": [
    {
     "data": {
      "text/plain": [
       "000934.SH     0.220999\n",
       "000931.CSI    0.224177\n",
       "000933.SH     0.239153\n",
       "000935.SH     0.317879\n",
       "dtype: float64"
      ]
     },
     "execution_count": 10,
     "metadata": {},
     "output_type": "execute_result"
    }
   ],
   "source": [
    "rdf.iloc[-242:].std() * np.sqrt(242)"
   ]
  },
  {
   "cell_type": "code",
   "execution_count": 11,
   "metadata": {},
   "outputs": [],
   "source": [
    "code = '000985.CSI' # 中证全指"
   ]
  },
  {
   "cell_type": "code",
   "execution_count": 12,
   "metadata": {},
   "outputs": [],
   "source": [
    "data = w.wsd(code, 'close', start_date, end_date)"
   ]
  },
  {
   "cell_type": "code",
   "execution_count": 13,
   "metadata": {},
   "outputs": [],
   "source": [
    "bdf = pd.DataFrame(np.array(data.Data).T, index=data.Times, columns=data.Codes)"
   ]
  },
  {
   "cell_type": "code",
   "execution_count": 14,
   "metadata": {},
   "outputs": [],
   "source": [
    "rbdf = bdf.pct_change().dropna()"
   ]
  },
  {
   "cell_type": "code",
   "execution_count": 15,
   "metadata": {},
   "outputs": [],
   "source": [
    "def objective(coef, args):\n",
    "    n = coef.size\n",
    "    X, y = args[0], args[1]\n",
    "    target = np.dot(X, coef)\n",
    "#     error = np.sum(np.square(target - y))\n",
    "    error = np.sum(np.square(target - y)) + np.linalg.norm(coef, 1) # lasso error\n",
    "    return error / n\n",
    "\n",
    "def decomposition(code):\n",
    "    TOLERANCE = 1e-10\n",
    "    n = rdf.shape[1]\n",
    "    init_weights = np.array([1. / n] * n)\n",
    "    X = rdf.values\n",
    "    y = rbdf[code].values\n",
    "    \n",
    "    constraints = ({'type': 'eq', 'fun': lambda x: np.sum(x) - 1.0},\n",
    "                   {'type': 'ineq', 'fun': lambda x: x})\n",
    "    \n",
    "    opt_res = minimize(fun=objective,\n",
    "                       x0=init_weights,\n",
    "                       args=[X, y],\n",
    "                       constraints=constraints,\n",
    "                       tol=TOLERANCE,\n",
    "                       options={'disp': True})\n",
    "    \n",
    "    return opt_res.x"
   ]
  },
  {
   "cell_type": "code",
   "execution_count": 16,
   "metadata": {},
   "outputs": [
    {
     "name": "stdout",
     "output_type": "stream",
     "text": [
      "Optimization terminated successfully.    (Exit mode 0)\n",
      "            Current function value: 0.250447163975\n",
      "            Iterations: 14\n",
      "            Function evaluations: 84\n",
      "            Gradient evaluations: 14\n"
     ]
    }
   ],
   "source": [
    "weight = decomposition(code)"
   ]
  },
  {
   "cell_type": "code",
   "execution_count": 17,
   "metadata": {},
   "outputs": [
    {
     "data": {
      "text/plain": [
       "array([0.30945286, 0.27912244, 0.15742867, 0.25399603])"
      ]
     },
     "execution_count": 17,
     "metadata": {},
     "output_type": "execute_result"
    }
   ],
   "source": [
    "weight"
   ]
  },
  {
   "cell_type": "markdown",
   "metadata": {},
   "source": [
    "# 测算风险贡献"
   ]
  },
  {
   "cell_type": "code",
   "execution_count": 18,
   "metadata": {},
   "outputs": [],
   "source": [
    "covariances = rdf.iloc[-242:].cov()"
   ]
  },
  {
   "cell_type": "code",
   "execution_count": 19,
   "metadata": {},
   "outputs": [],
   "source": [
    "covariances.to_excel(u'../data/行业收益率协方差.xlsx')"
   ]
  },
  {
   "cell_type": "code",
   "execution_count": 20,
   "metadata": {},
   "outputs": [],
   "source": [
    "def _allocation_risk(weights, covariances):\n",
    "    \n",
    "    # calculate the risk of the weights distribution\n",
    "    portfolio_risk = np.sqrt((weights * covariances * weights.T))[0, 0]\n",
    "    \n",
    "    # It returns the risk of the weights distribution\n",
    "    return portfolio_risk"
   ]
  },
  {
   "cell_type": "code",
   "execution_count": 21,
   "metadata": {},
   "outputs": [],
   "source": [
    "def _assets_risk_contribution_to_allocation_risk(weights, covariances):\n",
    "    \n",
    "    # calculate the risk of the weights distribution\n",
    "    portfolio_risk = _allocation_risk(weights, covariances)\n",
    "    \n",
    "    # calculate the contribution of each asset to the risk of the weights distribution\n",
    "    print(covariances * weights.T)\n",
    "    print(np.multiply(weights.T, covariances * weights.T))\n",
    "    assets_risk_contribution = np.multiply(weights.T, covariances * weights.T) / portfolio_risk\n",
    "    \n",
    "    # It returns the contribution of each asset to the risk of the weights distribution\n",
    "    return np.abs(assets_risk_contribution)"
   ]
  },
  {
   "cell_type": "code",
   "execution_count": 22,
   "metadata": {},
   "outputs": [
    {
     "name": "stdout",
     "output_type": "stream",
     "text": [
      "[[0.00018408]\n",
      " [0.00019984]\n",
      " [0.00019187]\n",
      " [0.00027188]]\n",
      "[[5.69647954e-05]\n",
      " [5.57790626e-05]\n",
      " [3.02061217e-05]\n",
      " [6.90572958e-05]]\n"
     ]
    }
   ],
   "source": [
    "rc = _assets_risk_contribution_to_allocation_risk(np.matrix(weight), covariances.values)"
   ]
  },
  {
   "cell_type": "code",
   "execution_count": 23,
   "metadata": {},
   "outputs": [
    {
     "data": {
      "text/plain": [
       "matrix([[0.00391229],\n",
       "        [0.00383086],\n",
       "        [0.00207453],\n",
       "        [0.00474279]])"
      ]
     },
     "execution_count": 23,
     "metadata": {},
     "output_type": "execute_result"
    }
   ],
   "source": [
    "rc"
   ]
  },
  {
   "cell_type": "code",
   "execution_count": 24,
   "metadata": {},
   "outputs": [
    {
     "data": {
      "text/plain": [
       "matrix([[0.26869264],\n",
       "        [0.26309976],\n",
       "        [0.14247682],\n",
       "        [0.32573078]])"
      ]
     },
     "execution_count": 24,
     "metadata": {},
     "output_type": "execute_result"
    }
   ],
   "source": [
    "rc / rc.sum()"
   ]
  },
  {
   "cell_type": "code",
   "execution_count": 25,
   "metadata": {},
   "outputs": [
    {
     "data": {
      "text/plain": [
       "0.014560469618655996"
      ]
     },
     "execution_count": 25,
     "metadata": {},
     "output_type": "execute_result"
    }
   ],
   "source": [
    "_allocation_risk(np.matrix(weight), covariances.values)"
   ]
  },
  {
   "cell_type": "code",
   "execution_count": 26,
   "metadata": {},
   "outputs": [
    {
     "data": {
      "text/plain": [
       "matrix([[0.00018408, 0.00019984, 0.00019187, 0.00027188]])"
      ]
     },
     "execution_count": 26,
     "metadata": {},
     "output_type": "execute_result"
    }
   ],
   "source": [
    "np.matrix(weight) * covariances.values"
   ]
  },
  {
   "cell_type": "code",
   "execution_count": null,
   "metadata": {},
   "outputs": [],
   "source": []
  }
 ],
 "metadata": {
  "kernelspec": {
   "display_name": "Python 2",
   "language": "python",
   "name": "python2"
  },
  "language_info": {
   "codemirror_mode": {
    "name": "ipython",
    "version": 2
   },
   "file_extension": ".py",
   "mimetype": "text/x-python",
   "name": "python",
   "nbconvert_exporter": "python",
   "pygments_lexer": "ipython2",
   "version": "2.7.14"
  }
 },
 "nbformat": 4,
 "nbformat_minor": 4
}
