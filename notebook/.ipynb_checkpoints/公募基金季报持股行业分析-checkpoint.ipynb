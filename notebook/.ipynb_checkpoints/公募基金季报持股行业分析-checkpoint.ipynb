{
 "cells": [
  {
   "cell_type": "code",
   "execution_count": 1,
   "metadata": {},
   "outputs": [],
   "source": [
    "import pyodbc\n",
    "import numpy as np\n",
    "import pandas as pd\n",
    "import matplotlib.pyplot as plt\n",
    "from WindPy import w\n",
    "%matplotlib inline"
   ]
  },
  {
   "cell_type": "code",
   "execution_count": 2,
   "metadata": {},
   "outputs": [
    {
     "name": "stdout",
     "output_type": "stream",
     "text": [
      "Welcome to use Wind Quant API for Python (WindPy)!\n",
      "\n",
      "COPYRIGHT (C) 2017 WIND INFORMATION CO., LTD. ALL RIGHTS RESERVED.\n",
      "IN NO CIRCUMSTANCE SHALL WIND BE RESPONSIBLE FOR ANY DAMAGES OR LOSSES CAUSED BY USING WIND QUANT API FOR Python.\n"
     ]
    },
    {
     "data": {
      "text/plain": [
       ".ErrorCode=0\n",
       ".Data=[OK!]"
      ]
     },
     "execution_count": 2,
     "metadata": {},
     "output_type": "execute_result"
    }
   ],
   "source": [
    "w.start()"
   ]
  },
  {
   "cell_type": "code",
   "execution_count": 3,
   "metadata": {},
   "outputs": [],
   "source": [
    "conn = pyodbc.connect('DRIVER={SQL Server};SERVER=10.0.185.138;DATABASE=JYDB;UID=js_dev;PWD=js_dev')"
   ]
  },
  {
   "cell_type": "markdown",
   "metadata": {},
   "source": [
    "# 获取公募基金重仓持股总和"
   ]
  },
  {
   "cell_type": "code",
   "execution_count": 4,
   "metadata": {},
   "outputs": [],
   "source": [
    "query = 'SELECT f.ReportDate, f.StockInnerCode, SUM(f.SharesHolding) \\\n",
    "         FROM MF_KeyStockPortfolio as f, SecuMain as t, SecuMain as s \\\n",
    "         WHERE f.InnerCode = t.InnerCode \\\n",
    "               AND f.StockInnerCode = s.InnerCode \\\n",
    "               GROUP BY f.StockInnerCode, f.ReportDate \\\n",
    "               ORDER BY f.ReportDate DESC'"
   ]
  },
  {
   "cell_type": "code",
   "execution_count": 5,
   "metadata": {},
   "outputs": [],
   "source": [
    "df = pd.read_sql_query(query, con=conn)"
   ]
  },
  {
   "cell_type": "code",
   "execution_count": 6,
   "metadata": {},
   "outputs": [],
   "source": [
    "df = df.set_index('ReportDate')"
   ]
  },
  {
   "cell_type": "code",
   "execution_count": 7,
   "metadata": {},
   "outputs": [],
   "source": [
    "df.columns = ['InnerCode', 'Holding']"
   ]
  },
  {
   "cell_type": "code",
   "execution_count": 8,
   "metadata": {},
   "outputs": [],
   "source": [
    "df = df[(df.index >='2017-12-31') & (df.index <= '2018-03-31')]"
   ]
  },
  {
   "cell_type": "code",
   "execution_count": 9,
   "metadata": {},
   "outputs": [],
   "source": [
    "df.to_excel(u'D:/Data/fund/持仓/基金持仓总和_2018Q1.xlsx')"
   ]
  },
  {
   "cell_type": "code",
   "execution_count": 10,
   "metadata": {},
   "outputs": [],
   "source": [
    "query = 'SELECT t.InnerCode, t.SecuCode, t.SecuAbbr \\\n",
    "         FROM SecuMain as t \\\n",
    "         WHERE t.SecuCategory = 1'"
   ]
  },
  {
   "cell_type": "code",
   "execution_count": 11,
   "metadata": {},
   "outputs": [],
   "source": [
    "df = pd.read_sql_query(query, con=conn)"
   ]
  },
  {
   "cell_type": "code",
   "execution_count": 12,
   "metadata": {},
   "outputs": [],
   "source": [
    "df.to_excel(u'D:/Data/fund/持仓/内部编码.xlsx')"
   ]
  },
  {
   "cell_type": "markdown",
   "metadata": {},
   "source": [
    "# 计算仓位变化"
   ]
  },
  {
   "cell_type": "code",
   "execution_count": 13,
   "metadata": {},
   "outputs": [],
   "source": [
    "df = pd.read_excel(u'D:/Data/fund/持仓/基金持仓总和_2018Q1.xlsx')"
   ]
  },
  {
   "cell_type": "code",
   "execution_count": 14,
   "metadata": {},
   "outputs": [],
   "source": [
    "code = pd.read_excel(u'D:/Data/fund/持仓/内部编码.xlsx')"
   ]
  },
  {
   "cell_type": "code",
   "execution_count": 15,
   "metadata": {},
   "outputs": [
    {
     "data": {
      "text/html": [
       "<div>\n",
       "<style scoped>\n",
       "    .dataframe tbody tr th:only-of-type {\n",
       "        vertical-align: middle;\n",
       "    }\n",
       "\n",
       "    .dataframe tbody tr th {\n",
       "        vertical-align: top;\n",
       "    }\n",
       "\n",
       "    .dataframe thead th {\n",
       "        text-align: right;\n",
       "    }\n",
       "</style>\n",
       "<table border=\"1\" class=\"dataframe\">\n",
       "  <thead>\n",
       "    <tr style=\"text-align: right;\">\n",
       "      <th></th>\n",
       "      <th>ReportDate</th>\n",
       "      <th>InnerCode</th>\n",
       "      <th>Holding</th>\n",
       "    </tr>\n",
       "  </thead>\n",
       "  <tbody>\n",
       "    <tr>\n",
       "      <th>0</th>\n",
       "      <td>2018-03-31</td>\n",
       "      <td>3</td>\n",
       "      <td>259863093</td>\n",
       "    </tr>\n",
       "    <tr>\n",
       "      <th>1</th>\n",
       "      <td>2018-03-31</td>\n",
       "      <td>20</td>\n",
       "      <td>14720500</td>\n",
       "    </tr>\n",
       "    <tr>\n",
       "      <th>2</th>\n",
       "      <td>2018-03-31</td>\n",
       "      <td>26</td>\n",
       "      <td>3170429</td>\n",
       "    </tr>\n",
       "    <tr>\n",
       "      <th>3</th>\n",
       "      <td>2018-03-31</td>\n",
       "      <td>53</td>\n",
       "      <td>5700</td>\n",
       "    </tr>\n",
       "    <tr>\n",
       "      <th>4</th>\n",
       "      <td>2018-03-31</td>\n",
       "      <td>57</td>\n",
       "      <td>1518127</td>\n",
       "    </tr>\n",
       "  </tbody>\n",
       "</table>\n",
       "</div>"
      ],
      "text/plain": [
       "  ReportDate  InnerCode    Holding\n",
       "0 2018-03-31          3  259863093\n",
       "1 2018-03-31         20   14720500\n",
       "2 2018-03-31         26    3170429\n",
       "3 2018-03-31         53       5700\n",
       "4 2018-03-31         57    1518127"
      ]
     },
     "execution_count": 15,
     "metadata": {},
     "output_type": "execute_result"
    }
   ],
   "source": [
    "df.head()"
   ]
  },
  {
   "cell_type": "code",
   "execution_count": 16,
   "metadata": {},
   "outputs": [
    {
     "data": {
      "text/html": [
       "<div>\n",
       "<style scoped>\n",
       "    .dataframe tbody tr th:only-of-type {\n",
       "        vertical-align: middle;\n",
       "    }\n",
       "\n",
       "    .dataframe tbody tr th {\n",
       "        vertical-align: top;\n",
       "    }\n",
       "\n",
       "    .dataframe thead th {\n",
       "        text-align: right;\n",
       "    }\n",
       "</style>\n",
       "<table border=\"1\" class=\"dataframe\">\n",
       "  <thead>\n",
       "    <tr style=\"text-align: right;\">\n",
       "      <th></th>\n",
       "      <th>InnerCode</th>\n",
       "      <th>SecuCode</th>\n",
       "      <th>SecuAbbr</th>\n",
       "    </tr>\n",
       "  </thead>\n",
       "  <tbody>\n",
       "    <tr>\n",
       "      <th>0</th>\n",
       "      <td>3</td>\n",
       "      <td>000001</td>\n",
       "      <td>平安银行</td>\n",
       "    </tr>\n",
       "    <tr>\n",
       "      <th>1</th>\n",
       "      <td>6</td>\n",
       "      <td>000002</td>\n",
       "      <td>万  科Ａ</td>\n",
       "    </tr>\n",
       "    <tr>\n",
       "      <th>2</th>\n",
       "      <td>11</td>\n",
       "      <td>000003</td>\n",
       "      <td>PT金田Ａ</td>\n",
       "    </tr>\n",
       "    <tr>\n",
       "      <th>3</th>\n",
       "      <td>14</td>\n",
       "      <td>000004</td>\n",
       "      <td>国农科技</td>\n",
       "    </tr>\n",
       "    <tr>\n",
       "      <th>4</th>\n",
       "      <td>17</td>\n",
       "      <td>000005</td>\n",
       "      <td>世纪星源</td>\n",
       "    </tr>\n",
       "  </tbody>\n",
       "</table>\n",
       "</div>"
      ],
      "text/plain": [
       "   InnerCode SecuCode SecuAbbr\n",
       "0          3   000001     平安银行\n",
       "1          6   000002    万  科Ａ\n",
       "2         11   000003    PT金田Ａ\n",
       "3         14   000004     国农科技\n",
       "4         17   000005     世纪星源"
      ]
     },
     "execution_count": 16,
     "metadata": {},
     "output_type": "execute_result"
    }
   ],
   "source": [
    "code.head()"
   ]
  },
  {
   "cell_type": "code",
   "execution_count": 17,
   "metadata": {},
   "outputs": [],
   "source": [
    "df = pd.merge(df, code, on=['InnerCode'])"
   ]
  },
  {
   "cell_type": "code",
   "execution_count": 18,
   "metadata": {},
   "outputs": [],
   "source": [
    "df = df.set_index('ReportDate')"
   ]
  },
  {
   "cell_type": "code",
   "execution_count": 19,
   "metadata": {},
   "outputs": [],
   "source": [
    "df = df.sort_index()"
   ]
  },
  {
   "cell_type": "code",
   "execution_count": 20,
   "metadata": {},
   "outputs": [],
   "source": [
    "prev_date, next_date = df.index[0], df.index[-1]"
   ]
  },
  {
   "cell_type": "code",
   "execution_count": 21,
   "metadata": {},
   "outputs": [],
   "source": [
    "prev_df = df.loc[prev_date].sort_values('InnerCode')"
   ]
  },
  {
   "cell_type": "code",
   "execution_count": 22,
   "metadata": {},
   "outputs": [],
   "source": [
    "next_df = df.loc[next_date].sort_values('InnerCode')"
   ]
  },
  {
   "cell_type": "code",
   "execution_count": 23,
   "metadata": {},
   "outputs": [
    {
     "data": {
      "text/html": [
       "<div>\n",
       "<style scoped>\n",
       "    .dataframe tbody tr th:only-of-type {\n",
       "        vertical-align: middle;\n",
       "    }\n",
       "\n",
       "    .dataframe tbody tr th {\n",
       "        vertical-align: top;\n",
       "    }\n",
       "\n",
       "    .dataframe thead th {\n",
       "        text-align: right;\n",
       "    }\n",
       "</style>\n",
       "<table border=\"1\" class=\"dataframe\">\n",
       "  <thead>\n",
       "    <tr style=\"text-align: right;\">\n",
       "      <th></th>\n",
       "      <th>InnerCode</th>\n",
       "      <th>Holding</th>\n",
       "      <th>SecuCode</th>\n",
       "      <th>SecuAbbr</th>\n",
       "    </tr>\n",
       "    <tr>\n",
       "      <th>ReportDate</th>\n",
       "      <th></th>\n",
       "      <th></th>\n",
       "      <th></th>\n",
       "      <th></th>\n",
       "    </tr>\n",
       "  </thead>\n",
       "  <tbody>\n",
       "    <tr>\n",
       "      <th>2017-12-31</th>\n",
       "      <td>3</td>\n",
       "      <td>560456761</td>\n",
       "      <td>000001</td>\n",
       "      <td>平安银行</td>\n",
       "    </tr>\n",
       "    <tr>\n",
       "      <th>2017-12-31</th>\n",
       "      <td>6</td>\n",
       "      <td>217994230</td>\n",
       "      <td>000002</td>\n",
       "      <td>万  科Ａ</td>\n",
       "    </tr>\n",
       "    <tr>\n",
       "      <th>2017-12-31</th>\n",
       "      <td>14</td>\n",
       "      <td>910958</td>\n",
       "      <td>000004</td>\n",
       "      <td>国农科技</td>\n",
       "    </tr>\n",
       "    <tr>\n",
       "      <th>2017-12-31</th>\n",
       "      <td>20</td>\n",
       "      <td>22142371</td>\n",
       "      <td>000006</td>\n",
       "      <td>深振业Ａ</td>\n",
       "    </tr>\n",
       "    <tr>\n",
       "      <th>2017-12-31</th>\n",
       "      <td>26</td>\n",
       "      <td>4056029</td>\n",
       "      <td>000008</td>\n",
       "      <td>神州高铁</td>\n",
       "    </tr>\n",
       "  </tbody>\n",
       "</table>\n",
       "</div>"
      ],
      "text/plain": [
       "            InnerCode    Holding SecuCode SecuAbbr\n",
       "ReportDate                                        \n",
       "2017-12-31          3  560456761   000001     平安银行\n",
       "2017-12-31          6  217994230   000002    万  科Ａ\n",
       "2017-12-31         14     910958   000004     国农科技\n",
       "2017-12-31         20   22142371   000006     深振业Ａ\n",
       "2017-12-31         26    4056029   000008     神州高铁"
      ]
     },
     "execution_count": 23,
     "metadata": {},
     "output_type": "execute_result"
    }
   ],
   "source": [
    "prev_df.head()"
   ]
  },
  {
   "cell_type": "code",
   "execution_count": 24,
   "metadata": {},
   "outputs": [
    {
     "data": {
      "text/html": [
       "<div>\n",
       "<style scoped>\n",
       "    .dataframe tbody tr th:only-of-type {\n",
       "        vertical-align: middle;\n",
       "    }\n",
       "\n",
       "    .dataframe tbody tr th {\n",
       "        vertical-align: top;\n",
       "    }\n",
       "\n",
       "    .dataframe thead th {\n",
       "        text-align: right;\n",
       "    }\n",
       "</style>\n",
       "<table border=\"1\" class=\"dataframe\">\n",
       "  <thead>\n",
       "    <tr style=\"text-align: right;\">\n",
       "      <th></th>\n",
       "      <th>InnerCode</th>\n",
       "      <th>Holding</th>\n",
       "      <th>SecuCode</th>\n",
       "      <th>SecuAbbr</th>\n",
       "    </tr>\n",
       "    <tr>\n",
       "      <th>ReportDate</th>\n",
       "      <th></th>\n",
       "      <th></th>\n",
       "      <th></th>\n",
       "      <th></th>\n",
       "    </tr>\n",
       "  </thead>\n",
       "  <tbody>\n",
       "    <tr>\n",
       "      <th>2018-03-31</th>\n",
       "      <td>3</td>\n",
       "      <td>259863093</td>\n",
       "      <td>000001</td>\n",
       "      <td>平安银行</td>\n",
       "    </tr>\n",
       "    <tr>\n",
       "      <th>2018-03-31</th>\n",
       "      <td>6</td>\n",
       "      <td>215612753</td>\n",
       "      <td>000002</td>\n",
       "      <td>万  科Ａ</td>\n",
       "    </tr>\n",
       "    <tr>\n",
       "      <th>2018-03-31</th>\n",
       "      <td>20</td>\n",
       "      <td>14720500</td>\n",
       "      <td>000006</td>\n",
       "      <td>深振业Ａ</td>\n",
       "    </tr>\n",
       "    <tr>\n",
       "      <th>2018-03-31</th>\n",
       "      <td>26</td>\n",
       "      <td>3170429</td>\n",
       "      <td>000008</td>\n",
       "      <td>神州高铁</td>\n",
       "    </tr>\n",
       "    <tr>\n",
       "      <th>2018-03-31</th>\n",
       "      <td>28</td>\n",
       "      <td>295278</td>\n",
       "      <td>000009</td>\n",
       "      <td>中国宝安</td>\n",
       "    </tr>\n",
       "  </tbody>\n",
       "</table>\n",
       "</div>"
      ],
      "text/plain": [
       "            InnerCode    Holding SecuCode SecuAbbr\n",
       "ReportDate                                        \n",
       "2018-03-31          3  259863093   000001     平安银行\n",
       "2018-03-31          6  215612753   000002    万  科Ａ\n",
       "2018-03-31         20   14720500   000006     深振业Ａ\n",
       "2018-03-31         26    3170429   000008     神州高铁\n",
       "2018-03-31         28     295278   000009     中国宝安"
      ]
     },
     "execution_count": 24,
     "metadata": {},
     "output_type": "execute_result"
    }
   ],
   "source": [
    "next_df.head()"
   ]
  },
  {
   "cell_type": "code",
   "execution_count": 25,
   "metadata": {},
   "outputs": [
    {
     "data": {
      "text/html": [
       "<div>\n",
       "<style scoped>\n",
       "    .dataframe tbody tr th:only-of-type {\n",
       "        vertical-align: middle;\n",
       "    }\n",
       "\n",
       "    .dataframe tbody tr th {\n",
       "        vertical-align: top;\n",
       "    }\n",
       "\n",
       "    .dataframe thead th {\n",
       "        text-align: right;\n",
       "    }\n",
       "</style>\n",
       "<table border=\"1\" class=\"dataframe\">\n",
       "  <thead>\n",
       "    <tr style=\"text-align: right;\">\n",
       "      <th></th>\n",
       "      <th>InnerCode</th>\n",
       "      <th>Holding</th>\n",
       "      <th>SecuCode</th>\n",
       "      <th>SecuAbbr</th>\n",
       "    </tr>\n",
       "    <tr>\n",
       "      <th>ReportDate</th>\n",
       "      <th></th>\n",
       "      <th></th>\n",
       "      <th></th>\n",
       "      <th></th>\n",
       "    </tr>\n",
       "  </thead>\n",
       "  <tbody>\n",
       "    <tr>\n",
       "      <th>2018-03-31</th>\n",
       "      <td>43</td>\n",
       "      <td>79800</td>\n",
       "      <td>000014</td>\n",
       "      <td>沙河股份</td>\n",
       "    </tr>\n",
       "  </tbody>\n",
       "</table>\n",
       "</div>"
      ],
      "text/plain": [
       "            InnerCode  Holding SecuCode SecuAbbr\n",
       "ReportDate                                      \n",
       "2018-03-31         43    79800   000014     沙河股份"
      ]
     },
     "execution_count": 25,
     "metadata": {},
     "output_type": "execute_result"
    }
   ],
   "source": [
    "df[df['SecuCode'] == '000014']"
   ]
  },
  {
   "cell_type": "code",
   "execution_count": 26,
   "metadata": {},
   "outputs": [],
   "source": [
    "prev_df = prev_df.rename(columns={'Holding': 'Prev'})\n",
    "next_df = next_df.rename(columns={'Holding': 'Next'})"
   ]
  },
  {
   "cell_type": "code",
   "execution_count": 27,
   "metadata": {},
   "outputs": [],
   "source": [
    "hold_df = pd.merge(prev_df, next_df, how='outer').sort_values('InnerCode')"
   ]
  },
  {
   "cell_type": "code",
   "execution_count": 28,
   "metadata": {},
   "outputs": [],
   "source": [
    "hold_df = hold_df.fillna(0)"
   ]
  },
  {
   "cell_type": "code",
   "execution_count": 29,
   "metadata": {},
   "outputs": [],
   "source": [
    "hold_df['Change'] = hold_df['Next'] - hold_df['Prev']"
   ]
  },
  {
   "cell_type": "code",
   "execution_count": 30,
   "metadata": {},
   "outputs": [],
   "source": [
    "hold_df = hold_df.set_index('SecuCode')"
   ]
  },
  {
   "cell_type": "code",
   "execution_count": 31,
   "metadata": {},
   "outputs": [],
   "source": [
    "hold_df.to_excel(u'D:/Data/fund/持仓/基金持仓变动_2018Q1.xlsx')"
   ]
  },
  {
   "cell_type": "code",
   "execution_count": 32,
   "metadata": {},
   "outputs": [
    {
     "data": {
      "text/html": [
       "<div>\n",
       "<style scoped>\n",
       "    .dataframe tbody tr th:only-of-type {\n",
       "        vertical-align: middle;\n",
       "    }\n",
       "\n",
       "    .dataframe tbody tr th {\n",
       "        vertical-align: top;\n",
       "    }\n",
       "\n",
       "    .dataframe thead th {\n",
       "        text-align: right;\n",
       "    }\n",
       "</style>\n",
       "<table border=\"1\" class=\"dataframe\">\n",
       "  <thead>\n",
       "    <tr style=\"text-align: right;\">\n",
       "      <th></th>\n",
       "      <th>InnerCode</th>\n",
       "      <th>Prev</th>\n",
       "      <th>SecuAbbr</th>\n",
       "      <th>Next</th>\n",
       "      <th>Change</th>\n",
       "    </tr>\n",
       "    <tr>\n",
       "      <th>SecuCode</th>\n",
       "      <th></th>\n",
       "      <th></th>\n",
       "      <th></th>\n",
       "      <th></th>\n",
       "      <th></th>\n",
       "    </tr>\n",
       "  </thead>\n",
       "  <tbody>\n",
       "    <tr>\n",
       "      <th>000001</th>\n",
       "      <td>3</td>\n",
       "      <td>560456761.0</td>\n",
       "      <td>平安银行</td>\n",
       "      <td>259863093.0</td>\n",
       "      <td>-300593668.0</td>\n",
       "    </tr>\n",
       "    <tr>\n",
       "      <th>000002</th>\n",
       "      <td>6</td>\n",
       "      <td>217994230.0</td>\n",
       "      <td>万  科Ａ</td>\n",
       "      <td>215612753.0</td>\n",
       "      <td>-2381477.0</td>\n",
       "    </tr>\n",
       "    <tr>\n",
       "      <th>000004</th>\n",
       "      <td>14</td>\n",
       "      <td>910958.0</td>\n",
       "      <td>国农科技</td>\n",
       "      <td>0.0</td>\n",
       "      <td>-910958.0</td>\n",
       "    </tr>\n",
       "    <tr>\n",
       "      <th>000006</th>\n",
       "      <td>20</td>\n",
       "      <td>22142371.0</td>\n",
       "      <td>深振业Ａ</td>\n",
       "      <td>14720500.0</td>\n",
       "      <td>-7421871.0</td>\n",
       "    </tr>\n",
       "    <tr>\n",
       "      <th>000008</th>\n",
       "      <td>26</td>\n",
       "      <td>4056029.0</td>\n",
       "      <td>神州高铁</td>\n",
       "      <td>3170429.0</td>\n",
       "      <td>-885600.0</td>\n",
       "    </tr>\n",
       "  </tbody>\n",
       "</table>\n",
       "</div>"
      ],
      "text/plain": [
       "          InnerCode         Prev SecuAbbr         Next       Change\n",
       "SecuCode                                                           \n",
       "000001            3  560456761.0     平安银行  259863093.0 -300593668.0\n",
       "000002            6  217994230.0    万  科Ａ  215612753.0   -2381477.0\n",
       "000004           14     910958.0     国农科技          0.0    -910958.0\n",
       "000006           20   22142371.0     深振业Ａ   14720500.0   -7421871.0\n",
       "000008           26    4056029.0     神州高铁    3170429.0    -885600.0"
      ]
     },
     "execution_count": 32,
     "metadata": {},
     "output_type": "execute_result"
    }
   ],
   "source": [
    "hold_df.head()"
   ]
  },
  {
   "cell_type": "code",
   "execution_count": 38,
   "metadata": {},
   "outputs": [],
   "source": [
    "def wind_code(secu):\n",
    "    if secu.startswith('600'):\n",
    "        return secu + '.SH'\n",
    "    else:\n",
    "        return secu + '.SZ'"
   ]
  },
  {
   "cell_type": "code",
   "execution_count": 39,
   "metadata": {},
   "outputs": [],
   "source": [
    "hold_df['WindCode'] = hold_df.index.map(lambda x: wind_code(x))"
   ]
  },
  {
   "cell_type": "code",
   "execution_count": 40,
   "metadata": {},
   "outputs": [],
   "source": [
    "data = w.wss(hold_df['WindCode'].tolist(), \"industry_citic\",\"tradeDate=20180521;industryType=1\")"
   ]
  },
  {
   "cell_type": "code",
   "execution_count": 42,
   "metadata": {},
   "outputs": [],
   "source": [
    "hold_df['industry'] = data.Data[0]"
   ]
  },
  {
   "cell_type": "code",
   "execution_count": 43,
   "metadata": {},
   "outputs": [
    {
     "data": {
      "text/html": [
       "<div>\n",
       "<style scoped>\n",
       "    .dataframe tbody tr th:only-of-type {\n",
       "        vertical-align: middle;\n",
       "    }\n",
       "\n",
       "    .dataframe tbody tr th {\n",
       "        vertical-align: top;\n",
       "    }\n",
       "\n",
       "    .dataframe thead th {\n",
       "        text-align: right;\n",
       "    }\n",
       "</style>\n",
       "<table border=\"1\" class=\"dataframe\">\n",
       "  <thead>\n",
       "    <tr style=\"text-align: right;\">\n",
       "      <th></th>\n",
       "      <th>InnerCode</th>\n",
       "      <th>Prev</th>\n",
       "      <th>SecuAbbr</th>\n",
       "      <th>Next</th>\n",
       "      <th>Change</th>\n",
       "      <th>WindCode</th>\n",
       "      <th>industry</th>\n",
       "    </tr>\n",
       "    <tr>\n",
       "      <th>SecuCode</th>\n",
       "      <th></th>\n",
       "      <th></th>\n",
       "      <th></th>\n",
       "      <th></th>\n",
       "      <th></th>\n",
       "      <th></th>\n",
       "      <th></th>\n",
       "    </tr>\n",
       "  </thead>\n",
       "  <tbody>\n",
       "    <tr>\n",
       "      <th>000001</th>\n",
       "      <td>3</td>\n",
       "      <td>560456761.0</td>\n",
       "      <td>平安银行</td>\n",
       "      <td>259863093.0</td>\n",
       "      <td>-300593668.0</td>\n",
       "      <td>000001.SZ</td>\n",
       "      <td>银行</td>\n",
       "    </tr>\n",
       "    <tr>\n",
       "      <th>000002</th>\n",
       "      <td>6</td>\n",
       "      <td>217994230.0</td>\n",
       "      <td>万  科Ａ</td>\n",
       "      <td>215612753.0</td>\n",
       "      <td>-2381477.0</td>\n",
       "      <td>000002.SZ</td>\n",
       "      <td>房地产</td>\n",
       "    </tr>\n",
       "    <tr>\n",
       "      <th>000004</th>\n",
       "      <td>14</td>\n",
       "      <td>910958.0</td>\n",
       "      <td>国农科技</td>\n",
       "      <td>0.0</td>\n",
       "      <td>-910958.0</td>\n",
       "      <td>000004.SZ</td>\n",
       "      <td>医药</td>\n",
       "    </tr>\n",
       "    <tr>\n",
       "      <th>000006</th>\n",
       "      <td>20</td>\n",
       "      <td>22142371.0</td>\n",
       "      <td>深振业Ａ</td>\n",
       "      <td>14720500.0</td>\n",
       "      <td>-7421871.0</td>\n",
       "      <td>000006.SZ</td>\n",
       "      <td>房地产</td>\n",
       "    </tr>\n",
       "    <tr>\n",
       "      <th>000008</th>\n",
       "      <td>26</td>\n",
       "      <td>4056029.0</td>\n",
       "      <td>神州高铁</td>\n",
       "      <td>3170429.0</td>\n",
       "      <td>-885600.0</td>\n",
       "      <td>000008.SZ</td>\n",
       "      <td>机械</td>\n",
       "    </tr>\n",
       "  </tbody>\n",
       "</table>\n",
       "</div>"
      ],
      "text/plain": [
       "          InnerCode         Prev SecuAbbr         Next       Change  \\\n",
       "SecuCode                                                              \n",
       "000001            3  560456761.0     平安银行  259863093.0 -300593668.0   \n",
       "000002            6  217994230.0    万  科Ａ  215612753.0   -2381477.0   \n",
       "000004           14     910958.0     国农科技          0.0    -910958.0   \n",
       "000006           20   22142371.0     深振业Ａ   14720500.0   -7421871.0   \n",
       "000008           26    4056029.0     神州高铁    3170429.0    -885600.0   \n",
       "\n",
       "           WindCode industry  \n",
       "SecuCode                      \n",
       "000001    000001.SZ       银行  \n",
       "000002    000002.SZ      房地产  \n",
       "000004    000004.SZ       医药  \n",
       "000006    000006.SZ      房地产  \n",
       "000008    000008.SZ       机械  "
      ]
     },
     "execution_count": 43,
     "metadata": {},
     "output_type": "execute_result"
    }
   ],
   "source": [
    "hold_df.head()"
   ]
  },
  {
   "cell_type": "code",
   "execution_count": 44,
   "metadata": {},
   "outputs": [],
   "source": [
    "hold_df['Change Pct'] = hold_df['Change'] / hold_df['Prev']"
   ]
  },
  {
   "cell_type": "code",
   "execution_count": 47,
   "metadata": {},
   "outputs": [],
   "source": [
    "hold_df['Change Pct'] = hold_df['Change Pct'].replace([np.inf], 1.0)"
   ]
  },
  {
   "cell_type": "code",
   "execution_count": 53,
   "metadata": {},
   "outputs": [],
   "source": [
    "industry_change = hold_df.groupby('industry')['Change Pct'].median()"
   ]
  },
  {
   "cell_type": "code",
   "execution_count": 62,
   "metadata": {},
   "outputs": [],
   "source": [
    "industry_change = industry_change.sort_values(ascending=False)"
   ]
  },
  {
   "cell_type": "code",
   "execution_count": 79,
   "metadata": {},
   "outputs": [
    {
     "data": {
      "text/plain": [
       "industry\n",
       "计算机        1.000000\n",
       "石油石化       0.603948\n",
       "纺织服装       0.517011\n",
       "交通运输       0.323111\n",
       "传媒         0.268702\n",
       "煤炭         0.201178\n",
       "商贸零售       0.102299\n",
       "医药         0.081561\n",
       "食品饮料       0.063575\n",
       "电子元器件      0.013348\n",
       "轻工制造       0.000000\n",
       "机械         0.000000\n",
       "家电        -0.047149\n",
       "房地产       -0.067346\n",
       "建材        -0.067569\n",
       "基础化工      -0.067909\n",
       "有色金属      -0.072627\n",
       "银行        -0.085061\n",
       "通信        -0.090090\n",
       "农林牧渔      -0.104429\n",
       "国防军工      -0.122185\n",
       "非银行金融     -0.135493\n",
       "综合        -0.182928\n",
       "钢铁        -0.195026\n",
       "电力设备      -0.213781\n",
       "建筑        -0.254478\n",
       "电力及公用事业   -0.260077\n",
       "餐饮旅游      -0.348002\n",
       "汽车        -0.381332\n",
       "Name: Change Pct, dtype: float64"
      ]
     },
     "execution_count": 79,
     "metadata": {},
     "output_type": "execute_result"
    }
   ],
   "source": [
    "industry_change"
   ]
  },
  {
   "cell_type": "code",
   "execution_count": 63,
   "metadata": {},
   "outputs": [],
   "source": [
    "pd.DataFrame({u'change': industry_change}).to_excel(u'D:/Data/fund/持仓/基金持仓行业变动_2018Q1.xlsx')"
   ]
  },
  {
   "cell_type": "markdown",
   "metadata": {},
   "source": [
    "# 资产价格变动"
   ]
  },
  {
   "cell_type": "code",
   "execution_count": 68,
   "metadata": {},
   "outputs": [],
   "source": [
    "codes = ['CI005%03d.WI'%(i) for i in range(1, 30)]"
   ]
  },
  {
   "cell_type": "code",
   "execution_count": 70,
   "metadata": {},
   "outputs": [],
   "source": [
    "data = w.wsd(codes, 'close', '2018-01-01', '2018-03-31')"
   ]
  },
  {
   "cell_type": "code",
   "execution_count": 71,
   "metadata": {},
   "outputs": [],
   "source": [
    "df = pd.DataFrame(np.array(data.Data).T, index=data.Times, columns=codes)"
   ]
  },
  {
   "cell_type": "code",
   "execution_count": 75,
   "metadata": {},
   "outputs": [],
   "source": [
    "ret = df.pct_change(df.shape[0]-1).iloc[-1]"
   ]
  },
  {
   "cell_type": "code",
   "execution_count": 78,
   "metadata": {},
   "outputs": [
    {
     "data": {
      "text/plain": [
       "CI005027.WI    0.103064\n",
       "CI005015.WI    0.067018\n",
       "CI005018.WI    0.061881\n",
       "CI005012.WI   -0.010811\n",
       "CI005017.WI   -0.026763\n",
       "CI005028.WI   -0.030617\n",
       "CI005025.WI   -0.032186\n",
       "CI005021.WI   -0.032976\n",
       "CI005014.WI   -0.033179\n",
       "CI005009.WI   -0.038934\n",
       "CI005016.WI   -0.039622\n",
       "CI005023.WI   -0.041126\n",
       "CI005024.WI   -0.051221\n",
       "CI005026.WI   -0.056155\n",
       "CI005001.WI   -0.057538\n",
       "CI005008.WI   -0.059524\n",
       "CI005003.WI   -0.063886\n",
       "CI005010.WI   -0.067777\n",
       "CI005006.WI   -0.068826\n",
       "CI005019.WI   -0.070663\n",
       "CI005004.WI   -0.071986\n",
       "CI005013.WI   -0.075606\n",
       "CI005007.WI   -0.078731\n",
       "CI005011.WI   -0.080595\n",
       "CI005020.WI   -0.082692\n",
       "CI005005.WI   -0.090937\n",
       "CI005022.WI   -0.103751\n",
       "CI005029.WI   -0.118580\n",
       "CI005002.WI   -0.132991\n",
       "Name: 2018-03-30, dtype: float64"
      ]
     },
     "execution_count": 78,
     "metadata": {},
     "output_type": "execute_result"
    }
   ],
   "source": [
    "ret.sort_values(ascending=False)"
   ]
  },
  {
   "cell_type": "code",
   "execution_count": 80,
   "metadata": {},
   "outputs": [],
   "source": [
    "data = w.wss(ret.index.tolist(), 'sec_name', 'tradeDate=20180521;industryType=1')"
   ]
  },
  {
   "cell_type": "code",
   "execution_count": 108,
   "metadata": {},
   "outputs": [],
   "source": [
    "df = pd.DataFrame({'return': ret.values}, index=data.Data[0])"
   ]
  },
  {
   "cell_type": "code",
   "execution_count": 109,
   "metadata": {},
   "outputs": [],
   "source": [
    "df.index = df.index.map(lambda x: x[:x.find('(')])"
   ]
  },
  {
   "cell_type": "code",
   "execution_count": 111,
   "metadata": {},
   "outputs": [],
   "source": [
    "df['change'] = industry_change.reindex(df.index)"
   ]
  },
  {
   "cell_type": "code",
   "execution_count": 121,
   "metadata": {},
   "outputs": [
    {
     "data": {
      "image/png": "[encoded data removed]",
      "text/plain": [
       "<Figure size 1152x648 with 1 Axes>"
      ]
     },
     "metadata": {},
     "output_type": "display_data"
    }
   ],
   "source": [
    "plt.figure(figsize=(16, 9))\n",
    "plt.scatter(df['change'], df['return'])\n",
    "for i, name in enumerate(df.index):\n",
    "    plt.annotate(name, (df['change'][i], df['return'][i]), fontsize=12)"
   ]
  },
  {
   "cell_type": "code",
   "execution_count": null,
   "metadata": {},
   "outputs": [],
   "source": []
  }
 ],
 "metadata": {
  "kernelspec": {
   "display_name": "Python 2",
   "language": "python",
   "name": "python2"
  },
  "language_info": {
   "codemirror_mode": {
    "name": "ipython",
    "version": 2
   },
   "file_extension": ".py",
   "mimetype": "text/x-python",
   "name": "python",
   "nbconvert_exporter": "python",
   "pygments_lexer": "ipython2",
   "version": "2.7.14"
  }
 },
 "nbformat": 4,
 "nbformat_minor": 2
}
