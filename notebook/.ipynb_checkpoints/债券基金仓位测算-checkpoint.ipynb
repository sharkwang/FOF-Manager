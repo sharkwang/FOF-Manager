{
 "cells": [
  {
   "cell_type": "code",
   "execution_count": 1,
   "metadata": {},
   "outputs": [],
   "source": [
    "import pandas as pd\n",
    "import numpy as np\n",
    "import matplotlib.pyplot as plt\n",
    "from scipy.optimize import minimize\n",
    "from WindPy import w\n",
    "from sklearn.linear_model import LinearRegression\n",
    "import datetime\n",
    "%matplotlib inline"
   ]
  },
  {
   "cell_type": "code",
   "execution_count": null,
   "metadata": {},
   "outputs": [],
   "source": [
    "w.start()"
   ]
  },
  {
   "cell_type": "code",
   "execution_count": null,
   "metadata": {},
   "outputs": [],
   "source": [
    "start_date, end_date = '2019-11-01', datetime.datetime.today() - datetime.timedelta(2)"
   ]
  },
  {
   "cell_type": "markdown",
   "metadata": {},
   "source": [
    "# 获取债券指数历史收益率"
   ]
  },
  {
   "cell_type": "code",
   "execution_count": null,
   "metadata": {},
   "outputs": [],
   "source": [
    "codes = 'CBA00111.CS, CBA00121.CS, CBA00131.CS, CBA00141.CS, CBA00151.CS'"
   ]
  },
  {
   "cell_type": "code",
   "execution_count": 154,
   "metadata": {},
   "outputs": [],
   "source": [
    "data = w.wsd(codes, 'close', start_date, end_date)"
   ]
  },
  {
   "cell_type": "code",
   "execution_count": 155,
   "metadata": {},
   "outputs": [
    {
     "data": {
      "text/plain": [
       ".ErrorCode=0\n",
       ".Codes=[CBA00111.CS,CBA00121.CS,CBA00131.CS,CBA00141.CS,CBA00151.CS]\n",
       ".Fields=[CLOSE]\n",
       ".Times=[20191101,20191104,20191105,20191106,20191107,20191108,20191111,20191112,20191113,20191114,...]\n",
       ".Data=[[173.8878,173.9304,173.9492,173.9643,173.9801,173.9994,174.0458,174.0717,174.071,174.0729,...],[189.6161,189.6429,189.6648,189.7324,189.7648,189.7956,189.8523,189.8894,189.9037,189.926,...],[202.8688,202.8424,202.9523,203.0435,203.0818,203.1123,203.259,203.2941,203.3555,203.3767,...],[209.7281,209.6211,209.8975,210.0217,210.1693,210.1673,210.5002,210.6639,210.7372,210.7793,...],[196.8349,196.6795,197.1234,197.1317,197.1489,197.2316,197.5256,197.5199,197.7198,197.7868,...]]"
      ]
     },
     "execution_count": 155,
     "metadata": {},
     "output_type": "execute_result"
    }
   ],
   "source": [
    "data"
   ]
  },
  {
   "cell_type": "code",
   "execution_count": 156,
   "metadata": {},
   "outputs": [],
   "source": [
    "df = pd.DataFrame(np.array(data.Data).T, index=data.Times, columns=data.Codes)"
   ]
  },
  {
   "cell_type": "code",
   "execution_count": 157,
   "metadata": {},
   "outputs": [
    {
     "data": {
      "text/html": [
       "<div>\n",
       "<style scoped>\n",
       "    .dataframe tbody tr th:only-of-type {\n",
       "        vertical-align: middle;\n",
       "    }\n",
       "\n",
       "    .dataframe tbody tr th {\n",
       "        vertical-align: top;\n",
       "    }\n",
       "\n",
       "    .dataframe thead th {\n",
       "        text-align: right;\n",
       "    }\n",
       "</style>\n",
       "<table border=\"1\" class=\"dataframe\">\n",
       "  <thead>\n",
       "    <tr style=\"text-align: right;\">\n",
       "      <th></th>\n",
       "      <th>CBA00111.CS</th>\n",
       "      <th>CBA00121.CS</th>\n",
       "      <th>CBA00131.CS</th>\n",
       "      <th>CBA00141.CS</th>\n",
       "      <th>CBA00151.CS</th>\n",
       "    </tr>\n",
       "  </thead>\n",
       "  <tbody>\n",
       "    <tr>\n",
       "      <th>2019-11-01</th>\n",
       "      <td>173.8878</td>\n",
       "      <td>189.6161</td>\n",
       "      <td>202.8688</td>\n",
       "      <td>209.7281</td>\n",
       "      <td>196.8349</td>\n",
       "    </tr>\n",
       "    <tr>\n",
       "      <th>2019-11-04</th>\n",
       "      <td>173.9304</td>\n",
       "      <td>189.6429</td>\n",
       "      <td>202.8424</td>\n",
       "      <td>209.6211</td>\n",
       "      <td>196.6795</td>\n",
       "    </tr>\n",
       "    <tr>\n",
       "      <th>2019-11-05</th>\n",
       "      <td>173.9492</td>\n",
       "      <td>189.6648</td>\n",
       "      <td>202.9523</td>\n",
       "      <td>209.8975</td>\n",
       "      <td>197.1234</td>\n",
       "    </tr>\n",
       "    <tr>\n",
       "      <th>2019-11-06</th>\n",
       "      <td>173.9643</td>\n",
       "      <td>189.7324</td>\n",
       "      <td>203.0435</td>\n",
       "      <td>210.0217</td>\n",
       "      <td>197.1317</td>\n",
       "    </tr>\n",
       "    <tr>\n",
       "      <th>2019-11-07</th>\n",
       "      <td>173.9801</td>\n",
       "      <td>189.7648</td>\n",
       "      <td>203.0818</td>\n",
       "      <td>210.1693</td>\n",
       "      <td>197.1489</td>\n",
       "    </tr>\n",
       "  </tbody>\n",
       "</table>\n",
       "</div>"
      ],
      "text/plain": [
       "            CBA00111.CS  CBA00121.CS  CBA00131.CS  CBA00141.CS  CBA00151.CS\n",
       "2019-11-01     173.8878     189.6161     202.8688     209.7281     196.8349\n",
       "2019-11-04     173.9304     189.6429     202.8424     209.6211     196.6795\n",
       "2019-11-05     173.9492     189.6648     202.9523     209.8975     197.1234\n",
       "2019-11-06     173.9643     189.7324     203.0435     210.0217     197.1317\n",
       "2019-11-07     173.9801     189.7648     203.0818     210.1693     197.1489"
      ]
     },
     "execution_count": 157,
     "metadata": {},
     "output_type": "execute_result"
    }
   ],
   "source": [
    "df.head()"
   ]
  },
  {
   "cell_type": "code",
   "execution_count": 131,
   "metadata": {},
   "outputs": [],
   "source": [
    "rdf = df.pct_change().dropna()"
   ]
  },
  {
   "cell_type": "code",
   "execution_count": 132,
   "metadata": {},
   "outputs": [
    {
     "data": {
      "text/html": [
       "<div>\n",
       "<style scoped>\n",
       "    .dataframe tbody tr th:only-of-type {\n",
       "        vertical-align: middle;\n",
       "    }\n",
       "\n",
       "    .dataframe tbody tr th {\n",
       "        vertical-align: top;\n",
       "    }\n",
       "\n",
       "    .dataframe thead th {\n",
       "        text-align: right;\n",
       "    }\n",
       "</style>\n",
       "<table border=\"1\" class=\"dataframe\">\n",
       "  <thead>\n",
       "    <tr style=\"text-align: right;\">\n",
       "      <th></th>\n",
       "      <th>CBA00111.CS</th>\n",
       "      <th>CBA00121.CS</th>\n",
       "      <th>CBA00131.CS</th>\n",
       "      <th>CBA00141.CS</th>\n",
       "      <th>CBA00151.CS</th>\n",
       "    </tr>\n",
       "  </thead>\n",
       "  <tbody>\n",
       "    <tr>\n",
       "      <th>2019-11-18</th>\n",
       "      <td>0.000327</td>\n",
       "      <td>0.000611</td>\n",
       "      <td>0.001103</td>\n",
       "      <td>0.001837</td>\n",
       "      <td>0.002483</td>\n",
       "    </tr>\n",
       "    <tr>\n",
       "      <th>2019-11-19</th>\n",
       "      <td>0.000156</td>\n",
       "      <td>0.000423</td>\n",
       "      <td>0.000751</td>\n",
       "      <td>0.001100</td>\n",
       "      <td>0.001942</td>\n",
       "    </tr>\n",
       "    <tr>\n",
       "      <th>2019-11-20</th>\n",
       "      <td>0.000157</td>\n",
       "      <td>0.000292</td>\n",
       "      <td>0.000395</td>\n",
       "      <td>0.000341</td>\n",
       "      <td>-0.000066</td>\n",
       "    </tr>\n",
       "    <tr>\n",
       "      <th>2019-11-21</th>\n",
       "      <td>0.000106</td>\n",
       "      <td>0.000336</td>\n",
       "      <td>0.000608</td>\n",
       "      <td>0.000509</td>\n",
       "      <td>0.000459</td>\n",
       "    </tr>\n",
       "    <tr>\n",
       "      <th>2019-11-22</th>\n",
       "      <td>0.000142</td>\n",
       "      <td>0.000128</td>\n",
       "      <td>0.000241</td>\n",
       "      <td>0.000253</td>\n",
       "      <td>0.000134</td>\n",
       "    </tr>\n",
       "  </tbody>\n",
       "</table>\n",
       "</div>"
      ],
      "text/plain": [
       "            CBA00111.CS  CBA00121.CS  CBA00131.CS  CBA00141.CS  CBA00151.CS\n",
       "2019-11-18     0.000327     0.000611     0.001103     0.001837     0.002483\n",
       "2019-11-19     0.000156     0.000423     0.000751     0.001100     0.001942\n",
       "2019-11-20     0.000157     0.000292     0.000395     0.000341    -0.000066\n",
       "2019-11-21     0.000106     0.000336     0.000608     0.000509     0.000459\n",
       "2019-11-22     0.000142     0.000128     0.000241     0.000253     0.000134"
      ]
     },
     "execution_count": 132,
     "metadata": {},
     "output_type": "execute_result"
    }
   ],
   "source": [
    "rdf.tail()"
   ]
  },
  {
   "cell_type": "markdown",
   "metadata": {},
   "source": [
    "# 获取债券基金历史收益率"
   ]
  },
  {
   "cell_type": "code",
   "execution_count": 133,
   "metadata": {},
   "outputs": [],
   "source": [
    "fund_df = pd.read_excel(u'../data/债券基金池.xlsx')"
   ]
  },
  {
   "cell_type": "code",
   "execution_count": 134,
   "metadata": {},
   "outputs": [
    {
     "data": {
      "text/html": [
       "<div>\n",
       "<style scoped>\n",
       "    .dataframe tbody tr th:only-of-type {\n",
       "        vertical-align: middle;\n",
       "    }\n",
       "\n",
       "    .dataframe tbody tr th {\n",
       "        vertical-align: top;\n",
       "    }\n",
       "\n",
       "    .dataframe thead th {\n",
       "        text-align: right;\n",
       "    }\n",
       "</style>\n",
       "<table border=\"1\" class=\"dataframe\">\n",
       "  <thead>\n",
       "    <tr style=\"text-align: right;\">\n",
       "      <th></th>\n",
       "      <th>代码</th>\n",
       "      <th>名称</th>\n",
       "    </tr>\n",
       "  </thead>\n",
       "  <tbody>\n",
       "    <tr>\n",
       "      <th>0</th>\n",
       "      <td>002549.OF</td>\n",
       "      <td>嘉实稳祥纯债A</td>\n",
       "    </tr>\n",
       "    <tr>\n",
       "      <th>1</th>\n",
       "      <td>004544.OF</td>\n",
       "      <td>嘉实稳华纯债</td>\n",
       "    </tr>\n",
       "    <tr>\n",
       "      <th>2</th>\n",
       "      <td>070037.OF</td>\n",
       "      <td>嘉实纯债A</td>\n",
       "    </tr>\n",
       "    <tr>\n",
       "      <th>3</th>\n",
       "      <td>519723.OF</td>\n",
       "      <td>交银双轮动AB</td>\n",
       "    </tr>\n",
       "    <tr>\n",
       "      <th>4</th>\n",
       "      <td>000147.OF</td>\n",
       "      <td>易方达高等级信用债A</td>\n",
       "    </tr>\n",
       "    <tr>\n",
       "      <th>5</th>\n",
       "      <td>003358.OF</td>\n",
       "      <td>易方达7-10年国开行</td>\n",
       "    </tr>\n",
       "    <tr>\n",
       "      <th>6</th>\n",
       "      <td>070009.OF</td>\n",
       "      <td>嘉实超短债</td>\n",
       "    </tr>\n",
       "  </tbody>\n",
       "</table>\n",
       "</div>"
      ],
      "text/plain": [
       "          代码           名称\n",
       "0  002549.OF      嘉实稳祥纯债A\n",
       "1  004544.OF       嘉实稳华纯债\n",
       "2  070037.OF        嘉实纯债A\n",
       "3  519723.OF      交银双轮动AB\n",
       "4  000147.OF   易方达高等级信用债A\n",
       "5  003358.OF  易方达7-10年国开行\n",
       "6  070009.OF        嘉实超短债"
      ]
     },
     "execution_count": 134,
     "metadata": {},
     "output_type": "execute_result"
    }
   ],
   "source": [
    "fund_df"
   ]
  },
  {
   "cell_type": "code",
   "execution_count": 135,
   "metadata": {},
   "outputs": [],
   "source": [
    "codes = fund_df[u'代码'].tolist()"
   ]
  },
  {
   "cell_type": "code",
   "execution_count": 136,
   "metadata": {},
   "outputs": [],
   "source": [
    "data = w.wsd(codes, 'nav', start_date, end_date)"
   ]
  },
  {
   "cell_type": "code",
   "execution_count": 137,
   "metadata": {},
   "outputs": [],
   "source": [
    "fdf = pd.DataFrame(np.array(data.Data).T, index=data.Times, columns=data.Codes)"
   ]
  },
  {
   "cell_type": "code",
   "execution_count": 138,
   "metadata": {},
   "outputs": [
    {
     "data": {
      "text/html": [
       "<div>\n",
       "<style scoped>\n",
       "    .dataframe tbody tr th:only-of-type {\n",
       "        vertical-align: middle;\n",
       "    }\n",
       "\n",
       "    .dataframe tbody tr th {\n",
       "        vertical-align: top;\n",
       "    }\n",
       "\n",
       "    .dataframe thead th {\n",
       "        text-align: right;\n",
       "    }\n",
       "</style>\n",
       "<table border=\"1\" class=\"dataframe\">\n",
       "  <thead>\n",
       "    <tr style=\"text-align: right;\">\n",
       "      <th></th>\n",
       "      <th>002549.OF</th>\n",
       "      <th>004544.OF</th>\n",
       "      <th>070037.OF</th>\n",
       "      <th>519723.OF</th>\n",
       "      <th>000147.OF</th>\n",
       "      <th>003358.OF</th>\n",
       "      <th>070009.OF</th>\n",
       "    </tr>\n",
       "  </thead>\n",
       "  <tbody>\n",
       "    <tr>\n",
       "      <th>2019-01-02</th>\n",
       "      <td>1.1504</td>\n",
       "      <td>1.1030</td>\n",
       "      <td>1.121</td>\n",
       "      <td>1.080</td>\n",
       "      <td>1.250</td>\n",
       "      <td>1.0372</td>\n",
       "      <td>1.0516</td>\n",
       "    </tr>\n",
       "    <tr>\n",
       "      <th>2019-01-03</th>\n",
       "      <td>1.1518</td>\n",
       "      <td>1.1050</td>\n",
       "      <td>1.122</td>\n",
       "      <td>1.081</td>\n",
       "      <td>1.252</td>\n",
       "      <td>1.0394</td>\n",
       "      <td>1.0521</td>\n",
       "    </tr>\n",
       "    <tr>\n",
       "      <th>2019-01-04</th>\n",
       "      <td>1.1518</td>\n",
       "      <td>1.1054</td>\n",
       "      <td>1.123</td>\n",
       "      <td>1.082</td>\n",
       "      <td>1.254</td>\n",
       "      <td>1.0388</td>\n",
       "      <td>1.0524</td>\n",
       "    </tr>\n",
       "    <tr>\n",
       "      <th>2019-01-07</th>\n",
       "      <td>1.1525</td>\n",
       "      <td>1.1065</td>\n",
       "      <td>1.124</td>\n",
       "      <td>1.084</td>\n",
       "      <td>1.256</td>\n",
       "      <td>1.0391</td>\n",
       "      <td>1.0529</td>\n",
       "    </tr>\n",
       "    <tr>\n",
       "      <th>2019-01-08</th>\n",
       "      <td>1.1540</td>\n",
       "      <td>1.1072</td>\n",
       "      <td>1.125</td>\n",
       "      <td>1.085</td>\n",
       "      <td>1.258</td>\n",
       "      <td>1.0411</td>\n",
       "      <td>1.0533</td>\n",
       "    </tr>\n",
       "  </tbody>\n",
       "</table>\n",
       "</div>"
      ],
      "text/plain": [
       "            002549.OF  004544.OF  070037.OF  519723.OF  000147.OF  003358.OF  \\\n",
       "2019-01-02     1.1504     1.1030      1.121      1.080      1.250     1.0372   \n",
       "2019-01-03     1.1518     1.1050      1.122      1.081      1.252     1.0394   \n",
       "2019-01-04     1.1518     1.1054      1.123      1.082      1.254     1.0388   \n",
       "2019-01-07     1.1525     1.1065      1.124      1.084      1.256     1.0391   \n",
       "2019-01-08     1.1540     1.1072      1.125      1.085      1.258     1.0411   \n",
       "\n",
       "            070009.OF  \n",
       "2019-01-02     1.0516  \n",
       "2019-01-03     1.0521  \n",
       "2019-01-04     1.0524  \n",
       "2019-01-07     1.0529  \n",
       "2019-01-08     1.0533  "
      ]
     },
     "execution_count": 138,
     "metadata": {},
     "output_type": "execute_result"
    }
   ],
   "source": [
    "fdf.head()"
   ]
  },
  {
   "cell_type": "code",
   "execution_count": 139,
   "metadata": {},
   "outputs": [],
   "source": [
    "rfdf = fdf.pct_change().dropna()"
   ]
  },
  {
   "cell_type": "code",
   "execution_count": 140,
   "metadata": {},
   "outputs": [
    {
     "name": "stdout",
     "output_type": "stream",
     "text": [
      "(216, 7)\n",
      "(216, 5)\n"
     ]
    }
   ],
   "source": [
    "print rfdf.shape\n",
    "print rdf.shape"
   ]
  },
  {
   "cell_type": "markdown",
   "metadata": {},
   "source": [
    "# 非负线性优化求解"
   ]
  },
  {
   "cell_type": "code",
   "execution_count": 141,
   "metadata": {},
   "outputs": [],
   "source": [
    "decomp = pd.DataFrame(index=codes, columns=[u'0-1', u'1-3', u'3-5', u'5-7', u'7-10'])\n",
    "decomp.index.name = u'基金代码'"
   ]
  },
  {
   "cell_type": "code",
   "execution_count": 142,
   "metadata": {},
   "outputs": [],
   "source": [
    "def objective(coef, args):\n",
    "    n = coef.size\n",
    "    X, y = args[0], args[1]\n",
    "    target = np.dot(X, coef)\n",
    "#     error = np.sum(np.square(target - y))\n",
    "    error = np.sum(np.square(target - y)) + np.linalg.norm(coef, 1) # lasso error\n",
    "    return error / n\n",
    "\n",
    "def decomposition(code):\n",
    "    TOLERANCE = 1e-10\n",
    "    n = rdf.shape[1]\n",
    "    init_weights = np.array([1. / n] * n)\n",
    "    X = rdf.values\n",
    "    y = rfdf[code].values\n",
    "    \n",
    "    constraints = ({'type': 'eq', 'fun': lambda x: np.sum(x) - 1.0},\n",
    "                   {'type': 'ineq', 'fun': lambda x: x})\n",
    "    \n",
    "    opt_res = minimize(fun=objective,\n",
    "                       x0=init_weights,\n",
    "                       args=[X, y],\n",
    "                       constraints=constraints,\n",
    "                       tol=TOLERANCE,\n",
    "                       options={'disp': True})\n",
    "    \n",
    "    return opt_res.x"
   ]
  },
  {
   "cell_type": "code",
   "execution_count": 143,
   "metadata": {},
   "outputs": [
    {
     "name": "stdout",
     "output_type": "stream",
     "text": [
      "Optimization terminated successfully.    (Exit mode 0)\n",
      "            Current function value: 0.200001366011\n",
      "            Iterations: 9\n",
      "            Function evaluations: 63\n",
      "            Gradient evaluations: 9\n"
     ]
    },
    {
     "data": {
      "text/plain": [
       "array([0.36303812, 0.3250906 , 0.21192331, 0.09994796, 0.        ])"
      ]
     },
     "execution_count": 143,
     "metadata": {},
     "output_type": "execute_result"
    }
   ],
   "source": [
    "decomposition(codes[0])"
   ]
  },
  {
   "cell_type": "code",
   "execution_count": 144,
   "metadata": {},
   "outputs": [
    {
     "name": "stdout",
     "output_type": "stream",
     "text": [
      "Optimization terminated successfully.    (Exit mode 0)\n",
      "            Current function value: 0.200001366011\n",
      "            Iterations: 9\n",
      "            Function evaluations: 63\n",
      "            Gradient evaluations: 9\n",
      "Optimization terminated successfully.    (Exit mode 0)\n",
      "            Current function value: 0.200293332152\n",
      "            Iterations: 9\n",
      "            Function evaluations: 63\n",
      "            Gradient evaluations: 9\n",
      "Optimization terminated successfully.    (Exit mode 0)\n",
      "            Current function value: 0.200007529681\n",
      "            Iterations: 8\n",
      "            Function evaluations: 56\n",
      "            Gradient evaluations: 8\n",
      "Optimization terminated successfully.    (Exit mode 0)\n",
      "            Current function value: 0.200077910677\n",
      "            Iterations: 9\n",
      "            Function evaluations: 63\n",
      "            Gradient evaluations: 9\n",
      "Optimization terminated successfully.    (Exit mode 0)\n",
      "            Current function value: 0.201722553251\n",
      "            Iterations: 14\n",
      "            Function evaluations: 98\n",
      "            Gradient evaluations: 14\n",
      "Optimization terminated successfully.    (Exit mode 0)\n",
      "            Current function value: 0.200015366151\n",
      "            Iterations: 28\n",
      "            Function evaluations: 196\n",
      "            Gradient evaluations: 28\n",
      "Optimization terminated successfully.    (Exit mode 0)\n",
      "            Current function value: 0.200016224212\n",
      "            Iterations: 8\n",
      "            Function evaluations: 56\n",
      "            Gradient evaluations: 8\n"
     ]
    }
   ],
   "source": [
    "for c in codes:\n",
    "    weight = decomposition(c)\n",
    "    decomp.loc[c] = weight"
   ]
  },
  {
   "cell_type": "code",
   "execution_count": 145,
   "metadata": {},
   "outputs": [
    {
     "data": {
      "text/html": [
       "<div>\n",
       "<style scoped>\n",
       "    .dataframe tbody tr th:only-of-type {\n",
       "        vertical-align: middle;\n",
       "    }\n",
       "\n",
       "    .dataframe tbody tr th {\n",
       "        vertical-align: top;\n",
       "    }\n",
       "\n",
       "    .dataframe thead th {\n",
       "        text-align: right;\n",
       "    }\n",
       "</style>\n",
       "<table border=\"1\" class=\"dataframe\">\n",
       "  <thead>\n",
       "    <tr style=\"text-align: right;\">\n",
       "      <th></th>\n",
       "      <th>0-1</th>\n",
       "      <th>1-3</th>\n",
       "      <th>3-5</th>\n",
       "      <th>5-7</th>\n",
       "      <th>7-10</th>\n",
       "    </tr>\n",
       "    <tr>\n",
       "      <th>基金代码</th>\n",
       "      <th></th>\n",
       "      <th></th>\n",
       "      <th></th>\n",
       "      <th></th>\n",
       "      <th></th>\n",
       "    </tr>\n",
       "  </thead>\n",
       "  <tbody>\n",
       "    <tr>\n",
       "      <th>002549.OF</th>\n",
       "      <td>0.363038</td>\n",
       "      <td>0.325091</td>\n",
       "      <td>0.211923</td>\n",
       "      <td>0.099948</td>\n",
       "      <td>0</td>\n",
       "    </tr>\n",
       "    <tr>\n",
       "      <th>004544.OF</th>\n",
       "      <td>0.467622</td>\n",
       "      <td>0.363526</td>\n",
       "      <td>0.124106</td>\n",
       "      <td>0</td>\n",
       "      <td>0.0447461</td>\n",
       "    </tr>\n",
       "    <tr>\n",
       "      <th>070037.OF</th>\n",
       "      <td>0.344936</td>\n",
       "      <td>0.319649</td>\n",
       "      <td>0.224466</td>\n",
       "      <td>0.110948</td>\n",
       "      <td>0</td>\n",
       "    </tr>\n",
       "    <tr>\n",
       "      <th>519723.OF</th>\n",
       "      <td>0.332097</td>\n",
       "      <td>0.306938</td>\n",
       "      <td>0.193671</td>\n",
       "      <td>0.0915937</td>\n",
       "      <td>0.0757011</td>\n",
       "    </tr>\n",
       "    <tr>\n",
       "      <th>000147.OF</th>\n",
       "      <td>0.38181</td>\n",
       "      <td>0.336458</td>\n",
       "      <td>0.281732</td>\n",
       "      <td>-2.77556e-17</td>\n",
       "      <td>-1.46172e-16</td>\n",
       "    </tr>\n",
       "    <tr>\n",
       "      <th>003358.OF</th>\n",
       "      <td>-5.00383e-17</td>\n",
       "      <td>-2.49678e-17</td>\n",
       "      <td>1.94601e-16</td>\n",
       "      <td>6.93889e-17</td>\n",
       "      <td>1</td>\n",
       "    </tr>\n",
       "    <tr>\n",
       "      <th>070009.OF</th>\n",
       "      <td>0.375719</td>\n",
       "      <td>0.319886</td>\n",
       "      <td>0.205384</td>\n",
       "      <td>0.0990114</td>\n",
       "      <td>0</td>\n",
       "    </tr>\n",
       "  </tbody>\n",
       "</table>\n",
       "</div>"
      ],
      "text/plain": [
       "                   0-1          1-3          3-5          5-7         7-10\n",
       "基金代码                                                                      \n",
       "002549.OF     0.363038     0.325091     0.211923     0.099948            0\n",
       "004544.OF     0.467622     0.363526     0.124106            0    0.0447461\n",
       "070037.OF     0.344936     0.319649     0.224466     0.110948            0\n",
       "519723.OF     0.332097     0.306938     0.193671    0.0915937    0.0757011\n",
       "000147.OF      0.38181     0.336458     0.281732 -2.77556e-17 -1.46172e-16\n",
       "003358.OF -5.00383e-17 -2.49678e-17  1.94601e-16  6.93889e-17            1\n",
       "070009.OF     0.375719     0.319886     0.205384    0.0990114            0"
      ]
     },
     "execution_count": 145,
     "metadata": {},
     "output_type": "execute_result"
    }
   ],
   "source": [
    "decomp"
   ]
  },
  {
   "cell_type": "code",
   "execution_count": 146,
   "metadata": {},
   "outputs": [],
   "source": [
    "decomp[u'久期'] = decomp.dot(np.array([0.5, 2, 4, 6, 8]))"
   ]
  },
  {
   "cell_type": "code",
   "execution_count": 147,
   "metadata": {},
   "outputs": [],
   "source": [
    "decomp[u'基金名称'] = fund_df[fund_df[u'代码'].isin(codes)][u'名称'].tolist()"
   ]
  },
  {
   "cell_type": "code",
   "execution_count": 148,
   "metadata": {},
   "outputs": [
    {
     "data": {
      "text/html": [
       "<div>\n",
       "<style scoped>\n",
       "    .dataframe tbody tr th:only-of-type {\n",
       "        vertical-align: middle;\n",
       "    }\n",
       "\n",
       "    .dataframe tbody tr th {\n",
       "        vertical-align: top;\n",
       "    }\n",
       "\n",
       "    .dataframe thead th {\n",
       "        text-align: right;\n",
       "    }\n",
       "</style>\n",
       "<table border=\"1\" class=\"dataframe\">\n",
       "  <thead>\n",
       "    <tr style=\"text-align: right;\">\n",
       "      <th></th>\n",
       "      <th>0-1</th>\n",
       "      <th>1-3</th>\n",
       "      <th>3-5</th>\n",
       "      <th>5-7</th>\n",
       "      <th>7-10</th>\n",
       "      <th>久期</th>\n",
       "      <th>基金名称</th>\n",
       "    </tr>\n",
       "    <tr>\n",
       "      <th>基金代码</th>\n",
       "      <th></th>\n",
       "      <th></th>\n",
       "      <th></th>\n",
       "      <th></th>\n",
       "      <th></th>\n",
       "      <th></th>\n",
       "      <th></th>\n",
       "    </tr>\n",
       "  </thead>\n",
       "  <tbody>\n",
       "    <tr>\n",
       "      <th>002549.OF</th>\n",
       "      <td>0.363038</td>\n",
       "      <td>0.325091</td>\n",
       "      <td>0.211923</td>\n",
       "      <td>0.099948</td>\n",
       "      <td>0</td>\n",
       "      <td>2.27908</td>\n",
       "      <td>嘉实稳祥纯债A</td>\n",
       "    </tr>\n",
       "    <tr>\n",
       "      <th>004544.OF</th>\n",
       "      <td>0.467622</td>\n",
       "      <td>0.363526</td>\n",
       "      <td>0.124106</td>\n",
       "      <td>0</td>\n",
       "      <td>0.0447461</td>\n",
       "      <td>1.81526</td>\n",
       "      <td>嘉实稳华纯债</td>\n",
       "    </tr>\n",
       "    <tr>\n",
       "      <th>070037.OF</th>\n",
       "      <td>0.344936</td>\n",
       "      <td>0.319649</td>\n",
       "      <td>0.224466</td>\n",
       "      <td>0.110948</td>\n",
       "      <td>0</td>\n",
       "      <td>2.37532</td>\n",
       "      <td>嘉实纯债A</td>\n",
       "    </tr>\n",
       "    <tr>\n",
       "      <th>519723.OF</th>\n",
       "      <td>0.332097</td>\n",
       "      <td>0.306938</td>\n",
       "      <td>0.193671</td>\n",
       "      <td>0.0915937</td>\n",
       "      <td>0.0757011</td>\n",
       "      <td>2.70978</td>\n",
       "      <td>交银双轮动AB</td>\n",
       "    </tr>\n",
       "    <tr>\n",
       "      <th>000147.OF</th>\n",
       "      <td>0.38181</td>\n",
       "      <td>0.336458</td>\n",
       "      <td>0.281732</td>\n",
       "      <td>-2.77556e-17</td>\n",
       "      <td>-1.46172e-16</td>\n",
       "      <td>1.99075</td>\n",
       "      <td>易方达高等级信用债A</td>\n",
       "    </tr>\n",
       "    <tr>\n",
       "      <th>003358.OF</th>\n",
       "      <td>-5.00383e-17</td>\n",
       "      <td>-2.49678e-17</td>\n",
       "      <td>1.94601e-16</td>\n",
       "      <td>6.93889e-17</td>\n",
       "      <td>1</td>\n",
       "      <td>8</td>\n",
       "      <td>易方达7-10年国开行</td>\n",
       "    </tr>\n",
       "    <tr>\n",
       "      <th>070009.OF</th>\n",
       "      <td>0.375719</td>\n",
       "      <td>0.319886</td>\n",
       "      <td>0.205384</td>\n",
       "      <td>0.0990114</td>\n",
       "      <td>0</td>\n",
       "      <td>2.24323</td>\n",
       "      <td>嘉实超短债</td>\n",
       "    </tr>\n",
       "  </tbody>\n",
       "</table>\n",
       "</div>"
      ],
      "text/plain": [
       "                   0-1          1-3          3-5          5-7         7-10  \\\n",
       "基金代码                                                                         \n",
       "002549.OF     0.363038     0.325091     0.211923     0.099948            0   \n",
       "004544.OF     0.467622     0.363526     0.124106            0    0.0447461   \n",
       "070037.OF     0.344936     0.319649     0.224466     0.110948            0   \n",
       "519723.OF     0.332097     0.306938     0.193671    0.0915937    0.0757011   \n",
       "000147.OF      0.38181     0.336458     0.281732 -2.77556e-17 -1.46172e-16   \n",
       "003358.OF -5.00383e-17 -2.49678e-17  1.94601e-16  6.93889e-17            1   \n",
       "070009.OF     0.375719     0.319886     0.205384    0.0990114            0   \n",
       "\n",
       "                久期         基金名称  \n",
       "基金代码                             \n",
       "002549.OF  2.27908      嘉实稳祥纯债A  \n",
       "004544.OF  1.81526       嘉实稳华纯债  \n",
       "070037.OF  2.37532        嘉实纯债A  \n",
       "519723.OF  2.70978      交银双轮动AB  \n",
       "000147.OF  1.99075   易方达高等级信用债A  \n",
       "003358.OF        8  易方达7-10年国开行  \n",
       "070009.OF  2.24323        嘉实超短债  "
      ]
     },
     "execution_count": 148,
     "metadata": {},
     "output_type": "execute_result"
    }
   ],
   "source": [
    "decomp"
   ]
  },
  {
   "cell_type": "code",
   "execution_count": 149,
   "metadata": {},
   "outputs": [],
   "source": [
    "decomp = decomp[[decomp.columns[-1]] + decomp.columns[:-1].tolist()]"
   ]
  },
  {
   "cell_type": "code",
   "execution_count": 150,
   "metadata": {},
   "outputs": [
    {
     "data": {
      "text/html": [
       "<div>\n",
       "<style scoped>\n",
       "    .dataframe tbody tr th:only-of-type {\n",
       "        vertical-align: middle;\n",
       "    }\n",
       "\n",
       "    .dataframe tbody tr th {\n",
       "        vertical-align: top;\n",
       "    }\n",
       "\n",
       "    .dataframe thead th {\n",
       "        text-align: right;\n",
       "    }\n",
       "</style>\n",
       "<table border=\"1\" class=\"dataframe\">\n",
       "  <thead>\n",
       "    <tr style=\"text-align: right;\">\n",
       "      <th></th>\n",
       "      <th>基金名称</th>\n",
       "      <th>0-1</th>\n",
       "      <th>1-3</th>\n",
       "      <th>3-5</th>\n",
       "      <th>5-7</th>\n",
       "      <th>7-10</th>\n",
       "      <th>久期</th>\n",
       "    </tr>\n",
       "    <tr>\n",
       "      <th>基金代码</th>\n",
       "      <th></th>\n",
       "      <th></th>\n",
       "      <th></th>\n",
       "      <th></th>\n",
       "      <th></th>\n",
       "      <th></th>\n",
       "      <th></th>\n",
       "    </tr>\n",
       "  </thead>\n",
       "  <tbody>\n",
       "    <tr>\n",
       "      <th>002549.OF</th>\n",
       "      <td>嘉实稳祥纯债A</td>\n",
       "      <td>0.363038</td>\n",
       "      <td>0.325091</td>\n",
       "      <td>0.211923</td>\n",
       "      <td>0.099948</td>\n",
       "      <td>0</td>\n",
       "      <td>2.27908</td>\n",
       "    </tr>\n",
       "    <tr>\n",
       "      <th>004544.OF</th>\n",
       "      <td>嘉实稳华纯债</td>\n",
       "      <td>0.467622</td>\n",
       "      <td>0.363526</td>\n",
       "      <td>0.124106</td>\n",
       "      <td>0</td>\n",
       "      <td>0.0447461</td>\n",
       "      <td>1.81526</td>\n",
       "    </tr>\n",
       "    <tr>\n",
       "      <th>070037.OF</th>\n",
       "      <td>嘉实纯债A</td>\n",
       "      <td>0.344936</td>\n",
       "      <td>0.319649</td>\n",
       "      <td>0.224466</td>\n",
       "      <td>0.110948</td>\n",
       "      <td>0</td>\n",
       "      <td>2.37532</td>\n",
       "    </tr>\n",
       "    <tr>\n",
       "      <th>519723.OF</th>\n",
       "      <td>交银双轮动AB</td>\n",
       "      <td>0.332097</td>\n",
       "      <td>0.306938</td>\n",
       "      <td>0.193671</td>\n",
       "      <td>0.0915937</td>\n",
       "      <td>0.0757011</td>\n",
       "      <td>2.70978</td>\n",
       "    </tr>\n",
       "    <tr>\n",
       "      <th>000147.OF</th>\n",
       "      <td>易方达高等级信用债A</td>\n",
       "      <td>0.38181</td>\n",
       "      <td>0.336458</td>\n",
       "      <td>0.281732</td>\n",
       "      <td>-2.77556e-17</td>\n",
       "      <td>-1.46172e-16</td>\n",
       "      <td>1.99075</td>\n",
       "    </tr>\n",
       "    <tr>\n",
       "      <th>003358.OF</th>\n",
       "      <td>易方达7-10年国开行</td>\n",
       "      <td>-5.00383e-17</td>\n",
       "      <td>-2.49678e-17</td>\n",
       "      <td>1.94601e-16</td>\n",
       "      <td>6.93889e-17</td>\n",
       "      <td>1</td>\n",
       "      <td>8</td>\n",
       "    </tr>\n",
       "    <tr>\n",
       "      <th>070009.OF</th>\n",
       "      <td>嘉实超短债</td>\n",
       "      <td>0.375719</td>\n",
       "      <td>0.319886</td>\n",
       "      <td>0.205384</td>\n",
       "      <td>0.0990114</td>\n",
       "      <td>0</td>\n",
       "      <td>2.24323</td>\n",
       "    </tr>\n",
       "  </tbody>\n",
       "</table>\n",
       "</div>"
      ],
      "text/plain": [
       "                  基金名称          0-1          1-3          3-5          5-7  \\\n",
       "基金代码                                                                         \n",
       "002549.OF      嘉实稳祥纯债A     0.363038     0.325091     0.211923     0.099948   \n",
       "004544.OF       嘉实稳华纯债     0.467622     0.363526     0.124106            0   \n",
       "070037.OF        嘉实纯债A     0.344936     0.319649     0.224466     0.110948   \n",
       "519723.OF      交银双轮动AB     0.332097     0.306938     0.193671    0.0915937   \n",
       "000147.OF   易方达高等级信用债A      0.38181     0.336458     0.281732 -2.77556e-17   \n",
       "003358.OF  易方达7-10年国开行 -5.00383e-17 -2.49678e-17  1.94601e-16  6.93889e-17   \n",
       "070009.OF        嘉实超短债     0.375719     0.319886     0.205384    0.0990114   \n",
       "\n",
       "                  7-10       久期  \n",
       "基金代码                             \n",
       "002549.OF            0  2.27908  \n",
       "004544.OF    0.0447461  1.81526  \n",
       "070037.OF            0  2.37532  \n",
       "519723.OF    0.0757011  2.70978  \n",
       "000147.OF -1.46172e-16  1.99075  \n",
       "003358.OF            1        8  \n",
       "070009.OF            0  2.24323  "
      ]
     },
     "execution_count": 150,
     "metadata": {},
     "output_type": "execute_result"
    }
   ],
   "source": [
    "decomp"
   ]
  },
  {
   "cell_type": "code",
   "execution_count": 151,
   "metadata": {},
   "outputs": [],
   "source": [
    "decomp.to_excel(u'../data/债券基金收益率分解.xlsx')"
   ]
  },
  {
   "cell_type": "code",
   "execution_count": null,
   "metadata": {},
   "outputs": [],
   "source": []
  }
 ],
 "metadata": {
  "kernelspec": {
   "display_name": "Python 2",
   "language": "python",
   "name": "python2"
  },
  "language_info": {
   "codemirror_mode": {
    "name": "ipython",
    "version": 2
   },
   "file_extension": ".py",
   "mimetype": "text/x-python",
   "name": "python",
   "nbconvert_exporter": "python",
   "pygments_lexer": "ipython2",
   "version": "2.7.14"
  }
 },
 "nbformat": 4,
 "nbformat_minor": 4
}
