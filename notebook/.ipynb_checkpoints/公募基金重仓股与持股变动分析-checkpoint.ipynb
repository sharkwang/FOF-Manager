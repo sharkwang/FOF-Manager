{
 "cells": [
  {
   "cell_type": "markdown",
   "metadata": {},
   "source": [
    "# 公募基金重仓股与持股变动分析\n",
    "\n",
    "公募基金是市场中一大类的投资者群体，从公募基金的季度持股变动情况可以分析公募基金这类投资者对行业和公司未来方向的判断"
   ]
  },
  {
   "cell_type": "code",
   "execution_count": 1,
   "metadata": {},
   "outputs": [],
   "source": [
    "import pyodbc\n",
    "import pandas as pd\n",
    "import matplotlib.pyplot as plt\n",
    "from WindPy import w\n",
    "import datetime\n",
    "%matplotlib inline"
   ]
  },
  {
   "cell_type": "code",
   "execution_count": 2,
   "metadata": {},
   "outputs": [
    {
     "name": "stdout",
     "output_type": "stream",
     "text": [
      "Welcome to use Wind Quant API for Python (WindPy)!\n",
      "\n",
      "COPYRIGHT (C) 2017 WIND INFORMATION CO., LTD. ALL RIGHTS RESERVED.\n",
      "IN NO CIRCUMSTANCE SHALL WIND BE RESPONSIBLE FOR ANY DAMAGES OR LOSSES CAUSED BY USING WIND QUANT API FOR Python.\n"
     ]
    },
    {
     "data": {
      "text/plain": [
       ".ErrorCode=0\n",
       ".Data=[OK!]"
      ]
     },
     "execution_count": 2,
     "metadata": {},
     "output_type": "execute_result"
    }
   ],
   "source": [
    "w.start()"
   ]
  },
  {
   "cell_type": "markdown",
   "metadata": {},
   "source": [
    "# 连接聚源数据库"
   ]
  },
  {
   "cell_type": "code",
   "execution_count": 3,
   "metadata": {},
   "outputs": [],
   "source": [
    "conn = pyodbc.connect('DRIVER={SQL Server};SERVER=10.0.185.138;DATABASE=JYDB;UID=js_dev;PWD=js_dev')"
   ]
  },
  {
   "cell_type": "markdown",
   "metadata": {},
   "source": [
    "# 查询所有公募基金的季度持仓表"
   ]
  },
  {
   "cell_type": "code",
   "execution_count": 4,
   "metadata": {},
   "outputs": [],
   "source": [
    "query = 'SELECT fdo.InvestAdvisorAbbrName, t.SecuAbbr, s.SecuCode, s.SecuAbbr, f.ReportDate, f.SharesHolding, f.MarketValue \\\n",
    "FROM MF_KeyStockPortfolio as f, SecuMain as t, SecuMain as s, MF_FundArchives as fd, MF_InvestAdvisorOutline as fdo \\\n",
    "WHERE f.InnerCode = t.InnerCode \\\n",
    "    AND f.StockInnerCode = s.InnerCode \\\n",
    "    AND fd.InnerCode = f.InnerCode \\\n",
    "    AND fd.InvestAdvisorCode = fdo.InvestAdvisorCode \\\n",
    "    ORDER BY f.ReportDate DESC, f.SharesHolding DESC'"
   ]
  },
  {
   "cell_type": "code",
   "execution_count": 11,
   "metadata": {},
   "outputs": [],
   "source": [
    "df = pd.read_sql_query(query, con=conn)"
   ]
  },
  {
   "cell_type": "code",
   "execution_count": 12,
   "metadata": {},
   "outputs": [
    {
     "data": {
      "text/html": [
       "<div>\n",
       "<style scoped>\n",
       "    .dataframe tbody tr th:only-of-type {\n",
       "        vertical-align: middle;\n",
       "    }\n",
       "\n",
       "    .dataframe tbody tr th {\n",
       "        vertical-align: top;\n",
       "    }\n",
       "\n",
       "    .dataframe thead th {\n",
       "        text-align: right;\n",
       "    }\n",
       "</style>\n",
       "<table border=\"1\" class=\"dataframe\">\n",
       "  <thead>\n",
       "    <tr style=\"text-align: right;\">\n",
       "      <th></th>\n",
       "      <th>InvestAdvisorAbbrName</th>\n",
       "      <th>SecuAbbr</th>\n",
       "      <th>SecuCode</th>\n",
       "      <th>SecuAbbr</th>\n",
       "      <th>ReportDate</th>\n",
       "      <th>SharesHolding</th>\n",
       "      <th>MarketValue</th>\n",
       "    </tr>\n",
       "  </thead>\n",
       "  <tbody>\n",
       "    <tr>\n",
       "      <th>0</th>\n",
       "      <td>平安大华</td>\n",
       "      <td>平安A股ETF</td>\n",
       "      <td>601398</td>\n",
       "      <td>工商银行</td>\n",
       "      <td>2018-07-13</td>\n",
       "      <td>769000.0</td>\n",
       "      <td>4121840.0</td>\n",
       "    </tr>\n",
       "    <tr>\n",
       "      <th>1</th>\n",
       "      <td>平安大华</td>\n",
       "      <td>平安A股ETF</td>\n",
       "      <td>600000</td>\n",
       "      <td>浦发银行</td>\n",
       "      <td>2018-07-13</td>\n",
       "      <td>418500.0</td>\n",
       "      <td>3971565.0</td>\n",
       "    </tr>\n",
       "    <tr>\n",
       "      <th>2</th>\n",
       "      <td>平安大华</td>\n",
       "      <td>平安A股ETF</td>\n",
       "      <td>601166</td>\n",
       "      <td>兴业银行</td>\n",
       "      <td>2018-07-13</td>\n",
       "      <td>296200.0</td>\n",
       "      <td>4256394.0</td>\n",
       "    </tr>\n",
       "    <tr>\n",
       "      <th>3</th>\n",
       "      <td>平安大华</td>\n",
       "      <td>平安A股ETF</td>\n",
       "      <td>600036</td>\n",
       "      <td>招商银行</td>\n",
       "      <td>2018-07-13</td>\n",
       "      <td>294800.0</td>\n",
       "      <td>7732604.0</td>\n",
       "    </tr>\n",
       "    <tr>\n",
       "      <th>4</th>\n",
       "      <td>平安大华</td>\n",
       "      <td>平安A股ETF</td>\n",
       "      <td>601318</td>\n",
       "      <td>中国平安</td>\n",
       "      <td>2018-07-13</td>\n",
       "      <td>154800.0</td>\n",
       "      <td>9061992.0</td>\n",
       "    </tr>\n",
       "  </tbody>\n",
       "</table>\n",
       "</div>"
      ],
      "text/plain": [
       "  InvestAdvisorAbbrName SecuAbbr SecuCode SecuAbbr ReportDate  SharesHolding  \\\n",
       "0                  平安大华  平安A股ETF   601398     工商银行 2018-07-13       769000.0   \n",
       "1                  平安大华  平安A股ETF   600000     浦发银行 2018-07-13       418500.0   \n",
       "2                  平安大华  平安A股ETF   601166     兴业银行 2018-07-13       296200.0   \n",
       "3                  平安大华  平安A股ETF   600036     招商银行 2018-07-13       294800.0   \n",
       "4                  平安大华  平安A股ETF   601318     中国平安 2018-07-13       154800.0   \n",
       "\n",
       "   MarketValue  \n",
       "0    4121840.0  \n",
       "1    3971565.0  \n",
       "2    4256394.0  \n",
       "3    7732604.0  \n",
       "4    9061992.0  "
      ]
     },
     "execution_count": 12,
     "metadata": {},
     "output_type": "execute_result"
    }
   ],
   "source": [
    "df.head()"
   ]
  },
  {
   "cell_type": "code",
   "execution_count": 13,
   "metadata": {},
   "outputs": [],
   "source": [
    "df.columns = ['InvestAdvisorAbbrName', 'FundAbbr', 'SecuCode', 'SecuAbbr', 'ReportDate', 'SharesHolding', 'MarketValue']"
   ]
  },
  {
   "cell_type": "markdown",
   "metadata": {},
   "source": [
    "# 按时间、股票分组后相同的相加"
   ]
  },
  {
   "cell_type": "code",
   "execution_count": 14,
   "metadata": {},
   "outputs": [],
   "source": [
    "df = df.groupby(['ReportDate', 'SecuAbbr', 'SecuCode']).sum()"
   ]
  },
  {
   "cell_type": "code",
   "execution_count": 15,
   "metadata": {},
   "outputs": [
    {
     "data": {
      "text/html": [
       "<div>\n",
       "<style scoped>\n",
       "    .dataframe tbody tr th:only-of-type {\n",
       "        vertical-align: middle;\n",
       "    }\n",
       "\n",
       "    .dataframe tbody tr th {\n",
       "        vertical-align: top;\n",
       "    }\n",
       "\n",
       "    .dataframe thead th {\n",
       "        text-align: right;\n",
       "    }\n",
       "</style>\n",
       "<table border=\"1\" class=\"dataframe\">\n",
       "  <thead>\n",
       "    <tr style=\"text-align: right;\">\n",
       "      <th></th>\n",
       "      <th></th>\n",
       "      <th></th>\n",
       "      <th>SharesHolding</th>\n",
       "      <th>MarketValue</th>\n",
       "    </tr>\n",
       "    <tr>\n",
       "      <th>ReportDate</th>\n",
       "      <th>SecuAbbr</th>\n",
       "      <th>SecuCode</th>\n",
       "      <th></th>\n",
       "      <th></th>\n",
       "    </tr>\n",
       "  </thead>\n",
       "  <tbody>\n",
       "    <tr>\n",
       "      <th rowspan=\"5\" valign=\"top\">1998-06-30</th>\n",
       "      <th>*ST 上普</th>\n",
       "      <th>600680</th>\n",
       "      <td>7896835.0</td>\n",
       "      <td>1.582526e+08</td>\n",
       "    </tr>\n",
       "    <tr>\n",
       "      <th>上汽集团</th>\n",
       "      <th>600104</th>\n",
       "      <td>6172070.0</td>\n",
       "      <td>8.640900e+07</td>\n",
       "    </tr>\n",
       "    <tr>\n",
       "      <th>上海机场</th>\n",
       "      <th>600009</th>\n",
       "      <td>17532150.0</td>\n",
       "      <td>1.779513e+08</td>\n",
       "    </tr>\n",
       "    <tr>\n",
       "      <th>云赛智联</th>\n",
       "      <th>600602</th>\n",
       "      <td>14347258.0</td>\n",
       "      <td>1.338599e+08</td>\n",
       "    </tr>\n",
       "    <tr>\n",
       "      <th>华东电脑</th>\n",
       "      <th>600850</th>\n",
       "      <td>5957804.0</td>\n",
       "      <td>1.145686e+08</td>\n",
       "    </tr>\n",
       "  </tbody>\n",
       "</table>\n",
       "</div>"
      ],
      "text/plain": [
       "                              SharesHolding   MarketValue\n",
       "ReportDate SecuAbbr SecuCode                             \n",
       "1998-06-30 *ST 上普   600680        7896835.0  1.582526e+08\n",
       "           上汽集团     600104        6172070.0  8.640900e+07\n",
       "           上海机场     600009       17532150.0  1.779513e+08\n",
       "           云赛智联     600602       14347258.0  1.338599e+08\n",
       "           华东电脑     600850        5957804.0  1.145686e+08"
      ]
     },
     "execution_count": 15,
     "metadata": {},
     "output_type": "execute_result"
    }
   ],
   "source": [
    "df.head()"
   ]
  },
  {
   "cell_type": "markdown",
   "metadata": {},
   "source": [
    "# 剔除季报外的其他数据"
   ]
  },
  {
   "cell_type": "code",
   "execution_count": 16,
   "metadata": {},
   "outputs": [],
   "source": [
    "df = df.reset_index(level=[1]).reset_index(level=[1])"
   ]
  },
  {
   "cell_type": "code",
   "execution_count": 17,
   "metadata": {},
   "outputs": [],
   "source": [
    "df['Month'] = df.index.map(lambda x: x.month)\n",
    "df['Day'] = df.index.map(lambda x: x.day)"
   ]
  },
  {
   "cell_type": "code",
   "execution_count": 18,
   "metadata": {},
   "outputs": [],
   "source": [
    "df = df[(df['Month'].isin([3,6,9,12])) & (df['Day'].isin([30,31]))]"
   ]
  },
  {
   "cell_type": "code",
   "execution_count": 19,
   "metadata": {},
   "outputs": [
    {
     "data": {
      "text/html": [
       "<div>\n",
       "<style scoped>\n",
       "    .dataframe tbody tr th:only-of-type {\n",
       "        vertical-align: middle;\n",
       "    }\n",
       "\n",
       "    .dataframe tbody tr th {\n",
       "        vertical-align: top;\n",
       "    }\n",
       "\n",
       "    .dataframe thead th {\n",
       "        text-align: right;\n",
       "    }\n",
       "</style>\n",
       "<table border=\"1\" class=\"dataframe\">\n",
       "  <thead>\n",
       "    <tr style=\"text-align: right;\">\n",
       "      <th></th>\n",
       "      <th>SecuCode</th>\n",
       "      <th>SecuAbbr</th>\n",
       "      <th>SharesHolding</th>\n",
       "      <th>MarketValue</th>\n",
       "      <th>Month</th>\n",
       "      <th>Day</th>\n",
       "    </tr>\n",
       "    <tr>\n",
       "      <th>ReportDate</th>\n",
       "      <th></th>\n",
       "      <th></th>\n",
       "      <th></th>\n",
       "      <th></th>\n",
       "      <th></th>\n",
       "      <th></th>\n",
       "    </tr>\n",
       "  </thead>\n",
       "  <tbody>\n",
       "    <tr>\n",
       "      <th>1998-06-30</th>\n",
       "      <td>600680</td>\n",
       "      <td>*ST 上普</td>\n",
       "      <td>7896835.0</td>\n",
       "      <td>1.582526e+08</td>\n",
       "      <td>6</td>\n",
       "      <td>30</td>\n",
       "    </tr>\n",
       "    <tr>\n",
       "      <th>1998-06-30</th>\n",
       "      <td>600104</td>\n",
       "      <td>上汽集团</td>\n",
       "      <td>6172070.0</td>\n",
       "      <td>8.640900e+07</td>\n",
       "      <td>6</td>\n",
       "      <td>30</td>\n",
       "    </tr>\n",
       "    <tr>\n",
       "      <th>1998-06-30</th>\n",
       "      <td>600009</td>\n",
       "      <td>上海机场</td>\n",
       "      <td>17532150.0</td>\n",
       "      <td>1.779513e+08</td>\n",
       "      <td>6</td>\n",
       "      <td>30</td>\n",
       "    </tr>\n",
       "    <tr>\n",
       "      <th>1998-06-30</th>\n",
       "      <td>600602</td>\n",
       "      <td>云赛智联</td>\n",
       "      <td>14347258.0</td>\n",
       "      <td>1.338599e+08</td>\n",
       "      <td>6</td>\n",
       "      <td>30</td>\n",
       "    </tr>\n",
       "    <tr>\n",
       "      <th>1998-06-30</th>\n",
       "      <td>600850</td>\n",
       "      <td>华东电脑</td>\n",
       "      <td>5957804.0</td>\n",
       "      <td>1.145686e+08</td>\n",
       "      <td>6</td>\n",
       "      <td>30</td>\n",
       "    </tr>\n",
       "  </tbody>\n",
       "</table>\n",
       "</div>"
      ],
      "text/plain": [
       "           SecuCode SecuAbbr  SharesHolding   MarketValue  Month  Day\n",
       "ReportDate                                                           \n",
       "1998-06-30   600680   *ST 上普      7896835.0  1.582526e+08      6   30\n",
       "1998-06-30   600104     上汽集团      6172070.0  8.640900e+07      6   30\n",
       "1998-06-30   600009     上海机场     17532150.0  1.779513e+08      6   30\n",
       "1998-06-30   600602     云赛智联     14347258.0  1.338599e+08      6   30\n",
       "1998-06-30   600850     华东电脑      5957804.0  1.145686e+08      6   30"
      ]
     },
     "execution_count": 19,
     "metadata": {},
     "output_type": "execute_result"
    }
   ],
   "source": [
    "df.head()"
   ]
  },
  {
   "cell_type": "markdown",
   "metadata": {},
   "source": [
    "# 计算每个季度的持仓变动"
   ]
  },
  {
   "cell_type": "code",
   "execution_count": 20,
   "metadata": {},
   "outputs": [],
   "source": [
    "df['ReportDate'] = df.index"
   ]
  },
  {
   "cell_type": "code",
   "execution_count": 21,
   "metadata": {},
   "outputs": [],
   "source": [
    "dates = df.index.drop_duplicates().sort_values(ascending=False).values"
   ]
  },
  {
   "cell_type": "code",
   "execution_count": 22,
   "metadata": {},
   "outputs": [],
   "source": [
    "for next_date, prev_date in zip(dates, dates[1:]):\n",
    "    next_date_hold = df[df.index == next_date]['SecuAbbr']\n",
    "    prev_date_hold = df[df.index == prev_date]['SecuAbbr']\n",
    "    codes = prev_date_hold.loc[~prev_date_hold.isin(next_date_hold)].values\n",
    "    add_df = df[df['SecuAbbr'].isin(codes)].copy()\n",
    "    add_df = add_df[add_df.index == prev_date]\n",
    "    add_df['MarketValue'] = 0\n",
    "    add_df['ReportDate'] = next_date\n",
    "    df = df.append(add_df)"
   ]
  },
  {
   "cell_type": "code",
   "execution_count": 23,
   "metadata": {},
   "outputs": [],
   "source": [
    "df = df.sort_values('ReportDate', ascending=False)"
   ]
  },
  {
   "cell_type": "code",
   "execution_count": 25,
   "metadata": {},
   "outputs": [],
   "source": [
    "df['Diff'] = df['MarketValue'] - df.groupby('SecuAbbr')['MarketValue'].shift(-1)"
   ]
  },
  {
   "cell_type": "code",
   "execution_count": 26,
   "metadata": {},
   "outputs": [],
   "source": [
    "df['Diff'] = df['Diff'].fillna(df['MarketValue'])"
   ]
  },
  {
   "cell_type": "code",
   "execution_count": 28,
   "metadata": {},
   "outputs": [],
   "source": [
    "df = df.sort_values(['ReportDate', 'Diff'], ascending=False)"
   ]
  },
  {
   "cell_type": "code",
   "execution_count": 29,
   "metadata": {},
   "outputs": [],
   "source": [
    "df = df.set_index('ReportDate')"
   ]
  },
  {
   "cell_type": "code",
   "execution_count": 34,
   "metadata": {},
   "outputs": [],
   "source": [
    "df = df.drop(['Month', 'Day'], axis=1)"
   ]
  },
  {
   "cell_type": "code",
   "execution_count": 35,
   "metadata": {},
   "outputs": [
    {
     "data": {
      "text/html": [
       "<div>\n",
       "<style scoped>\n",
       "    .dataframe tbody tr th:only-of-type {\n",
       "        vertical-align: middle;\n",
       "    }\n",
       "\n",
       "    .dataframe tbody tr th {\n",
       "        vertical-align: top;\n",
       "    }\n",
       "\n",
       "    .dataframe thead th {\n",
       "        text-align: right;\n",
       "    }\n",
       "</style>\n",
       "<table border=\"1\" class=\"dataframe\">\n",
       "  <thead>\n",
       "    <tr style=\"text-align: right;\">\n",
       "      <th></th>\n",
       "      <th>SecuCode</th>\n",
       "      <th>SecuAbbr</th>\n",
       "      <th>SharesHolding</th>\n",
       "      <th>MarketValue</th>\n",
       "      <th>Diff</th>\n",
       "    </tr>\n",
       "    <tr>\n",
       "      <th>ReportDate</th>\n",
       "      <th></th>\n",
       "      <th></th>\n",
       "      <th></th>\n",
       "      <th></th>\n",
       "      <th></th>\n",
       "    </tr>\n",
       "  </thead>\n",
       "  <tbody>\n",
       "    <tr>\n",
       "      <th>2018-06-30</th>\n",
       "      <td>600519</td>\n",
       "      <td>贵州茅台</td>\n",
       "      <td>48009872.0</td>\n",
       "      <td>3.511634e+10</td>\n",
       "      <td>4.435974e+09</td>\n",
       "    </tr>\n",
       "    <tr>\n",
       "      <th>2018-06-30</th>\n",
       "      <td>600276</td>\n",
       "      <td>恒瑞医药</td>\n",
       "      <td>168893690.0</td>\n",
       "      <td>1.279539e+10</td>\n",
       "      <td>4.016211e+09</td>\n",
       "    </tr>\n",
       "    <tr>\n",
       "      <th>2018-06-30</th>\n",
       "      <td>603589</td>\n",
       "      <td>口 子 窖</td>\n",
       "      <td>77404706.0</td>\n",
       "      <td>4.756519e+09</td>\n",
       "      <td>3.001166e+09</td>\n",
       "    </tr>\n",
       "    <tr>\n",
       "      <th>2018-06-30</th>\n",
       "      <td>000661</td>\n",
       "      <td>长春高新</td>\n",
       "      <td>35912845.0</td>\n",
       "      <td>8.177355e+09</td>\n",
       "      <td>2.517438e+09</td>\n",
       "    </tr>\n",
       "    <tr>\n",
       "      <th>2018-06-30</th>\n",
       "      <td>300601</td>\n",
       "      <td>康泰生物</td>\n",
       "      <td>59358383.0</td>\n",
       "      <td>3.680627e+09</td>\n",
       "      <td>2.412283e+09</td>\n",
       "    </tr>\n",
       "  </tbody>\n",
       "</table>\n",
       "</div>"
      ],
      "text/plain": [
       "           SecuCode SecuAbbr  SharesHolding   MarketValue          Diff\n",
       "ReportDate                                                             \n",
       "2018-06-30   600519     贵州茅台     48009872.0  3.511634e+10  4.435974e+09\n",
       "2018-06-30   600276     恒瑞医药    168893690.0  1.279539e+10  4.016211e+09\n",
       "2018-06-30   603589    口 子 窖     77404706.0  4.756519e+09  3.001166e+09\n",
       "2018-06-30   000661     长春高新     35912845.0  8.177355e+09  2.517438e+09\n",
       "2018-06-30   300601     康泰生物     59358383.0  3.680627e+09  2.412283e+09"
      ]
     },
     "execution_count": 35,
     "metadata": {},
     "output_type": "execute_result"
    }
   ],
   "source": [
    "df.head()"
   ]
  },
  {
   "cell_type": "code",
   "execution_count": 36,
   "metadata": {},
   "outputs": [
    {
     "data": {
      "text/html": [
       "<div>\n",
       "<style scoped>\n",
       "    .dataframe tbody tr th:only-of-type {\n",
       "        vertical-align: middle;\n",
       "    }\n",
       "\n",
       "    .dataframe tbody tr th {\n",
       "        vertical-align: top;\n",
       "    }\n",
       "\n",
       "    .dataframe thead th {\n",
       "        text-align: right;\n",
       "    }\n",
       "</style>\n",
       "<table border=\"1\" class=\"dataframe\">\n",
       "  <thead>\n",
       "    <tr style=\"text-align: right;\">\n",
       "      <th></th>\n",
       "      <th>SecuCode</th>\n",
       "      <th>SecuAbbr</th>\n",
       "      <th>SharesHolding</th>\n",
       "      <th>MarketValue</th>\n",
       "      <th>Diff</th>\n",
       "    </tr>\n",
       "    <tr>\n",
       "      <th>ReportDate</th>\n",
       "      <th></th>\n",
       "      <th></th>\n",
       "      <th></th>\n",
       "      <th></th>\n",
       "      <th></th>\n",
       "    </tr>\n",
       "  </thead>\n",
       "  <tbody>\n",
       "    <tr>\n",
       "      <th>1998-06-30</th>\n",
       "      <td>600075</td>\n",
       "      <td>新疆天业</td>\n",
       "      <td>1773498.0</td>\n",
       "      <td>32774248.50</td>\n",
       "      <td>32774248.50</td>\n",
       "    </tr>\n",
       "    <tr>\n",
       "      <th>1998-06-30</th>\n",
       "      <td>000001</td>\n",
       "      <td>平安银行</td>\n",
       "      <td>1896697.0</td>\n",
       "      <td>32699063.04</td>\n",
       "      <td>32699063.04</td>\n",
       "    </tr>\n",
       "    <tr>\n",
       "      <th>1998-06-30</th>\n",
       "      <td>000623</td>\n",
       "      <td>吉林敖东</td>\n",
       "      <td>1698815.0</td>\n",
       "      <td>29559386.80</td>\n",
       "      <td>29559386.80</td>\n",
       "    </tr>\n",
       "    <tr>\n",
       "      <th>1998-06-30</th>\n",
       "      <td>600060</td>\n",
       "      <td>海信电器</td>\n",
       "      <td>1364498.0</td>\n",
       "      <td>25707157.94</td>\n",
       "      <td>25707157.94</td>\n",
       "    </tr>\n",
       "    <tr>\n",
       "      <th>1998-06-30</th>\n",
       "      <td>000021</td>\n",
       "      <td>深 科 技</td>\n",
       "      <td>908286.0</td>\n",
       "      <td>24596400.20</td>\n",
       "      <td>24596400.20</td>\n",
       "    </tr>\n",
       "  </tbody>\n",
       "</table>\n",
       "</div>"
      ],
      "text/plain": [
       "           SecuCode SecuAbbr  SharesHolding  MarketValue         Diff\n",
       "ReportDate                                                           \n",
       "1998-06-30   600075     新疆天业      1773498.0  32774248.50  32774248.50\n",
       "1998-06-30   000001     平安银行      1896697.0  32699063.04  32699063.04\n",
       "1998-06-30   000623     吉林敖东      1698815.0  29559386.80  29559386.80\n",
       "1998-06-30   600060     海信电器      1364498.0  25707157.94  25707157.94\n",
       "1998-06-30   000021    深 科 技       908286.0  24596400.20  24596400.20"
      ]
     },
     "execution_count": 36,
     "metadata": {},
     "output_type": "execute_result"
    }
   ],
   "source": [
    "df.tail()"
   ]
  },
  {
   "cell_type": "markdown",
   "metadata": {},
   "source": [
    "# 公募基金季度持股总数量变化"
   ]
  },
  {
   "cell_type": "code",
   "execution_count": 38,
   "metadata": {},
   "outputs": [],
   "source": [
    "diff = df.groupby(df.index).sum()"
   ]
  },
  {
   "cell_type": "code",
   "execution_count": 43,
   "metadata": {},
   "outputs": [
    {
     "data": {
      "text/plain": [
       "<matplotlib.axes._subplots.AxesSubplot at 0x3039e470>"
      ]
     },
     "execution_count": 43,
     "metadata": {},
     "output_type": "execute_result"
    },
    {
     "data": {
      "image/png": "[encoded data removed]",
      "text/plain": [
       "<Figure size 1152x648 with 1 Axes>"
      ]
     },
     "metadata": {},
     "output_type": "display_data"
    }
   ],
   "source": [
    "diff['SharesHolding'].plot(figsize=(16, 9))"
   ]
  },
  {
   "cell_type": "code",
   "execution_count": null,
   "metadata": {},
   "outputs": [],
   "source": []
  }
 ],
 "metadata": {
  "kernelspec": {
   "display_name": "Python 2",
   "language": "python",
   "name": "python2"
  },
  "language_info": {
   "codemirror_mode": {
    "name": "ipython",
    "version": 2
   },
   "file_extension": ".py",
   "mimetype": "text/x-python",
   "name": "python",
   "nbconvert_exporter": "python",
   "pygments_lexer": "ipython2",
   "version": "2.7.14"
  }
 },
 "nbformat": 4,
 "nbformat_minor": 2
}
