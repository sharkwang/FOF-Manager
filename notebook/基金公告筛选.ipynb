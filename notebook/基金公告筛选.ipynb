{
 "cells": [
  {
   "cell_type": "code",
   "execution_count": 1,
   "metadata": {},
   "outputs": [],
   "source": [
    "import pyodbc\n",
    "import pandas as pd"
   ]
  },
  {
   "cell_type": "markdown",
   "metadata": {},
   "source": [
    "# 读取要筛选的基金列表"
   ]
  },
  {
   "cell_type": "code",
   "execution_count": 58,
   "metadata": {},
   "outputs": [],
   "source": [
    "fund_list = pd.read_table(u'../data/基金公告筛选列表.txt')"
   ]
  },
  {
   "cell_type": "code",
   "execution_count": 59,
   "metadata": {},
   "outputs": [
    {
     "data": {
      "text/html": [
       "<div>\n",
       "<style scoped>\n",
       "    .dataframe tbody tr th:only-of-type {\n",
       "        vertical-align: middle;\n",
       "    }\n",
       "\n",
       "    .dataframe tbody tr th {\n",
       "        vertical-align: top;\n",
       "    }\n",
       "\n",
       "    .dataframe thead th {\n",
       "        text-align: right;\n",
       "    }\n",
       "</style>\n",
       "<table border=\"1\" class=\"dataframe\">\n",
       "  <thead>\n",
       "    <tr style=\"text-align: right;\">\n",
       "      <th></th>\n",
       "      <th>基金代码</th>\n",
       "    </tr>\n",
       "  </thead>\n",
       "  <tbody>\n",
       "    <tr>\n",
       "      <th>0</th>\n",
       "      <td>519163.OF</td>\n",
       "    </tr>\n",
       "    <tr>\n",
       "      <th>1</th>\n",
       "      <td>519152.OF</td>\n",
       "    </tr>\n",
       "    <tr>\n",
       "      <th>2</th>\n",
       "      <td>000024.OF</td>\n",
       "    </tr>\n",
       "    <tr>\n",
       "      <th>3</th>\n",
       "      <td>110037.OF</td>\n",
       "    </tr>\n",
       "    <tr>\n",
       "      <th>4</th>\n",
       "      <td>070037.OF</td>\n",
       "    </tr>\n",
       "  </tbody>\n",
       "</table>\n",
       "</div>"
      ],
      "text/plain": [
       "        基金代码\n",
       "0  519163.OF\n",
       "1  519152.OF\n",
       "2  000024.OF\n",
       "3  110037.OF\n",
       "4  070037.OF"
      ]
     },
     "execution_count": 59,
     "metadata": {},
     "output_type": "execute_result"
    }
   ],
   "source": [
    "fund_list.head()"
   ]
  },
  {
   "cell_type": "markdown",
   "metadata": {},
   "source": [
    "# 连接聚源数据库"
   ]
  },
  {
   "cell_type": "code",
   "execution_count": 60,
   "metadata": {},
   "outputs": [],
   "source": [
    "conn = pyodbc.connect('DRIVER={SQL Server};SERVER=10.0.185.138;DATABASE=JYDB;UID=js_dev;PWD=js_dev')"
   ]
  },
  {
   "cell_type": "markdown",
   "metadata": {},
   "source": [
    "# 查询基金列表中的基金公告，并按关键词过滤"
   ]
  },
  {
   "cell_type": "code",
   "execution_count": 61,
   "metadata": {},
   "outputs": [],
   "source": [
    "query = 'SELECT fund.BulletinDate, fund.InfoTitle \\\n",
    "         FROM MF_InterimBulletin as fund, MF_InterimBulletin_SE as fund_se, SecuMain as t \\\n",
    "         WHERE fund_se.Code = t.InnerCode \\\n",
    "             AND fund_se.ID = fund.ID \\\n",
    "             AND t.SecuCode ='"
   ]
  },
  {
   "cell_type": "code",
   "execution_count": 62,
   "metadata": {},
   "outputs": [],
   "source": [
    "keywords = [u'转换运作', u'合并', u'终止', u'持有人']"
   ]
  },
  {
   "cell_type": "markdown",
   "metadata": {},
   "source": [
    "### 定义过滤函数"
   ]
  },
  {
   "cell_type": "code",
   "execution_count": 63,
   "metadata": {},
   "outputs": [],
   "source": [
    "def contain_keywords(text):\n",
    "    for word in keywords:\n",
    "        if word in text:\n",
    "            return True\n",
    "    return False"
   ]
  },
  {
   "cell_type": "markdown",
   "metadata": {},
   "source": [
    "### 筛选"
   ]
  },
  {
   "cell_type": "code",
   "execution_count": 64,
   "metadata": {},
   "outputs": [
    {
     "name": "stdout",
     "output_type": "stream",
     "text": [
      "querying 519163.OF...\n",
      "querying 519152.OF...\n",
      "querying 000024.OF...\n",
      "querying 110037.OF...\n",
      "querying 070037.OF...\n",
      "querying 002969.OF...\n",
      "querying 519162.OF...\n",
      "querying 070005.OF...\n",
      "querying 340009.OF...\n",
      "querying 510300.OF...\n",
      "querying 510900.oF...\n",
      "querying 510050.OF...\n",
      "querying 513050.OF...\n",
      "querying 510500.OF...\n",
      "querying 540012.OF...\n",
      "querying 000478.OF...\n",
      "querying 161613.OF...\n",
      "querying 118001.OF...\n",
      "querying 000041.OF...\n",
      "querying 000988.OF...\n",
      "querying 001811.OF...\n",
      "querying 110011.OF...\n",
      "querying 070019.OF...\n",
      "querying 163411.OF...\n",
      "querying 519069.OF...\n",
      "querying 000083.OF...\n",
      "querying 000457.OF...\n",
      "querying 001703.OF...\n",
      "querying 000577.OF...\n",
      "querying 002121.OF...\n",
      "querying 110022.OF...\n",
      "querying 001583.OF...\n",
      "querying 001878.OF...\n",
      "querying 000742.OF...\n",
      "querying 340008.OF...\n",
      "querying 002214.OF...\n",
      "querying 519066.OF...\n",
      "querying 000621.OF...\n",
      "querying 519717.OF...\n",
      "querying 002758.OF...\n",
      "querying 519998.OF...\n",
      "querying 070088.OF...\n",
      "querying 000010.OF...\n",
      "querying 000917.OF...\n",
      "querying 519999.OF...\n",
      "querying 003474.OF...\n",
      "querying 511880.OF...\n",
      "querying 511990.OF...\n",
      "querying 511660.OF...\n",
      "querying 518880.OF...\n",
      "querying 518800.OF...\n"
     ]
    }
   ],
   "source": [
    "result_df = pd.DataFrame(columns=['BulletinDate', 'InfoTitle', 'FundCode'])\n",
    "for fund in fund_list['基金代码']:\n",
    "    print('querying %s...'%(fund))\n",
    "    fund = fund.rstrip('.OF')\n",
    "    select_query = '%s \\'%s\\''%(query, fund)\n",
    "    query_df = pd.read_sql_query(select_query, con=conn)\n",
    "    query_df['FundCode'] = fund\n",
    "    query_df['InfoTitle'] = query_df['InfoTitle'].map(lambda x: x.decode('gbk'))\n",
    "    query_df = query_df[query_df['InfoTitle'].map(lambda x: contain_keywords(x))]\n",
    "    result_df = result_df.append(query_df)"
   ]
  },
  {
   "cell_type": "markdown",
   "metadata": {},
   "source": [
    "# 按时间筛排序并输出结果"
   ]
  },
  {
   "cell_type": "code",
   "execution_count": 65,
   "metadata": {},
   "outputs": [],
   "source": [
    "result_df = result_df.set_index('BulletinDate')\n",
    "result_df = result_df.sort_index(ascending=False)"
   ]
  },
  {
   "cell_type": "code",
   "execution_count": 66,
   "metadata": {},
   "outputs": [
    {
     "data": {
      "text/html": [
       "<div>\n",
       "<style scoped>\n",
       "    .dataframe tbody tr th:only-of-type {\n",
       "        vertical-align: middle;\n",
       "    }\n",
       "\n",
       "    .dataframe tbody tr th {\n",
       "        vertical-align: top;\n",
       "    }\n",
       "\n",
       "    .dataframe thead th {\n",
       "        text-align: right;\n",
       "    }\n",
       "</style>\n",
       "<table border=\"1\" class=\"dataframe\">\n",
       "  <thead>\n",
       "    <tr style=\"text-align: right;\">\n",
       "      <th></th>\n",
       "      <th>InfoTitle</th>\n",
       "      <th>FundCode</th>\n",
       "    </tr>\n",
       "    <tr>\n",
       "      <th>BulletinDate</th>\n",
       "      <th></th>\n",
       "      <th></th>\n",
       "    </tr>\n",
       "  </thead>\n",
       "  <tbody>\n",
       "    <tr>\n",
       "      <th>2018-03-16</th>\n",
       "      <td>南方基金管理股份有限公司关于终止与北京增财基金销售有限公司销售合作关系的公告</td>\n",
       "      <td>003474</td>\n",
       "    </tr>\n",
       "    <tr>\n",
       "      <th>2018-03-16</th>\n",
       "      <td>南方基金管理股份有限公司关于终止与北京增财基金销售有限公司销售合作关系的公告</td>\n",
       "      <td>510500</td>\n",
       "    </tr>\n",
       "    <tr>\n",
       "      <th>2018-01-05</th>\n",
       "      <td>南方基金管理有限公司关于东海期货有限责任公司终止代理销售本公司旗下基金的公告</td>\n",
       "      <td>003474</td>\n",
       "    </tr>\n",
       "    <tr>\n",
       "      <th>2017-09-15</th>\n",
       "      <td>中海基金管理有限公司关于中海沪港深价值优选灵活配置混合型证券投资基金基金份额持有人大会表决结...</td>\n",
       "      <td>002214</td>\n",
       "    </tr>\n",
       "    <tr>\n",
       "      <th>2017-08-09</th>\n",
       "      <td>中海基金管理有限公司关于以通讯方式召开中海沪港深价值优选灵活配置混合型证券投资基金基金份额持...</td>\n",
       "      <td>002214</td>\n",
       "    </tr>\n",
       "    <tr>\n",
       "      <th>2017-08-08</th>\n",
       "      <td>中海基金管理有限公司关于以通讯方式召开中海沪港深价值优选灵活配置混合型证券投资基金基金份额持...</td>\n",
       "      <td>002214</td>\n",
       "    </tr>\n",
       "    <tr>\n",
       "      <th>2017-08-07</th>\n",
       "      <td>中海基金管理有限公司关于以通讯方式召开中海沪港深价值优选灵活配置混合型证券投资基金基金份额持...</td>\n",
       "      <td>002214</td>\n",
       "    </tr>\n",
       "    <tr>\n",
       "      <th>2017-06-21</th>\n",
       "      <td>嘉实基金管理有限公司关于嘉实快线货币市场基金基金份额持有人大会表决结果暨决议生效的公告</td>\n",
       "      <td>000917</td>\n",
       "    </tr>\n",
       "    <tr>\n",
       "      <th>2017-05-23</th>\n",
       "      <td>嘉实基金管理有限公司关于以通讯方式召开嘉实快线货币市场基金基金份额持有人大会的第二次提示性公告</td>\n",
       "      <td>000917</td>\n",
       "    </tr>\n",
       "    <tr>\n",
       "      <th>2017-05-22</th>\n",
       "      <td>嘉实基金管理有限公司关于以通讯方式召开嘉实快线货币市场基金基金份额持有人大会的第一次提示性公告</td>\n",
       "      <td>000917</td>\n",
       "    </tr>\n",
       "    <tr>\n",
       "      <th>2017-05-19</th>\n",
       "      <td>嘉实基金管理有限公司关于以通讯方式召开嘉实快线货币市场基金基金份额持有人大会的公告</td>\n",
       "      <td>000917</td>\n",
       "    </tr>\n",
       "    <tr>\n",
       "      <th>2017-04-25</th>\n",
       "      <td>关于建信现金增利货币市场基金基金份额持有人大会表决结果暨决议生效的公告</td>\n",
       "      <td>002758</td>\n",
       "    </tr>\n",
       "    <tr>\n",
       "      <th>2017-03-23</th>\n",
       "      <td>关于召开建信现金增利货币市场基金基金份额持有人大会（通讯方式）的第二次提示性公告</td>\n",
       "      <td>002758</td>\n",
       "    </tr>\n",
       "    <tr>\n",
       "      <th>2017-03-22</th>\n",
       "      <td>关于召开建信现金增利货币市场基金基金份额持有人大会（通讯方式）的第一次提示性公告</td>\n",
       "      <td>002758</td>\n",
       "    </tr>\n",
       "    <tr>\n",
       "      <th>2017-03-21</th>\n",
       "      <td>关于召开建信现金增利货币市场基金基金份额持有人大会（通讯方式）的公告</td>\n",
       "      <td>002758</td>\n",
       "    </tr>\n",
       "    <tr>\n",
       "      <th>2017-01-05</th>\n",
       "      <td>关于兴全磐稳增利债券型证券投资基金基金份额持有人大会表决结果暨决议生效的公告</td>\n",
       "      <td>340009</td>\n",
       "    </tr>\n",
       "  </tbody>\n",
       "</table>\n",
       "</div>"
      ],
      "text/plain": [
       "                                                      InfoTitle FundCode\n",
       "BulletinDate                                                            \n",
       "2018-03-16               南方基金管理股份有限公司关于终止与北京增财基金销售有限公司销售合作关系的公告   003474\n",
       "2018-03-16               南方基金管理股份有限公司关于终止与北京增财基金销售有限公司销售合作关系的公告   510500\n",
       "2018-01-05               南方基金管理有限公司关于东海期货有限责任公司终止代理销售本公司旗下基金的公告   003474\n",
       "2017-09-15    中海基金管理有限公司关于中海沪港深价值优选灵活配置混合型证券投资基金基金份额持有人大会表决结...   002214\n",
       "2017-08-09    中海基金管理有限公司关于以通讯方式召开中海沪港深价值优选灵活配置混合型证券投资基金基金份额持...   002214\n",
       "2017-08-08    中海基金管理有限公司关于以通讯方式召开中海沪港深价值优选灵活配置混合型证券投资基金基金份额持...   002214\n",
       "2017-08-07    中海基金管理有限公司关于以通讯方式召开中海沪港深价值优选灵活配置混合型证券投资基金基金份额持...   002214\n",
       "2017-06-21          嘉实基金管理有限公司关于嘉实快线货币市场基金基金份额持有人大会表决结果暨决议生效的公告   000917\n",
       "2017-05-23      嘉实基金管理有限公司关于以通讯方式召开嘉实快线货币市场基金基金份额持有人大会的第二次提示性公告   000917\n",
       "2017-05-22      嘉实基金管理有限公司关于以通讯方式召开嘉实快线货币市场基金基金份额持有人大会的第一次提示性公告   000917\n",
       "2017-05-19            嘉实基金管理有限公司关于以通讯方式召开嘉实快线货币市场基金基金份额持有人大会的公告   000917\n",
       "2017-04-25                  关于建信现金增利货币市场基金基金份额持有人大会表决结果暨决议生效的公告   002758\n",
       "2017-03-23             关于召开建信现金增利货币市场基金基金份额持有人大会（通讯方式）的第二次提示性公告   002758\n",
       "2017-03-22             关于召开建信现金增利货币市场基金基金份额持有人大会（通讯方式）的第一次提示性公告   002758\n",
       "2017-03-21                   关于召开建信现金增利货币市场基金基金份额持有人大会（通讯方式）的公告   002758\n",
       "2017-01-05               关于兴全磐稳增利债券型证券投资基金基金份额持有人大会表决结果暨决议生效的公告   340009"
      ]
     },
     "execution_count": 66,
     "metadata": {},
     "output_type": "execute_result"
    }
   ],
   "source": [
    "result_df[result_df.index >= '2017-01-01']"
   ]
  },
  {
   "cell_type": "code",
   "execution_count": null,
   "metadata": {},
   "outputs": [],
   "source": []
  }
 ],
 "metadata": {
  "kernelspec": {
   "display_name": "Python 2",
   "language": "python",
   "name": "python2"
  },
  "language_info": {
   "codemirror_mode": {
    "name": "ipython",
    "version": 2
   },
   "file_extension": ".py",
   "mimetype": "text/x-python",
   "name": "python",
   "nbconvert_exporter": "python",
   "pygments_lexer": "ipython2",
   "version": "2.7.14"
  }
 },
 "nbformat": 4,
 "nbformat_minor": 2
}
