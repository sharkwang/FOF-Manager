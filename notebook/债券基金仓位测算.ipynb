{
 "cells": [
  {
   "cell_type": "code",
   "execution_count": 1,
   "metadata": {},
   "outputs": [],
   "source": [
    "import pandas as pd\n",
    "import numpy as np\n",
    "import matplotlib.pyplot as plt\n",
    "from scipy.optimize import minimize\n",
    "from WindPy import w\n",
    "from sklearn.linear_model import LinearRegression\n",
    "import datetime\n",
    "%matplotlib inline"
   ]
  },
  {
   "cell_type": "code",
   "execution_count": 2,
   "metadata": {},
   "outputs": [
    {
     "name": "stdout",
     "output_type": "stream",
     "text": [
      "Welcome to use Wind Quant API for Python (WindPy)!\n",
      "\n",
      "COPYRIGHT (C) 2017 WIND INFORMATION CO., LTD. ALL RIGHTS RESERVED.\n",
      "IN NO CIRCUMSTANCE SHALL WIND BE RESPONSIBLE FOR ANY DAMAGES OR LOSSES CAUSED BY USING WIND QUANT API FOR Python.\n"
     ]
    },
    {
     "data": {
      "text/plain": [
       ".ErrorCode=0\n",
       ".Data=[OK!]"
      ]
     },
     "execution_count": 2,
     "metadata": {},
     "output_type": "execute_result"
    }
   ],
   "source": [
    "w.start()"
   ]
  },
  {
   "cell_type": "code",
   "execution_count": 3,
   "metadata": {},
   "outputs": [],
   "source": [
    "end_date = datetime.datetime.today() - datetime.timedelta(2)\n",
    "start_date = end_date - datetime.timedelta(14)"
   ]
  },
  {
   "cell_type": "markdown",
   "metadata": {},
   "source": [
    "# 获取债券指数历史收益率和久期"
   ]
  },
  {
   "cell_type": "code",
   "execution_count": 4,
   "metadata": {},
   "outputs": [],
   "source": [
    "# codes = 'CBA00111.CS, CBA00121.CS, CBA00131.CS, CBA00141.CS, CBA00151.CS'\n",
    "codes = 'CBA02711.CS, CBA02721.CS, CBA02731.CS, CBA02741.CS, CBA02751.CS'"
   ]
  },
  {
   "cell_type": "code",
   "execution_count": 5,
   "metadata": {},
   "outputs": [],
   "source": [
    "data = w.wsd(codes, 'close', start_date, end_date)"
   ]
  },
  {
   "cell_type": "code",
   "execution_count": 6,
   "metadata": {},
   "outputs": [
    {
     "data": {
      "text/plain": [
       ".ErrorCode=0\n",
       ".Codes=[CBA02711.CS,CBA02721.CS,CBA02731.CS,CBA02741.CS,CBA02751.CS]\n",
       ".Fields=[CLOSE]\n",
       ".Times=[20191118,20191119,20191120,20191121,20191122,20191125,20191126,20191127,20191128,20191129,...]\n",
       ".Data=[[169.0186,169.0383,169.0675,169.089,169.1218,169.1794,169.2026,169.2281,169.2456,169.2667,...],[179.7052,179.7646,179.8253,179.9102,179.9443,180.0208,180.0384,180.0805,180.1175,180.1372,...],[191.9756,192.0989,192.2244,192.3557,192.4006,192.4775,192.514,192.5332,192.5866,192.6186,...],[201.8208,201.9334,202.1444,202.2588,202.3198,202.4458,202.4893,202.5182,202.4917,202.4796,...],[192.052,192.0856,192.2716,192.3676,192.4495,192.5951,192.6115,192.6276,192.5365,192.431,...]]"
      ]
     },
     "execution_count": 6,
     "metadata": {},
     "output_type": "execute_result"
    }
   ],
   "source": [
    "data"
   ]
  },
  {
   "cell_type": "code",
   "execution_count": 7,
   "metadata": {},
   "outputs": [],
   "source": [
    "df = pd.DataFrame(np.array(data.Data).T, index=data.Times, columns=data.Codes)"
   ]
  },
  {
   "cell_type": "code",
   "execution_count": 8,
   "metadata": {},
   "outputs": [
    {
     "data": {
      "text/html": [
       "<div>\n",
       "<style scoped>\n",
       "    .dataframe tbody tr th:only-of-type {\n",
       "        vertical-align: middle;\n",
       "    }\n",
       "\n",
       "    .dataframe tbody tr th {\n",
       "        vertical-align: top;\n",
       "    }\n",
       "\n",
       "    .dataframe thead th {\n",
       "        text-align: right;\n",
       "    }\n",
       "</style>\n",
       "<table border=\"1\" class=\"dataframe\">\n",
       "  <thead>\n",
       "    <tr style=\"text-align: right;\">\n",
       "      <th></th>\n",
       "      <th>CBA02711.CS</th>\n",
       "      <th>CBA02721.CS</th>\n",
       "      <th>CBA02731.CS</th>\n",
       "      <th>CBA02741.CS</th>\n",
       "      <th>CBA02751.CS</th>\n",
       "    </tr>\n",
       "  </thead>\n",
       "  <tbody>\n",
       "    <tr>\n",
       "      <th>2019-11-18</th>\n",
       "      <td>169.0186</td>\n",
       "      <td>179.7052</td>\n",
       "      <td>191.9756</td>\n",
       "      <td>201.8208</td>\n",
       "      <td>192.0520</td>\n",
       "    </tr>\n",
       "    <tr>\n",
       "      <th>2019-11-19</th>\n",
       "      <td>169.0383</td>\n",
       "      <td>179.7646</td>\n",
       "      <td>192.0989</td>\n",
       "      <td>201.9334</td>\n",
       "      <td>192.0856</td>\n",
       "    </tr>\n",
       "    <tr>\n",
       "      <th>2019-11-20</th>\n",
       "      <td>169.0675</td>\n",
       "      <td>179.8253</td>\n",
       "      <td>192.2244</td>\n",
       "      <td>202.1444</td>\n",
       "      <td>192.2716</td>\n",
       "    </tr>\n",
       "    <tr>\n",
       "      <th>2019-11-21</th>\n",
       "      <td>169.0890</td>\n",
       "      <td>179.9102</td>\n",
       "      <td>192.3557</td>\n",
       "      <td>202.2588</td>\n",
       "      <td>192.3676</td>\n",
       "    </tr>\n",
       "    <tr>\n",
       "      <th>2019-11-22</th>\n",
       "      <td>169.1218</td>\n",
       "      <td>179.9443</td>\n",
       "      <td>192.4006</td>\n",
       "      <td>202.3198</td>\n",
       "      <td>192.4495</td>\n",
       "    </tr>\n",
       "  </tbody>\n",
       "</table>\n",
       "</div>"
      ],
      "text/plain": [
       "            CBA02711.CS  CBA02721.CS  CBA02731.CS  CBA02741.CS  CBA02751.CS\n",
       "2019-11-18     169.0186     179.7052     191.9756     201.8208     192.0520\n",
       "2019-11-19     169.0383     179.7646     192.0989     201.9334     192.0856\n",
       "2019-11-20     169.0675     179.8253     192.2244     202.1444     192.2716\n",
       "2019-11-21     169.0890     179.9102     192.3557     202.2588     192.3676\n",
       "2019-11-22     169.1218     179.9443     192.4006     202.3198     192.4495"
      ]
     },
     "execution_count": 8,
     "metadata": {},
     "output_type": "execute_result"
    }
   ],
   "source": [
    "df.head()"
   ]
  },
  {
   "cell_type": "code",
   "execution_count": 9,
   "metadata": {},
   "outputs": [],
   "source": [
    "rdf = df.pct_change().dropna()"
   ]
  },
  {
   "cell_type": "code",
   "execution_count": 10,
   "metadata": {},
   "outputs": [
    {
     "data": {
      "text/html": [
       "<div>\n",
       "<style scoped>\n",
       "    .dataframe tbody tr th:only-of-type {\n",
       "        vertical-align: middle;\n",
       "    }\n",
       "\n",
       "    .dataframe tbody tr th {\n",
       "        vertical-align: top;\n",
       "    }\n",
       "\n",
       "    .dataframe thead th {\n",
       "        text-align: right;\n",
       "    }\n",
       "</style>\n",
       "<table border=\"1\" class=\"dataframe\">\n",
       "  <thead>\n",
       "    <tr style=\"text-align: right;\">\n",
       "      <th></th>\n",
       "      <th>CBA02711.CS</th>\n",
       "      <th>CBA02721.CS</th>\n",
       "      <th>CBA02731.CS</th>\n",
       "      <th>CBA02741.CS</th>\n",
       "      <th>CBA02751.CS</th>\n",
       "    </tr>\n",
       "  </thead>\n",
       "  <tbody>\n",
       "    <tr>\n",
       "      <th>2019-11-19</th>\n",
       "      <td>0.000117</td>\n",
       "      <td>0.000331</td>\n",
       "      <td>0.000642</td>\n",
       "      <td>0.000558</td>\n",
       "      <td>0.000175</td>\n",
       "    </tr>\n",
       "    <tr>\n",
       "      <th>2019-11-20</th>\n",
       "      <td>0.000173</td>\n",
       "      <td>0.000338</td>\n",
       "      <td>0.000653</td>\n",
       "      <td>0.001045</td>\n",
       "      <td>0.000968</td>\n",
       "    </tr>\n",
       "    <tr>\n",
       "      <th>2019-11-21</th>\n",
       "      <td>0.000127</td>\n",
       "      <td>0.000472</td>\n",
       "      <td>0.000683</td>\n",
       "      <td>0.000566</td>\n",
       "      <td>0.000499</td>\n",
       "    </tr>\n",
       "    <tr>\n",
       "      <th>2019-11-22</th>\n",
       "      <td>0.000194</td>\n",
       "      <td>0.000190</td>\n",
       "      <td>0.000233</td>\n",
       "      <td>0.000302</td>\n",
       "      <td>0.000426</td>\n",
       "    </tr>\n",
       "    <tr>\n",
       "      <th>2019-11-25</th>\n",
       "      <td>0.000341</td>\n",
       "      <td>0.000425</td>\n",
       "      <td>0.000400</td>\n",
       "      <td>0.000623</td>\n",
       "      <td>0.000757</td>\n",
       "    </tr>\n",
       "  </tbody>\n",
       "</table>\n",
       "</div>"
      ],
      "text/plain": [
       "            CBA02711.CS  CBA02721.CS  CBA02731.CS  CBA02741.CS  CBA02751.CS\n",
       "2019-11-19     0.000117     0.000331     0.000642     0.000558     0.000175\n",
       "2019-11-20     0.000173     0.000338     0.000653     0.001045     0.000968\n",
       "2019-11-21     0.000127     0.000472     0.000683     0.000566     0.000499\n",
       "2019-11-22     0.000194     0.000190     0.000233     0.000302     0.000426\n",
       "2019-11-25     0.000341     0.000425     0.000400     0.000623     0.000757"
      ]
     },
     "execution_count": 10,
     "metadata": {},
     "output_type": "execute_result"
    }
   ],
   "source": [
    "rdf.head()"
   ]
  },
  {
   "cell_type": "code",
   "execution_count": 11,
   "metadata": {},
   "outputs": [],
   "source": [
    "data = w.wss(codes, 'duration', 'tradeDate=%s'%(end_date.strftime('%Y%m%d')))"
   ]
  },
  {
   "cell_type": "code",
   "execution_count": 12,
   "metadata": {},
   "outputs": [],
   "source": [
    "duration = np.array(data.Data[0])"
   ]
  },
  {
   "cell_type": "code",
   "execution_count": 13,
   "metadata": {},
   "outputs": [
    {
     "data": {
      "text/plain": [
       "array([0.54229999, 2.04089999, 3.57139993, 5.05779982, 6.68739986])"
      ]
     },
     "execution_count": 13,
     "metadata": {},
     "output_type": "execute_result"
    }
   ],
   "source": [
    "duration"
   ]
  },
  {
   "cell_type": "markdown",
   "metadata": {},
   "source": [
    "# 获取债券基金历史收益率"
   ]
  },
  {
   "cell_type": "code",
   "execution_count": 14,
   "metadata": {},
   "outputs": [],
   "source": [
    "fund_df = pd.read_excel(u'../data/债券基金池.xlsx')"
   ]
  },
  {
   "cell_type": "code",
   "execution_count": 15,
   "metadata": {},
   "outputs": [
    {
     "data": {
      "text/html": [
       "<div>\n",
       "<style scoped>\n",
       "    .dataframe tbody tr th:only-of-type {\n",
       "        vertical-align: middle;\n",
       "    }\n",
       "\n",
       "    .dataframe tbody tr th {\n",
       "        vertical-align: top;\n",
       "    }\n",
       "\n",
       "    .dataframe thead th {\n",
       "        text-align: right;\n",
       "    }\n",
       "</style>\n",
       "<table border=\"1\" class=\"dataframe\">\n",
       "  <thead>\n",
       "    <tr style=\"text-align: right;\">\n",
       "      <th></th>\n",
       "      <th>代码</th>\n",
       "      <th>名称</th>\n",
       "    </tr>\n",
       "  </thead>\n",
       "  <tbody>\n",
       "    <tr>\n",
       "      <th>0</th>\n",
       "      <td>002549.OF</td>\n",
       "      <td>嘉实稳祥纯债A</td>\n",
       "    </tr>\n",
       "    <tr>\n",
       "      <th>1</th>\n",
       "      <td>004544.OF</td>\n",
       "      <td>嘉实稳华纯债</td>\n",
       "    </tr>\n",
       "    <tr>\n",
       "      <th>2</th>\n",
       "      <td>070037.OF</td>\n",
       "      <td>嘉实纯债A</td>\n",
       "    </tr>\n",
       "    <tr>\n",
       "      <th>3</th>\n",
       "      <td>519723.OF</td>\n",
       "      <td>交银双轮动AB</td>\n",
       "    </tr>\n",
       "    <tr>\n",
       "      <th>4</th>\n",
       "      <td>000147.OF</td>\n",
       "      <td>易方达高等级信用债A</td>\n",
       "    </tr>\n",
       "    <tr>\n",
       "      <th>5</th>\n",
       "      <td>003358.OF</td>\n",
       "      <td>易方达7-10年国开行</td>\n",
       "    </tr>\n",
       "    <tr>\n",
       "      <th>6</th>\n",
       "      <td>070009.OF</td>\n",
       "      <td>嘉实超短债</td>\n",
       "    </tr>\n",
       "  </tbody>\n",
       "</table>\n",
       "</div>"
      ],
      "text/plain": [
       "          代码           名称\n",
       "0  002549.OF      嘉实稳祥纯债A\n",
       "1  004544.OF       嘉实稳华纯债\n",
       "2  070037.OF        嘉实纯债A\n",
       "3  519723.OF      交银双轮动AB\n",
       "4  000147.OF   易方达高等级信用债A\n",
       "5  003358.OF  易方达7-10年国开行\n",
       "6  070009.OF        嘉实超短债"
      ]
     },
     "execution_count": 15,
     "metadata": {},
     "output_type": "execute_result"
    }
   ],
   "source": [
    "fund_df"
   ]
  },
  {
   "cell_type": "code",
   "execution_count": 16,
   "metadata": {},
   "outputs": [],
   "source": [
    "codes = fund_df[u'代码'].tolist()"
   ]
  },
  {
   "cell_type": "code",
   "execution_count": 17,
   "metadata": {},
   "outputs": [],
   "source": [
    "data = w.wsd(codes, 'nav', start_date, end_date)"
   ]
  },
  {
   "cell_type": "code",
   "execution_count": 18,
   "metadata": {},
   "outputs": [],
   "source": [
    "fdf = pd.DataFrame(np.array(data.Data).T, index=data.Times, columns=data.Codes)"
   ]
  },
  {
   "cell_type": "code",
   "execution_count": 19,
   "metadata": {},
   "outputs": [
    {
     "data": {
      "text/html": [
       "<div>\n",
       "<style scoped>\n",
       "    .dataframe tbody tr th:only-of-type {\n",
       "        vertical-align: middle;\n",
       "    }\n",
       "\n",
       "    .dataframe tbody tr th {\n",
       "        vertical-align: top;\n",
       "    }\n",
       "\n",
       "    .dataframe thead th {\n",
       "        text-align: right;\n",
       "    }\n",
       "</style>\n",
       "<table border=\"1\" class=\"dataframe\">\n",
       "  <thead>\n",
       "    <tr style=\"text-align: right;\">\n",
       "      <th></th>\n",
       "      <th>002549.OF</th>\n",
       "      <th>004544.OF</th>\n",
       "      <th>070037.OF</th>\n",
       "      <th>519723.OF</th>\n",
       "      <th>000147.OF</th>\n",
       "      <th>003358.OF</th>\n",
       "      <th>070009.OF</th>\n",
       "    </tr>\n",
       "  </thead>\n",
       "  <tbody>\n",
       "    <tr>\n",
       "      <th>2019-11-18</th>\n",
       "      <td>1.1868</td>\n",
       "      <td>1.0781</td>\n",
       "      <td>1.156</td>\n",
       "      <td>1.076</td>\n",
       "      <td>1.124</td>\n",
       "      <td>1.0627</td>\n",
       "      <td>1.0494</td>\n",
       "    </tr>\n",
       "    <tr>\n",
       "      <th>2019-11-19</th>\n",
       "      <td>1.1873</td>\n",
       "      <td>1.0782</td>\n",
       "      <td>1.156</td>\n",
       "      <td>1.076</td>\n",
       "      <td>1.125</td>\n",
       "      <td>1.0648</td>\n",
       "      <td>1.0495</td>\n",
       "    </tr>\n",
       "    <tr>\n",
       "      <th>2019-11-20</th>\n",
       "      <td>1.1876</td>\n",
       "      <td>1.0780</td>\n",
       "      <td>1.156</td>\n",
       "      <td>1.076</td>\n",
       "      <td>1.125</td>\n",
       "      <td>1.0652</td>\n",
       "      <td>1.0497</td>\n",
       "    </tr>\n",
       "    <tr>\n",
       "      <th>2019-11-21</th>\n",
       "      <td>1.1881</td>\n",
       "      <td>1.0784</td>\n",
       "      <td>1.157</td>\n",
       "      <td>1.077</td>\n",
       "      <td>1.126</td>\n",
       "      <td>1.0655</td>\n",
       "      <td>1.0499</td>\n",
       "    </tr>\n",
       "    <tr>\n",
       "      <th>2019-11-22</th>\n",
       "      <td>1.1881</td>\n",
       "      <td>1.0791</td>\n",
       "      <td>1.157</td>\n",
       "      <td>1.077</td>\n",
       "      <td>1.127</td>\n",
       "      <td>1.0652</td>\n",
       "      <td>1.0501</td>\n",
       "    </tr>\n",
       "  </tbody>\n",
       "</table>\n",
       "</div>"
      ],
      "text/plain": [
       "            002549.OF  004544.OF  070037.OF  519723.OF  000147.OF  003358.OF  \\\n",
       "2019-11-18     1.1868     1.0781      1.156      1.076      1.124     1.0627   \n",
       "2019-11-19     1.1873     1.0782      1.156      1.076      1.125     1.0648   \n",
       "2019-11-20     1.1876     1.0780      1.156      1.076      1.125     1.0652   \n",
       "2019-11-21     1.1881     1.0784      1.157      1.077      1.126     1.0655   \n",
       "2019-11-22     1.1881     1.0791      1.157      1.077      1.127     1.0652   \n",
       "\n",
       "            070009.OF  \n",
       "2019-11-18     1.0494  \n",
       "2019-11-19     1.0495  \n",
       "2019-11-20     1.0497  \n",
       "2019-11-21     1.0499  \n",
       "2019-11-22     1.0501  "
      ]
     },
     "execution_count": 19,
     "metadata": {},
     "output_type": "execute_result"
    }
   ],
   "source": [
    "fdf.head()"
   ]
  },
  {
   "cell_type": "code",
   "execution_count": 20,
   "metadata": {},
   "outputs": [],
   "source": [
    "rfdf = fdf.pct_change().dropna()"
   ]
  },
  {
   "cell_type": "code",
   "execution_count": 21,
   "metadata": {},
   "outputs": [
    {
     "name": "stdout",
     "output_type": "stream",
     "text": [
      "(10, 7)\n",
      "(10, 5)\n"
     ]
    }
   ],
   "source": [
    "print rfdf.shape\n",
    "print rdf.shape"
   ]
  },
  {
   "cell_type": "markdown",
   "metadata": {},
   "source": [
    "# 非负线性优化求解"
   ]
  },
  {
   "cell_type": "code",
   "execution_count": 22,
   "metadata": {},
   "outputs": [],
   "source": [
    "decomp = pd.DataFrame(index=codes, columns=[u'0-1', u'1-3', u'3-5', u'5-7', u'7-10'])\n",
    "decomp.index.name = u'基金代码'"
   ]
  },
  {
   "cell_type": "code",
   "execution_count": 23,
   "metadata": {},
   "outputs": [],
   "source": [
    "def objective(coef, args):\n",
    "    n = coef.size\n",
    "    X, y = args[0], args[1]\n",
    "    target = np.dot(X, coef)\n",
    "#     error = np.sum(np.square(target - y)) + np.linalg.norm(coef, 2) # ridge error\n",
    "    error = np.sum(np.square(target - y)) + np.linalg.norm(coef, 1) # lasso error\n",
    "    return error / n\n",
    "\n",
    "def decomposition(code):\n",
    "    TOLERANCE = 1e-10\n",
    "    n = rdf.shape[1]\n",
    "    init_weights = np.array([1. / n] * n)\n",
    "    X = rdf.values * 100\n",
    "    y = rfdf[code].values * 100\n",
    "    \n",
    "    constraints = ({'type': 'eq', 'fun': lambda x: np.sum(x) - 1.0},\n",
    "                   {'type': 'ineq', 'fun': lambda x: x})\n",
    "    \n",
    "    opt_res = minimize(fun=objective,\n",
    "                       x0=init_weights,\n",
    "                       args=[X, y],\n",
    "                       constraints=constraints,\n",
    "                       tol=TOLERANCE,\n",
    "                       options={'disp': True})\n",
    "    \n",
    "    return opt_res.x"
   ]
  },
  {
   "cell_type": "code",
   "execution_count": 24,
   "metadata": {},
   "outputs": [
    {
     "name": "stdout",
     "output_type": "stream",
     "text": [
      "Optimization terminated successfully.    (Exit mode 0)\n",
      "            Current function value: 0.200596205182\n",
      "            Iterations: 23\n",
      "            Function evaluations: 161\n",
      "            Gradient evaluations: 23\n"
     ]
    },
    {
     "data": {
      "text/plain": [
       "array([ 6.12421879e-01,  2.25188791e-16,  3.87578121e-01, -9.14050194e-17,\n",
       "        1.63985579e-18])"
      ]
     },
     "execution_count": 24,
     "metadata": {},
     "output_type": "execute_result"
    }
   ],
   "source": [
    "decomposition(codes[0])"
   ]
  },
  {
   "cell_type": "code",
   "execution_count": 25,
   "metadata": {},
   "outputs": [
    {
     "name": "stdout",
     "output_type": "stream",
     "text": [
      "Optimization terminated successfully.    (Exit mode 0)\n",
      "            Current function value: 0.200596205182\n",
      "            Iterations: 23\n",
      "            Function evaluations: 161\n",
      "            Gradient evaluations: 23\n",
      "Optimization terminated successfully.    (Exit mode 0)\n",
      "            Current function value: 0.201269685836\n",
      "            Iterations: 18\n",
      "            Function evaluations: 126\n",
      "            Gradient evaluations: 18\n",
      "Optimization terminated successfully.    (Exit mode 0)\n",
      "            Current function value: 0.202735757653\n",
      "            Iterations: 20\n",
      "            Function evaluations: 140\n",
      "            Gradient evaluations: 20\n",
      "Optimization terminated successfully.    (Exit mode 0)\n",
      "            Current function value: 0.202765289536\n",
      "            Iterations: 19\n",
      "            Function evaluations: 133\n",
      "            Gradient evaluations: 19\n",
      "Optimization terminated successfully.    (Exit mode 0)\n",
      "            Current function value: 0.2029585894\n",
      "            Iterations: 28\n",
      "            Function evaluations: 196\n",
      "            Gradient evaluations: 28\n",
      "Optimization terminated successfully.    (Exit mode 0)\n",
      "            Current function value: 0.222533647197\n",
      "            Iterations: 16\n",
      "            Function evaluations: 112\n",
      "            Gradient evaluations: 16\n",
      "Optimization terminated successfully.    (Exit mode 0)\n",
      "            Current function value: 0.200114518367\n",
      "            Iterations: 20\n",
      "            Function evaluations: 140\n",
      "            Gradient evaluations: 20\n"
     ]
    }
   ],
   "source": [
    "for c in codes:\n",
    "    weight = decomposition(c)\n",
    "    decomp.loc[c] = weight"
   ]
  },
  {
   "cell_type": "code",
   "execution_count": 26,
   "metadata": {},
   "outputs": [
    {
     "data": {
      "text/html": [
       "<div>\n",
       "<style scoped>\n",
       "    .dataframe tbody tr th:only-of-type {\n",
       "        vertical-align: middle;\n",
       "    }\n",
       "\n",
       "    .dataframe tbody tr th {\n",
       "        vertical-align: top;\n",
       "    }\n",
       "\n",
       "    .dataframe thead th {\n",
       "        text-align: right;\n",
       "    }\n",
       "</style>\n",
       "<table border=\"1\" class=\"dataframe\">\n",
       "  <thead>\n",
       "    <tr style=\"text-align: right;\">\n",
       "      <th></th>\n",
       "      <th>0-1</th>\n",
       "      <th>1-3</th>\n",
       "      <th>3-5</th>\n",
       "      <th>5-7</th>\n",
       "      <th>7-10</th>\n",
       "    </tr>\n",
       "    <tr>\n",
       "      <th>基金代码</th>\n",
       "      <th></th>\n",
       "      <th></th>\n",
       "      <th></th>\n",
       "      <th></th>\n",
       "      <th></th>\n",
       "    </tr>\n",
       "  </thead>\n",
       "  <tbody>\n",
       "    <tr>\n",
       "      <th>002549.OF</th>\n",
       "      <td>0.612422</td>\n",
       "      <td>2.25189e-16</td>\n",
       "      <td>0.387578</td>\n",
       "      <td>-9.1405e-17</td>\n",
       "      <td>1.63986e-18</td>\n",
       "    </tr>\n",
       "    <tr>\n",
       "      <th>004544.OF</th>\n",
       "      <td>0.91751</td>\n",
       "      <td>0.0824899</td>\n",
       "      <td>-1.43453e-17</td>\n",
       "      <td>-3.69984e-18</td>\n",
       "      <td>-4.83148e-18</td>\n",
       "    </tr>\n",
       "    <tr>\n",
       "      <th>070037.OF</th>\n",
       "      <td>0.660798</td>\n",
       "      <td>0.129381</td>\n",
       "      <td>0.209821</td>\n",
       "      <td>2.3124e-19</td>\n",
       "      <td>-5.83462e-17</td>\n",
       "    </tr>\n",
       "    <tr>\n",
       "      <th>519723.OF</th>\n",
       "      <td>3.33067e-16</td>\n",
       "      <td>1</td>\n",
       "      <td>7.04731e-17</td>\n",
       "      <td>4.09693e-17</td>\n",
       "      <td>7.75848e-17</td>\n",
       "    </tr>\n",
       "    <tr>\n",
       "      <th>000147.OF</th>\n",
       "      <td>-1.72186e-17</td>\n",
       "      <td>0.195897</td>\n",
       "      <td>0.793946</td>\n",
       "      <td>-3.96721e-17</td>\n",
       "      <td>0.0101568</td>\n",
       "    </tr>\n",
       "    <tr>\n",
       "      <th>003358.OF</th>\n",
       "      <td>-3.65338e-16</td>\n",
       "      <td>-1.04083e-16</td>\n",
       "      <td>1</td>\n",
       "      <td>-3.10771e-16</td>\n",
       "      <td>-4.73534e-17</td>\n",
       "    </tr>\n",
       "    <tr>\n",
       "      <th>070009.OF</th>\n",
       "      <td>0.984108</td>\n",
       "      <td>-2.62377e-17</td>\n",
       "      <td>0.0158916</td>\n",
       "      <td>-2.53432e-18</td>\n",
       "      <td>9.51387e-18</td>\n",
       "    </tr>\n",
       "  </tbody>\n",
       "</table>\n",
       "</div>"
      ],
      "text/plain": [
       "                   0-1          1-3          3-5          5-7         7-10\n",
       "基金代码                                                                      \n",
       "002549.OF     0.612422  2.25189e-16     0.387578  -9.1405e-17  1.63986e-18\n",
       "004544.OF      0.91751    0.0824899 -1.43453e-17 -3.69984e-18 -4.83148e-18\n",
       "070037.OF     0.660798     0.129381     0.209821   2.3124e-19 -5.83462e-17\n",
       "519723.OF  3.33067e-16            1  7.04731e-17  4.09693e-17  7.75848e-17\n",
       "000147.OF -1.72186e-17     0.195897     0.793946 -3.96721e-17    0.0101568\n",
       "003358.OF -3.65338e-16 -1.04083e-16            1 -3.10771e-16 -4.73534e-17\n",
       "070009.OF     0.984108 -2.62377e-17    0.0158916 -2.53432e-18  9.51387e-18"
      ]
     },
     "execution_count": 26,
     "metadata": {},
     "output_type": "execute_result"
    }
   ],
   "source": [
    "decomp"
   ]
  },
  {
   "cell_type": "code",
   "execution_count": 27,
   "metadata": {},
   "outputs": [],
   "source": [
    "decomp[u'久期'] = decomp.dot(duration)"
   ]
  },
  {
   "cell_type": "code",
   "execution_count": 28,
   "metadata": {},
   "outputs": [],
   "source": [
    "decomp[u'基金名称'] = fund_df[fund_df[u'代码'].isin(codes)][u'名称'].tolist()"
   ]
  },
  {
   "cell_type": "code",
   "execution_count": 29,
   "metadata": {},
   "outputs": [
    {
     "data": {
      "text/html": [
       "<div>\n",
       "<style scoped>\n",
       "    .dataframe tbody tr th:only-of-type {\n",
       "        vertical-align: middle;\n",
       "    }\n",
       "\n",
       "    .dataframe tbody tr th {\n",
       "        vertical-align: top;\n",
       "    }\n",
       "\n",
       "    .dataframe thead th {\n",
       "        text-align: right;\n",
       "    }\n",
       "</style>\n",
       "<table border=\"1\" class=\"dataframe\">\n",
       "  <thead>\n",
       "    <tr style=\"text-align: right;\">\n",
       "      <th></th>\n",
       "      <th>0-1</th>\n",
       "      <th>1-3</th>\n",
       "      <th>3-5</th>\n",
       "      <th>5-7</th>\n",
       "      <th>7-10</th>\n",
       "      <th>久期</th>\n",
       "      <th>基金名称</th>\n",
       "    </tr>\n",
       "    <tr>\n",
       "      <th>基金代码</th>\n",
       "      <th></th>\n",
       "      <th></th>\n",
       "      <th></th>\n",
       "      <th></th>\n",
       "      <th></th>\n",
       "      <th></th>\n",
       "      <th></th>\n",
       "    </tr>\n",
       "  </thead>\n",
       "  <tbody>\n",
       "    <tr>\n",
       "      <th>002549.OF</th>\n",
       "      <td>0.612422</td>\n",
       "      <td>2.25189e-16</td>\n",
       "      <td>0.387578</td>\n",
       "      <td>-9.1405e-17</td>\n",
       "      <td>1.63986e-18</td>\n",
       "      <td>1.71631</td>\n",
       "      <td>嘉实稳祥纯债A</td>\n",
       "    </tr>\n",
       "    <tr>\n",
       "      <th>004544.OF</th>\n",
       "      <td>0.91751</td>\n",
       "      <td>0.0824899</td>\n",
       "      <td>-1.43453e-17</td>\n",
       "      <td>-3.69984e-18</td>\n",
       "      <td>-4.83148e-18</td>\n",
       "      <td>0.665919</td>\n",
       "      <td>嘉实稳华纯债</td>\n",
       "    </tr>\n",
       "    <tr>\n",
       "      <th>070037.OF</th>\n",
       "      <td>0.660798</td>\n",
       "      <td>0.129381</td>\n",
       "      <td>0.209821</td>\n",
       "      <td>2.3124e-19</td>\n",
       "      <td>-5.83462e-17</td>\n",
       "      <td>1.37176</td>\n",
       "      <td>嘉实纯债A</td>\n",
       "    </tr>\n",
       "    <tr>\n",
       "      <th>519723.OF</th>\n",
       "      <td>3.33067e-16</td>\n",
       "      <td>1</td>\n",
       "      <td>7.04731e-17</td>\n",
       "      <td>4.09693e-17</td>\n",
       "      <td>7.75848e-17</td>\n",
       "      <td>2.0409</td>\n",
       "      <td>交银双轮动AB</td>\n",
       "    </tr>\n",
       "    <tr>\n",
       "      <th>000147.OF</th>\n",
       "      <td>-1.72186e-17</td>\n",
       "      <td>0.195897</td>\n",
       "      <td>0.793946</td>\n",
       "      <td>-3.96721e-17</td>\n",
       "      <td>0.0101568</td>\n",
       "      <td>3.30323</td>\n",
       "      <td>易方达高等级信用债A</td>\n",
       "    </tr>\n",
       "    <tr>\n",
       "      <th>003358.OF</th>\n",
       "      <td>-3.65338e-16</td>\n",
       "      <td>-1.04083e-16</td>\n",
       "      <td>1</td>\n",
       "      <td>-3.10771e-16</td>\n",
       "      <td>-4.73534e-17</td>\n",
       "      <td>3.5714</td>\n",
       "      <td>易方达7-10年国开行</td>\n",
       "    </tr>\n",
       "    <tr>\n",
       "      <th>070009.OF</th>\n",
       "      <td>0.984108</td>\n",
       "      <td>-2.62377e-17</td>\n",
       "      <td>0.0158916</td>\n",
       "      <td>-2.53432e-18</td>\n",
       "      <td>9.51387e-18</td>\n",
       "      <td>0.590437</td>\n",
       "      <td>嘉实超短债</td>\n",
       "    </tr>\n",
       "  </tbody>\n",
       "</table>\n",
       "</div>"
      ],
      "text/plain": [
       "                   0-1          1-3          3-5          5-7         7-10  \\\n",
       "基金代码                                                                         \n",
       "002549.OF     0.612422  2.25189e-16     0.387578  -9.1405e-17  1.63986e-18   \n",
       "004544.OF      0.91751    0.0824899 -1.43453e-17 -3.69984e-18 -4.83148e-18   \n",
       "070037.OF     0.660798     0.129381     0.209821   2.3124e-19 -5.83462e-17   \n",
       "519723.OF  3.33067e-16            1  7.04731e-17  4.09693e-17  7.75848e-17   \n",
       "000147.OF -1.72186e-17     0.195897     0.793946 -3.96721e-17    0.0101568   \n",
       "003358.OF -3.65338e-16 -1.04083e-16            1 -3.10771e-16 -4.73534e-17   \n",
       "070009.OF     0.984108 -2.62377e-17    0.0158916 -2.53432e-18  9.51387e-18   \n",
       "\n",
       "                 久期         基金名称  \n",
       "基金代码                              \n",
       "002549.OF   1.71631      嘉实稳祥纯债A  \n",
       "004544.OF  0.665919       嘉实稳华纯债  \n",
       "070037.OF   1.37176        嘉实纯债A  \n",
       "519723.OF    2.0409      交银双轮动AB  \n",
       "000147.OF   3.30323   易方达高等级信用债A  \n",
       "003358.OF    3.5714  易方达7-10年国开行  \n",
       "070009.OF  0.590437        嘉实超短债  "
      ]
     },
     "execution_count": 29,
     "metadata": {},
     "output_type": "execute_result"
    }
   ],
   "source": [
    "decomp"
   ]
  },
  {
   "cell_type": "code",
   "execution_count": 30,
   "metadata": {},
   "outputs": [],
   "source": [
    "decomp = decomp[[decomp.columns[-1]] + decomp.columns[:-1].tolist()]"
   ]
  },
  {
   "cell_type": "code",
   "execution_count": 31,
   "metadata": {},
   "outputs": [
    {
     "data": {
      "text/html": [
       "<div>\n",
       "<style scoped>\n",
       "    .dataframe tbody tr th:only-of-type {\n",
       "        vertical-align: middle;\n",
       "    }\n",
       "\n",
       "    .dataframe tbody tr th {\n",
       "        vertical-align: top;\n",
       "    }\n",
       "\n",
       "    .dataframe thead th {\n",
       "        text-align: right;\n",
       "    }\n",
       "</style>\n",
       "<table border=\"1\" class=\"dataframe\">\n",
       "  <thead>\n",
       "    <tr style=\"text-align: right;\">\n",
       "      <th></th>\n",
       "      <th>基金名称</th>\n",
       "      <th>0-1</th>\n",
       "      <th>1-3</th>\n",
       "      <th>3-5</th>\n",
       "      <th>5-7</th>\n",
       "      <th>7-10</th>\n",
       "      <th>久期</th>\n",
       "    </tr>\n",
       "    <tr>\n",
       "      <th>基金代码</th>\n",
       "      <th></th>\n",
       "      <th></th>\n",
       "      <th></th>\n",
       "      <th></th>\n",
       "      <th></th>\n",
       "      <th></th>\n",
       "      <th></th>\n",
       "    </tr>\n",
       "  </thead>\n",
       "  <tbody>\n",
       "    <tr>\n",
       "      <th>002549.OF</th>\n",
       "      <td>嘉实稳祥纯债A</td>\n",
       "      <td>0.612422</td>\n",
       "      <td>2.25189e-16</td>\n",
       "      <td>0.387578</td>\n",
       "      <td>-9.1405e-17</td>\n",
       "      <td>1.63986e-18</td>\n",
       "      <td>1.71631</td>\n",
       "    </tr>\n",
       "    <tr>\n",
       "      <th>004544.OF</th>\n",
       "      <td>嘉实稳华纯债</td>\n",
       "      <td>0.91751</td>\n",
       "      <td>0.0824899</td>\n",
       "      <td>-1.43453e-17</td>\n",
       "      <td>-3.69984e-18</td>\n",
       "      <td>-4.83148e-18</td>\n",
       "      <td>0.665919</td>\n",
       "    </tr>\n",
       "    <tr>\n",
       "      <th>070037.OF</th>\n",
       "      <td>嘉实纯债A</td>\n",
       "      <td>0.660798</td>\n",
       "      <td>0.129381</td>\n",
       "      <td>0.209821</td>\n",
       "      <td>2.3124e-19</td>\n",
       "      <td>-5.83462e-17</td>\n",
       "      <td>1.37176</td>\n",
       "    </tr>\n",
       "    <tr>\n",
       "      <th>519723.OF</th>\n",
       "      <td>交银双轮动AB</td>\n",
       "      <td>3.33067e-16</td>\n",
       "      <td>1</td>\n",
       "      <td>7.04731e-17</td>\n",
       "      <td>4.09693e-17</td>\n",
       "      <td>7.75848e-17</td>\n",
       "      <td>2.0409</td>\n",
       "    </tr>\n",
       "    <tr>\n",
       "      <th>000147.OF</th>\n",
       "      <td>易方达高等级信用债A</td>\n",
       "      <td>-1.72186e-17</td>\n",
       "      <td>0.195897</td>\n",
       "      <td>0.793946</td>\n",
       "      <td>-3.96721e-17</td>\n",
       "      <td>0.0101568</td>\n",
       "      <td>3.30323</td>\n",
       "    </tr>\n",
       "    <tr>\n",
       "      <th>003358.OF</th>\n",
       "      <td>易方达7-10年国开行</td>\n",
       "      <td>-3.65338e-16</td>\n",
       "      <td>-1.04083e-16</td>\n",
       "      <td>1</td>\n",
       "      <td>-3.10771e-16</td>\n",
       "      <td>-4.73534e-17</td>\n",
       "      <td>3.5714</td>\n",
       "    </tr>\n",
       "    <tr>\n",
       "      <th>070009.OF</th>\n",
       "      <td>嘉实超短债</td>\n",
       "      <td>0.984108</td>\n",
       "      <td>-2.62377e-17</td>\n",
       "      <td>0.0158916</td>\n",
       "      <td>-2.53432e-18</td>\n",
       "      <td>9.51387e-18</td>\n",
       "      <td>0.590437</td>\n",
       "    </tr>\n",
       "  </tbody>\n",
       "</table>\n",
       "</div>"
      ],
      "text/plain": [
       "                  基金名称          0-1          1-3          3-5          5-7  \\\n",
       "基金代码                                                                         \n",
       "002549.OF      嘉实稳祥纯债A     0.612422  2.25189e-16     0.387578  -9.1405e-17   \n",
       "004544.OF       嘉实稳华纯债      0.91751    0.0824899 -1.43453e-17 -3.69984e-18   \n",
       "070037.OF        嘉实纯债A     0.660798     0.129381     0.209821   2.3124e-19   \n",
       "519723.OF      交银双轮动AB  3.33067e-16            1  7.04731e-17  4.09693e-17   \n",
       "000147.OF   易方达高等级信用债A -1.72186e-17     0.195897     0.793946 -3.96721e-17   \n",
       "003358.OF  易方达7-10年国开行 -3.65338e-16 -1.04083e-16            1 -3.10771e-16   \n",
       "070009.OF        嘉实超短债     0.984108 -2.62377e-17    0.0158916 -2.53432e-18   \n",
       "\n",
       "                  7-10        久期  \n",
       "基金代码                              \n",
       "002549.OF  1.63986e-18   1.71631  \n",
       "004544.OF -4.83148e-18  0.665919  \n",
       "070037.OF -5.83462e-17   1.37176  \n",
       "519723.OF  7.75848e-17    2.0409  \n",
       "000147.OF    0.0101568   3.30323  \n",
       "003358.OF -4.73534e-17    3.5714  \n",
       "070009.OF  9.51387e-18  0.590437  "
      ]
     },
     "execution_count": 31,
     "metadata": {},
     "output_type": "execute_result"
    }
   ],
   "source": [
    "decomp"
   ]
  },
  {
   "cell_type": "code",
   "execution_count": 32,
   "metadata": {},
   "outputs": [],
   "source": [
    "decomp.to_excel(u'../data/债券基金收益率分解.xlsx')"
   ]
  },
  {
   "cell_type": "code",
   "execution_count": null,
   "metadata": {},
   "outputs": [],
   "source": []
  }
 ],
 "metadata": {
  "kernelspec": {
   "display_name": "Python 2",
   "language": "python",
   "name": "python2"
  },
  "language_info": {
   "codemirror_mode": {
    "name": "ipython",
    "version": 2
   },
   "file_extension": ".py",
   "mimetype": "text/x-python",
   "name": "python",
   "nbconvert_exporter": "python",
   "pygments_lexer": "ipython2",
   "version": "2.7.14"
  }
 },
 "nbformat": 4,
 "nbformat_minor": 4
}
