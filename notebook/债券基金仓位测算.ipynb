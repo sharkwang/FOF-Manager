{
 "cells": [
  {
   "cell_type": "code",
   "execution_count": 1,
   "metadata": {},
   "outputs": [],
   "source": [
    "import pandas as pd\n",
    "import numpy as np\n",
    "import matplotlib.pyplot as plt\n",
    "from scipy.optimize import minimize\n",
    "from WindPy import w\n",
    "from sklearn.linear_model import LinearRegression\n",
    "import datetime\n",
    "%matplotlib inline"
   ]
  },
  {
   "cell_type": "code",
   "execution_count": 2,
   "metadata": {},
   "outputs": [
    {
     "name": "stdout",
     "output_type": "stream",
     "text": [
      "Welcome to use Wind Quant API for Python (WindPy)!\n",
      "\n",
      "COPYRIGHT (C) 2017 WIND INFORMATION CO., LTD. ALL RIGHTS RESERVED.\n",
      "IN NO CIRCUMSTANCE SHALL WIND BE RESPONSIBLE FOR ANY DAMAGES OR LOSSES CAUSED BY USING WIND QUANT API FOR Python.\n"
     ]
    },
    {
     "data": {
      "text/plain": [
       ".ErrorCode=0\n",
       ".Data=[OK!]"
      ]
     },
     "execution_count": 2,
     "metadata": {},
     "output_type": "execute_result"
    }
   ],
   "source": [
    "w.start()"
   ]
  },
  {
   "cell_type": "code",
   "execution_count": 3,
   "metadata": {},
   "outputs": [],
   "source": [
    "start_date, end_date = '2018-10-22', datetime.datetime.today()"
   ]
  },
  {
   "cell_type": "markdown",
   "metadata": {},
   "source": [
    "# 获取债券指数历史收益率"
   ]
  },
  {
   "cell_type": "code",
   "execution_count": 110,
   "metadata": {},
   "outputs": [],
   "source": [
    "codes = 'CBA00111.CS, CBA00121.CS, CBA00131.CS, CBA00141.CS, CBA00151.CS'"
   ]
  },
  {
   "cell_type": "code",
   "execution_count": 111,
   "metadata": {},
   "outputs": [],
   "source": [
    "data = w.wsd(codes, 'close', start_date, end_date)"
   ]
  },
  {
   "cell_type": "code",
   "execution_count": 112,
   "metadata": {},
   "outputs": [
    {
     "data": {
      "text/plain": [
       ".ErrorCode=0\n",
       ".Codes=[CBA00111.CS,CBA00121.CS,CBA00131.CS,CBA00141.CS,CBA00151.CS]\n",
       ".Fields=[CLOSE]\n",
       ".Times=[20181022,20181023,20181024,20181025,20181026,20181029,20181030,20181031,20181101,20181102,...]\n",
       ".Data=[[168.191,168.2038,168.2169,168.2309,168.2482,168.2993,168.3178,168.3168,168.3328,168.3378,...],[181.1973,181.2234,181.2847,181.3317,181.3727,181.5063,181.5647,181.5673,181.625,181.6271,...],[191.9484,191.9823,192.0654,192.1729,192.2332,192.5271,192.6177,192.6295,192.6616,192.6154,...],[196.5966,196.6772,196.8045,196.9654,197.0978,197.4548,197.5294,197.5509,197.7069,197.5774,...],[184.2893,184.4886,184.7905,184.9497,185.0183,185.4303,185.5143,185.5581,185.748,185.48,...]]"
      ]
     },
     "execution_count": 112,
     "metadata": {},
     "output_type": "execute_result"
    }
   ],
   "source": [
    "data"
   ]
  },
  {
   "cell_type": "code",
   "execution_count": 113,
   "metadata": {},
   "outputs": [],
   "source": [
    "df = pd.DataFrame(np.array(data.Data).T, index=data.Times, columns=data.Codes)"
   ]
  },
  {
   "cell_type": "code",
   "execution_count": 114,
   "metadata": {},
   "outputs": [],
   "source": [
    "rdf = df.pct_change().dropna()"
   ]
  },
  {
   "cell_type": "code",
   "execution_count": 115,
   "metadata": {},
   "outputs": [
    {
     "data": {
      "text/html": [
       "<div>\n",
       "<style scoped>\n",
       "    .dataframe tbody tr th:only-of-type {\n",
       "        vertical-align: middle;\n",
       "    }\n",
       "\n",
       "    .dataframe tbody tr th {\n",
       "        vertical-align: top;\n",
       "    }\n",
       "\n",
       "    .dataframe thead th {\n",
       "        text-align: right;\n",
       "    }\n",
       "</style>\n",
       "<table border=\"1\" class=\"dataframe\">\n",
       "  <thead>\n",
       "    <tr style=\"text-align: right;\">\n",
       "      <th></th>\n",
       "      <th>CBA00111.CS</th>\n",
       "      <th>CBA00121.CS</th>\n",
       "      <th>CBA00131.CS</th>\n",
       "      <th>CBA00141.CS</th>\n",
       "      <th>CBA00151.CS</th>\n",
       "    </tr>\n",
       "  </thead>\n",
       "  <tbody>\n",
       "    <tr>\n",
       "      <th>2019-11-18</th>\n",
       "      <td>0.000327</td>\n",
       "      <td>0.000611</td>\n",
       "      <td>0.001103</td>\n",
       "      <td>0.001837</td>\n",
       "      <td>0.002483</td>\n",
       "    </tr>\n",
       "    <tr>\n",
       "      <th>2019-11-19</th>\n",
       "      <td>0.000156</td>\n",
       "      <td>0.000423</td>\n",
       "      <td>0.000751</td>\n",
       "      <td>0.001100</td>\n",
       "      <td>0.001942</td>\n",
       "    </tr>\n",
       "    <tr>\n",
       "      <th>2019-11-20</th>\n",
       "      <td>0.000157</td>\n",
       "      <td>0.000292</td>\n",
       "      <td>0.000395</td>\n",
       "      <td>0.000341</td>\n",
       "      <td>-0.000066</td>\n",
       "    </tr>\n",
       "    <tr>\n",
       "      <th>2019-11-21</th>\n",
       "      <td>0.000106</td>\n",
       "      <td>0.000336</td>\n",
       "      <td>0.000608</td>\n",
       "      <td>0.000509</td>\n",
       "      <td>0.000459</td>\n",
       "    </tr>\n",
       "    <tr>\n",
       "      <th>2019-11-22</th>\n",
       "      <td>0.000000</td>\n",
       "      <td>0.000000</td>\n",
       "      <td>0.000000</td>\n",
       "      <td>0.000000</td>\n",
       "      <td>0.000000</td>\n",
       "    </tr>\n",
       "  </tbody>\n",
       "</table>\n",
       "</div>"
      ],
      "text/plain": [
       "            CBA00111.CS  CBA00121.CS  CBA00131.CS  CBA00141.CS  CBA00151.CS\n",
       "2019-11-18     0.000327     0.000611     0.001103     0.001837     0.002483\n",
       "2019-11-19     0.000156     0.000423     0.000751     0.001100     0.001942\n",
       "2019-11-20     0.000157     0.000292     0.000395     0.000341    -0.000066\n",
       "2019-11-21     0.000106     0.000336     0.000608     0.000509     0.000459\n",
       "2019-11-22     0.000000     0.000000     0.000000     0.000000     0.000000"
      ]
     },
     "execution_count": 115,
     "metadata": {},
     "output_type": "execute_result"
    }
   ],
   "source": [
    "rdf.tail()"
   ]
  },
  {
   "cell_type": "markdown",
   "metadata": {},
   "source": [
    "# 获取债券基金历史收益率"
   ]
  },
  {
   "cell_type": "code",
   "execution_count": 116,
   "metadata": {},
   "outputs": [],
   "source": [
    "fund_df = pd.read_excel(u'../data/债券基金池.xlsx')"
   ]
  },
  {
   "cell_type": "code",
   "execution_count": 117,
   "metadata": {},
   "outputs": [
    {
     "data": {
      "text/html": [
       "<div>\n",
       "<style scoped>\n",
       "    .dataframe tbody tr th:only-of-type {\n",
       "        vertical-align: middle;\n",
       "    }\n",
       "\n",
       "    .dataframe tbody tr th {\n",
       "        vertical-align: top;\n",
       "    }\n",
       "\n",
       "    .dataframe thead th {\n",
       "        text-align: right;\n",
       "    }\n",
       "</style>\n",
       "<table border=\"1\" class=\"dataframe\">\n",
       "  <thead>\n",
       "    <tr style=\"text-align: right;\">\n",
       "      <th></th>\n",
       "      <th>代码</th>\n",
       "      <th>名称</th>\n",
       "    </tr>\n",
       "  </thead>\n",
       "  <tbody>\n",
       "    <tr>\n",
       "      <th>0</th>\n",
       "      <td>002549.OF</td>\n",
       "      <td>嘉实稳祥纯债A</td>\n",
       "    </tr>\n",
       "    <tr>\n",
       "      <th>1</th>\n",
       "      <td>004544.OF</td>\n",
       "      <td>嘉实稳华纯债</td>\n",
       "    </tr>\n",
       "    <tr>\n",
       "      <th>2</th>\n",
       "      <td>070037.OF</td>\n",
       "      <td>嘉实纯债A</td>\n",
       "    </tr>\n",
       "    <tr>\n",
       "      <th>3</th>\n",
       "      <td>519723.OF</td>\n",
       "      <td>交银双轮动AB</td>\n",
       "    </tr>\n",
       "    <tr>\n",
       "      <th>4</th>\n",
       "      <td>000147.OF</td>\n",
       "      <td>易方达高等级信用债A</td>\n",
       "    </tr>\n",
       "    <tr>\n",
       "      <th>5</th>\n",
       "      <td>003358.OF</td>\n",
       "      <td>易方达7-10年国开行</td>\n",
       "    </tr>\n",
       "    <tr>\n",
       "      <th>6</th>\n",
       "      <td>070009.OF</td>\n",
       "      <td>嘉实超短债</td>\n",
       "    </tr>\n",
       "    <tr>\n",
       "      <th>7</th>\n",
       "      <td>000147.OF</td>\n",
       "      <td>易方达高等级信用债A</td>\n",
       "    </tr>\n",
       "  </tbody>\n",
       "</table>\n",
       "</div>"
      ],
      "text/plain": [
       "          代码           名称\n",
       "0  002549.OF      嘉实稳祥纯债A\n",
       "1  004544.OF       嘉实稳华纯债\n",
       "2  070037.OF        嘉实纯债A\n",
       "3  519723.OF      交银双轮动AB\n",
       "4  000147.OF   易方达高等级信用债A\n",
       "5  003358.OF  易方达7-10年国开行\n",
       "6  070009.OF        嘉实超短债\n",
       "7  000147.OF   易方达高等级信用债A"
      ]
     },
     "execution_count": 117,
     "metadata": {},
     "output_type": "execute_result"
    }
   ],
   "source": [
    "fund_df"
   ]
  },
  {
   "cell_type": "code",
   "execution_count": 123,
   "metadata": {},
   "outputs": [],
   "source": [
    "codes = fund_df[u'代码'].tolist()"
   ]
  },
  {
   "cell_type": "code",
   "execution_count": 124,
   "metadata": {},
   "outputs": [],
   "source": [
    "data = w.wsd(codes, 'nav', start_date, end_date)"
   ]
  },
  {
   "cell_type": "code",
   "execution_count": 125,
   "metadata": {},
   "outputs": [],
   "source": [
    "fdf = pd.DataFrame(np.array(data.Data).T, index=data.Times, columns=data.Codes)"
   ]
  },
  {
   "cell_type": "code",
   "execution_count": 126,
   "metadata": {},
   "outputs": [
    {
     "data": {
      "text/html": [
       "<div>\n",
       "<style scoped>\n",
       "    .dataframe tbody tr th:only-of-type {\n",
       "        vertical-align: middle;\n",
       "    }\n",
       "\n",
       "    .dataframe tbody tr th {\n",
       "        vertical-align: top;\n",
       "    }\n",
       "\n",
       "    .dataframe thead th {\n",
       "        text-align: right;\n",
       "    }\n",
       "</style>\n",
       "<table border=\"1\" class=\"dataframe\">\n",
       "  <thead>\n",
       "    <tr style=\"text-align: right;\">\n",
       "      <th></th>\n",
       "      <th>ErrorReport</th>\n",
       "    </tr>\n",
       "  </thead>\n",
       "  <tbody>\n",
       "    <tr>\n",
       "      <th>2019-11-22</th>\n",
       "      <td>CWSDService: repeated windcodes.</td>\n",
       "    </tr>\n",
       "  </tbody>\n",
       "</table>\n",
       "</div>"
      ],
      "text/plain": [
       "                                 ErrorReport\n",
       "2019-11-22  CWSDService: repeated windcodes."
      ]
     },
     "execution_count": 126,
     "metadata": {},
     "output_type": "execute_result"
    }
   ],
   "source": [
    "fdf.head()"
   ]
  },
  {
   "cell_type": "code",
   "execution_count": 121,
   "metadata": {},
   "outputs": [],
   "source": [
    "rfdf = fdf.pct_change().dropna()"
   ]
  },
  {
   "cell_type": "code",
   "execution_count": 122,
   "metadata": {},
   "outputs": [
    {
     "name": "stdout",
     "output_type": "stream",
     "text": [
      "(0, 1)\n",
      "(266, 5)\n"
     ]
    }
   ],
   "source": [
    "print rfdf.shape\n",
    "print rdf.shape"
   ]
  },
  {
   "cell_type": "markdown",
   "metadata": {},
   "source": [
    "# 非负线性优化求解"
   ]
  },
  {
   "cell_type": "code",
   "execution_count": 99,
   "metadata": {},
   "outputs": [],
   "source": [
    "decomp = pd.DataFrame(index=codes, columns=[u'0-1', u'1-3', u'3-5', u'5-7', u'7-10'])\n",
    "decomp.index.name = u'基金代码'"
   ]
  },
  {
   "cell_type": "code",
   "execution_count": 100,
   "metadata": {},
   "outputs": [],
   "source": [
    "def objective(coef, args):\n",
    "    n = coef.size\n",
    "    X, y = args[0], args[1]\n",
    "    target = np.dot(X, coef)\n",
    "#     error = np.sum(np.square(target - y))\n",
    "    error = np.sum(np.square(target - y)) + np.linalg.norm(coef, 1) # lasso error\n",
    "    return error / n\n",
    "\n",
    "def decomposition(code):\n",
    "    TOLERANCE = 1e-10\n",
    "    n = rdf.shape[1]\n",
    "    init_weights = np.array([1. / n] * n)\n",
    "    X = rdf.values\n",
    "    y = rfdf[code].values\n",
    "    \n",
    "    constraints = ({'type': 'eq', 'fun': lambda x: np.sum(x) - 1.0},\n",
    "                   {'type': 'ineq', 'fun': lambda x: x})\n",
    "    \n",
    "    opt_res = minimize(fun=objective,\n",
    "                       x0=init_weights,\n",
    "                       args=[X, y],\n",
    "                       constraints=constraints,\n",
    "                       tol=TOLERANCE,\n",
    "                       options={'disp': True})\n",
    "    \n",
    "    return opt_res.x"
   ]
  },
  {
   "cell_type": "code",
   "execution_count": 101,
   "metadata": {},
   "outputs": [
    {
     "name": "stdout",
     "output_type": "stream",
     "text": [
      "Optimization terminated successfully.    (Exit mode 0)\n",
      "            Current function value: 0.200004879502\n",
      "            Iterations: 8\n",
      "            Function evaluations: 56\n",
      "            Gradient evaluations: 8\n"
     ]
    },
    {
     "data": {
      "text/plain": [
       "array([0.29892919, 0.27104051, 0.20644682, 0.12437038, 0.09921309])"
      ]
     },
     "execution_count": 101,
     "metadata": {},
     "output_type": "execute_result"
    }
   ],
   "source": [
    "decomposition(codes[0])"
   ]
  },
  {
   "cell_type": "code",
   "execution_count": 102,
   "metadata": {},
   "outputs": [
    {
     "name": "stdout",
     "output_type": "stream",
     "text": [
      "Optimization terminated successfully.    (Exit mode 0)\n",
      "            Current function value: 0.200004879502\n",
      "            Iterations: 8\n",
      "            Function evaluations: 56\n",
      "            Gradient evaluations: 8\n",
      "Optimization terminated successfully.    (Exit mode 0)\n",
      "            Current function value: 0.200292929104\n",
      "            Iterations: 26\n",
      "            Function evaluations: 182\n",
      "            Gradient evaluations: 26\n",
      "Optimization terminated successfully.    (Exit mode 0)\n",
      "            Current function value: 0.200400678538\n",
      "            Iterations: 15\n",
      "            Function evaluations: 105\n",
      "            Gradient evaluations: 15\n",
      "Optimization terminated successfully.    (Exit mode 0)\n",
      "            Current function value: 0.200079887299\n",
      "            Iterations: 8\n",
      "            Function evaluations: 56\n",
      "            Gradient evaluations: 8\n",
      "Optimization terminated successfully.    (Exit mode 0)\n",
      "            Current function value: 0.201724953648\n",
      "            Iterations: 14\n",
      "            Function evaluations: 98\n",
      "            Gradient evaluations: 14\n",
      "Optimization terminated successfully.    (Exit mode 0)\n",
      "            Current function value: 0.200022883852\n",
      "            Iterations: 26\n",
      "            Function evaluations: 182\n",
      "            Gradient evaluations: 26\n",
      "Optimization terminated successfully.    (Exit mode 0)\n",
      "            Current function value: 0.200019308984\n",
      "            Iterations: 15\n",
      "            Function evaluations: 105\n",
      "            Gradient evaluations: 15\n"
     ]
    }
   ],
   "source": [
    "for c in codes:\n",
    "    weight = decomposition(c)\n",
    "    decomp.loc[c] = weight"
   ]
  },
  {
   "cell_type": "code",
   "execution_count": 103,
   "metadata": {},
   "outputs": [
    {
     "data": {
      "text/html": [
       "<div>\n",
       "<style scoped>\n",
       "    .dataframe tbody tr th:only-of-type {\n",
       "        vertical-align: middle;\n",
       "    }\n",
       "\n",
       "    .dataframe tbody tr th {\n",
       "        vertical-align: top;\n",
       "    }\n",
       "\n",
       "    .dataframe thead th {\n",
       "        text-align: right;\n",
       "    }\n",
       "</style>\n",
       "<table border=\"1\" class=\"dataframe\">\n",
       "  <thead>\n",
       "    <tr style=\"text-align: right;\">\n",
       "      <th></th>\n",
       "      <th>0-1</th>\n",
       "      <th>1-3</th>\n",
       "      <th>3-5</th>\n",
       "      <th>5-7</th>\n",
       "      <th>7-10</th>\n",
       "    </tr>\n",
       "    <tr>\n",
       "      <th>基金代码</th>\n",
       "      <th></th>\n",
       "      <th></th>\n",
       "      <th></th>\n",
       "      <th></th>\n",
       "      <th></th>\n",
       "    </tr>\n",
       "  </thead>\n",
       "  <tbody>\n",
       "    <tr>\n",
       "      <th>002549.OF</th>\n",
       "      <td>0.298929</td>\n",
       "      <td>0.271041</td>\n",
       "      <td>0.206447</td>\n",
       "      <td>0.12437</td>\n",
       "      <td>0.0992131</td>\n",
       "    </tr>\n",
       "    <tr>\n",
       "      <th>004544.OF</th>\n",
       "      <td>0.472007</td>\n",
       "      <td>0.320093</td>\n",
       "      <td>7.80626e-18</td>\n",
       "      <td>-2.42455e-17</td>\n",
       "      <td>0.2079</td>\n",
       "    </tr>\n",
       "    <tr>\n",
       "      <th>070037.OF</th>\n",
       "      <td>0.411144</td>\n",
       "      <td>0.357205</td>\n",
       "      <td>0.231651</td>\n",
       "      <td>0</td>\n",
       "      <td>1.89733e-17</td>\n",
       "    </tr>\n",
       "    <tr>\n",
       "      <th>519723.OF</th>\n",
       "      <td>0.314593</td>\n",
       "      <td>0.294178</td>\n",
       "      <td>0.200451</td>\n",
       "      <td>0.111186</td>\n",
       "      <td>0.0795926</td>\n",
       "    </tr>\n",
       "    <tr>\n",
       "      <th>000147.OF</th>\n",
       "      <td>0.379125</td>\n",
       "      <td>0.338938</td>\n",
       "      <td>0.281937</td>\n",
       "      <td>0</td>\n",
       "      <td>1.77877e-19</td>\n",
       "    </tr>\n",
       "    <tr>\n",
       "      <th>003358.OF</th>\n",
       "      <td>-5.32514e-17</td>\n",
       "      <td>1.43079e-17</td>\n",
       "      <td>-1.26585e-16</td>\n",
       "      <td>2.77556e-17</td>\n",
       "      <td>1</td>\n",
       "    </tr>\n",
       "    <tr>\n",
       "      <th>070009.OF</th>\n",
       "      <td>0.461102</td>\n",
       "      <td>0.360512</td>\n",
       "      <td>0.178386</td>\n",
       "      <td>2.77556e-17</td>\n",
       "      <td>2.10932e-17</td>\n",
       "    </tr>\n",
       "  </tbody>\n",
       "</table>\n",
       "</div>"
      ],
      "text/plain": [
       "                   0-1          1-3          3-5          5-7         7-10\n",
       "基金代码                                                                      \n",
       "002549.OF     0.298929     0.271041     0.206447      0.12437    0.0992131\n",
       "004544.OF     0.472007     0.320093  7.80626e-18 -2.42455e-17       0.2079\n",
       "070037.OF     0.411144     0.357205     0.231651            0  1.89733e-17\n",
       "519723.OF     0.314593     0.294178     0.200451     0.111186    0.0795926\n",
       "000147.OF     0.379125     0.338938     0.281937            0  1.77877e-19\n",
       "003358.OF -5.32514e-17  1.43079e-17 -1.26585e-16  2.77556e-17            1\n",
       "070009.OF     0.461102     0.360512     0.178386  2.77556e-17  2.10932e-17"
      ]
     },
     "execution_count": 103,
     "metadata": {},
     "output_type": "execute_result"
    }
   ],
   "source": [
    "decomp"
   ]
  },
  {
   "cell_type": "code",
   "execution_count": 104,
   "metadata": {},
   "outputs": [],
   "source": [
    "decomp[u'久期'] = decomp.dot(np.array([0.5, 2, 4, 6, 8]))"
   ]
  },
  {
   "cell_type": "code",
   "execution_count": 105,
   "metadata": {},
   "outputs": [],
   "source": [
    "decomp[u'基金名称'] = fund_df[fund_df[u'代码'].isin(codes)][u'名称'].tolist()"
   ]
  },
  {
   "cell_type": "code",
   "execution_count": 106,
   "metadata": {},
   "outputs": [
    {
     "data": {
      "text/html": [
       "<div>\n",
       "<style scoped>\n",
       "    .dataframe tbody tr th:only-of-type {\n",
       "        vertical-align: middle;\n",
       "    }\n",
       "\n",
       "    .dataframe tbody tr th {\n",
       "        vertical-align: top;\n",
       "    }\n",
       "\n",
       "    .dataframe thead th {\n",
       "        text-align: right;\n",
       "    }\n",
       "</style>\n",
       "<table border=\"1\" class=\"dataframe\">\n",
       "  <thead>\n",
       "    <tr style=\"text-align: right;\">\n",
       "      <th></th>\n",
       "      <th>0-1</th>\n",
       "      <th>1-3</th>\n",
       "      <th>3-5</th>\n",
       "      <th>5-7</th>\n",
       "      <th>7-10</th>\n",
       "      <th>久期</th>\n",
       "      <th>基金名称</th>\n",
       "    </tr>\n",
       "    <tr>\n",
       "      <th>基金代码</th>\n",
       "      <th></th>\n",
       "      <th></th>\n",
       "      <th></th>\n",
       "      <th></th>\n",
       "      <th></th>\n",
       "      <th></th>\n",
       "      <th></th>\n",
       "    </tr>\n",
       "  </thead>\n",
       "  <tbody>\n",
       "    <tr>\n",
       "      <th>002549.OF</th>\n",
       "      <td>0.298929</td>\n",
       "      <td>0.271041</td>\n",
       "      <td>0.206447</td>\n",
       "      <td>0.12437</td>\n",
       "      <td>0.0992131</td>\n",
       "      <td>3.05726</td>\n",
       "      <td>嘉实稳祥纯债A</td>\n",
       "    </tr>\n",
       "    <tr>\n",
       "      <th>004544.OF</th>\n",
       "      <td>0.472007</td>\n",
       "      <td>0.320093</td>\n",
       "      <td>7.80626e-18</td>\n",
       "      <td>-2.42455e-17</td>\n",
       "      <td>0.2079</td>\n",
       "      <td>2.53939</td>\n",
       "      <td>嘉实稳华纯债</td>\n",
       "    </tr>\n",
       "    <tr>\n",
       "      <th>070037.OF</th>\n",
       "      <td>0.411144</td>\n",
       "      <td>0.357205</td>\n",
       "      <td>0.231651</td>\n",
       "      <td>0</td>\n",
       "      <td>1.89733e-17</td>\n",
       "      <td>1.84659</td>\n",
       "      <td>嘉实纯债A</td>\n",
       "    </tr>\n",
       "    <tr>\n",
       "      <th>519723.OF</th>\n",
       "      <td>0.314593</td>\n",
       "      <td>0.294178</td>\n",
       "      <td>0.200451</td>\n",
       "      <td>0.111186</td>\n",
       "      <td>0.0795926</td>\n",
       "      <td>2.85131</td>\n",
       "      <td>交银双轮动AB</td>\n",
       "    </tr>\n",
       "    <tr>\n",
       "      <th>000147.OF</th>\n",
       "      <td>0.379125</td>\n",
       "      <td>0.338938</td>\n",
       "      <td>0.281937</td>\n",
       "      <td>0</td>\n",
       "      <td>1.77877e-19</td>\n",
       "      <td>1.99519</td>\n",
       "      <td>易方达高等级信用债A</td>\n",
       "    </tr>\n",
       "    <tr>\n",
       "      <th>003358.OF</th>\n",
       "      <td>-5.32514e-17</td>\n",
       "      <td>1.43079e-17</td>\n",
       "      <td>-1.26585e-16</td>\n",
       "      <td>2.77556e-17</td>\n",
       "      <td>1</td>\n",
       "      <td>8</td>\n",
       "      <td>易方达7-10年国开行</td>\n",
       "    </tr>\n",
       "    <tr>\n",
       "      <th>070009.OF</th>\n",
       "      <td>0.461102</td>\n",
       "      <td>0.360512</td>\n",
       "      <td>0.178386</td>\n",
       "      <td>2.77556e-17</td>\n",
       "      <td>2.10932e-17</td>\n",
       "      <td>1.66512</td>\n",
       "      <td>嘉实超短债</td>\n",
       "    </tr>\n",
       "  </tbody>\n",
       "</table>\n",
       "</div>"
      ],
      "text/plain": [
       "                   0-1          1-3          3-5          5-7         7-10  \\\n",
       "基金代码                                                                         \n",
       "002549.OF     0.298929     0.271041     0.206447      0.12437    0.0992131   \n",
       "004544.OF     0.472007     0.320093  7.80626e-18 -2.42455e-17       0.2079   \n",
       "070037.OF     0.411144     0.357205     0.231651            0  1.89733e-17   \n",
       "519723.OF     0.314593     0.294178     0.200451     0.111186    0.0795926   \n",
       "000147.OF     0.379125     0.338938     0.281937            0  1.77877e-19   \n",
       "003358.OF -5.32514e-17  1.43079e-17 -1.26585e-16  2.77556e-17            1   \n",
       "070009.OF     0.461102     0.360512     0.178386  2.77556e-17  2.10932e-17   \n",
       "\n",
       "                久期         基金名称  \n",
       "基金代码                             \n",
       "002549.OF  3.05726      嘉实稳祥纯债A  \n",
       "004544.OF  2.53939       嘉实稳华纯债  \n",
       "070037.OF  1.84659        嘉实纯债A  \n",
       "519723.OF  2.85131      交银双轮动AB  \n",
       "000147.OF  1.99519   易方达高等级信用债A  \n",
       "003358.OF        8  易方达7-10年国开行  \n",
       "070009.OF  1.66512        嘉实超短债  "
      ]
     },
     "execution_count": 106,
     "metadata": {},
     "output_type": "execute_result"
    }
   ],
   "source": [
    "decomp"
   ]
  },
  {
   "cell_type": "code",
   "execution_count": 107,
   "metadata": {},
   "outputs": [],
   "source": [
    "decomp = decomp[[decomp.columns[-1]] + decomp.columns[:-1].tolist()]"
   ]
  },
  {
   "cell_type": "code",
   "execution_count": 108,
   "metadata": {},
   "outputs": [
    {
     "data": {
      "text/html": [
       "<div>\n",
       "<style scoped>\n",
       "    .dataframe tbody tr th:only-of-type {\n",
       "        vertical-align: middle;\n",
       "    }\n",
       "\n",
       "    .dataframe tbody tr th {\n",
       "        vertical-align: top;\n",
       "    }\n",
       "\n",
       "    .dataframe thead th {\n",
       "        text-align: right;\n",
       "    }\n",
       "</style>\n",
       "<table border=\"1\" class=\"dataframe\">\n",
       "  <thead>\n",
       "    <tr style=\"text-align: right;\">\n",
       "      <th></th>\n",
       "      <th>基金名称</th>\n",
       "      <th>0-1</th>\n",
       "      <th>1-3</th>\n",
       "      <th>3-5</th>\n",
       "      <th>5-7</th>\n",
       "      <th>7-10</th>\n",
       "      <th>久期</th>\n",
       "    </tr>\n",
       "    <tr>\n",
       "      <th>基金代码</th>\n",
       "      <th></th>\n",
       "      <th></th>\n",
       "      <th></th>\n",
       "      <th></th>\n",
       "      <th></th>\n",
       "      <th></th>\n",
       "      <th></th>\n",
       "    </tr>\n",
       "  </thead>\n",
       "  <tbody>\n",
       "    <tr>\n",
       "      <th>002549.OF</th>\n",
       "      <td>嘉实稳祥纯债A</td>\n",
       "      <td>0.298929</td>\n",
       "      <td>0.271041</td>\n",
       "      <td>0.206447</td>\n",
       "      <td>0.12437</td>\n",
       "      <td>0.0992131</td>\n",
       "      <td>3.05726</td>\n",
       "    </tr>\n",
       "    <tr>\n",
       "      <th>004544.OF</th>\n",
       "      <td>嘉实稳华纯债</td>\n",
       "      <td>0.472007</td>\n",
       "      <td>0.320093</td>\n",
       "      <td>7.80626e-18</td>\n",
       "      <td>-2.42455e-17</td>\n",
       "      <td>0.2079</td>\n",
       "      <td>2.53939</td>\n",
       "    </tr>\n",
       "    <tr>\n",
       "      <th>070037.OF</th>\n",
       "      <td>嘉实纯债A</td>\n",
       "      <td>0.411144</td>\n",
       "      <td>0.357205</td>\n",
       "      <td>0.231651</td>\n",
       "      <td>0</td>\n",
       "      <td>1.89733e-17</td>\n",
       "      <td>1.84659</td>\n",
       "    </tr>\n",
       "    <tr>\n",
       "      <th>519723.OF</th>\n",
       "      <td>交银双轮动AB</td>\n",
       "      <td>0.314593</td>\n",
       "      <td>0.294178</td>\n",
       "      <td>0.200451</td>\n",
       "      <td>0.111186</td>\n",
       "      <td>0.0795926</td>\n",
       "      <td>2.85131</td>\n",
       "    </tr>\n",
       "    <tr>\n",
       "      <th>000147.OF</th>\n",
       "      <td>易方达高等级信用债A</td>\n",
       "      <td>0.379125</td>\n",
       "      <td>0.338938</td>\n",
       "      <td>0.281937</td>\n",
       "      <td>0</td>\n",
       "      <td>1.77877e-19</td>\n",
       "      <td>1.99519</td>\n",
       "    </tr>\n",
       "    <tr>\n",
       "      <th>003358.OF</th>\n",
       "      <td>易方达7-10年国开行</td>\n",
       "      <td>-5.32514e-17</td>\n",
       "      <td>1.43079e-17</td>\n",
       "      <td>-1.26585e-16</td>\n",
       "      <td>2.77556e-17</td>\n",
       "      <td>1</td>\n",
       "      <td>8</td>\n",
       "    </tr>\n",
       "    <tr>\n",
       "      <th>070009.OF</th>\n",
       "      <td>嘉实超短债</td>\n",
       "      <td>0.461102</td>\n",
       "      <td>0.360512</td>\n",
       "      <td>0.178386</td>\n",
       "      <td>2.77556e-17</td>\n",
       "      <td>2.10932e-17</td>\n",
       "      <td>1.66512</td>\n",
       "    </tr>\n",
       "  </tbody>\n",
       "</table>\n",
       "</div>"
      ],
      "text/plain": [
       "                  基金名称          0-1          1-3          3-5          5-7  \\\n",
       "基金代码                                                                         \n",
       "002549.OF      嘉实稳祥纯债A     0.298929     0.271041     0.206447      0.12437   \n",
       "004544.OF       嘉实稳华纯债     0.472007     0.320093  7.80626e-18 -2.42455e-17   \n",
       "070037.OF        嘉实纯债A     0.411144     0.357205     0.231651            0   \n",
       "519723.OF      交银双轮动AB     0.314593     0.294178     0.200451     0.111186   \n",
       "000147.OF   易方达高等级信用债A     0.379125     0.338938     0.281937            0   \n",
       "003358.OF  易方达7-10年国开行 -5.32514e-17  1.43079e-17 -1.26585e-16  2.77556e-17   \n",
       "070009.OF        嘉实超短债     0.461102     0.360512     0.178386  2.77556e-17   \n",
       "\n",
       "                  7-10       久期  \n",
       "基金代码                             \n",
       "002549.OF    0.0992131  3.05726  \n",
       "004544.OF       0.2079  2.53939  \n",
       "070037.OF  1.89733e-17  1.84659  \n",
       "519723.OF    0.0795926  2.85131  \n",
       "000147.OF  1.77877e-19  1.99519  \n",
       "003358.OF            1        8  \n",
       "070009.OF  2.10932e-17  1.66512  "
      ]
     },
     "execution_count": 108,
     "metadata": {},
     "output_type": "execute_result"
    }
   ],
   "source": [
    "decomp"
   ]
  },
  {
   "cell_type": "code",
   "execution_count": 109,
   "metadata": {},
   "outputs": [],
   "source": [
    "decomp.to_excel(u'../data/债券基金收益率分解.xlsx')"
   ]
  },
  {
   "cell_type": "code",
   "execution_count": null,
   "metadata": {},
   "outputs": [],
   "source": []
  }
 ],
 "metadata": {
  "kernelspec": {
   "display_name": "Python 2",
   "language": "python",
   "name": "python2"
  },
  "language_info": {
   "codemirror_mode": {
    "name": "ipython",
    "version": 2
   },
   "file_extension": ".py",
   "mimetype": "text/x-python",
   "name": "python",
   "nbconvert_exporter": "python",
   "pygments_lexer": "ipython2",
   "version": "2.7.14"
  }
 },
 "nbformat": 4,
 "nbformat_minor": 4
}
