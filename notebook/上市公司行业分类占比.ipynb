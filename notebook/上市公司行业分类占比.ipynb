{
 "cells": [
  {
   "cell_type": "code",
   "execution_count": 74,
   "metadata": {},
   "outputs": [],
   "source": [
    "import numpy as np\n",
    "import pandas as pd\n",
    "import matplotlib.pyplot as plt\n",
    "import scipy.stats as stats\n",
    "%matplotlib inline"
   ]
  },
  {
   "cell_type": "code",
   "execution_count": 100,
   "metadata": {},
   "outputs": [],
   "source": [
    "df = pd.read_excel(u'../data/全部A股上市公司所属行业.xlsx')"
   ]
  },
  {
   "cell_type": "code",
   "execution_count": 145,
   "metadata": {},
   "outputs": [
    {
     "data": {
      "text/html": [
       "<div>\n",
       "<style scoped>\n",
       "    .dataframe tbody tr th:only-of-type {\n",
       "        vertical-align: middle;\n",
       "    }\n",
       "\n",
       "    .dataframe tbody tr th {\n",
       "        vertical-align: top;\n",
       "    }\n",
       "\n",
       "    .dataframe thead th {\n",
       "        text-align: right;\n",
       "    }\n",
       "</style>\n",
       "<table border=\"1\" class=\"dataframe\">\n",
       "  <thead>\n",
       "    <tr style=\"text-align: right;\">\n",
       "      <th></th>\n",
       "      <th>SecuCode</th>\n",
       "      <th>SecuAbbr</th>\n",
       "      <th>TotalMV</th>\n",
       "      <th>FirstIndustryName</th>\n",
       "      <th>SecondIndustryName</th>\n",
       "      <th>ThirdIndustryName</th>\n",
       "      <th>是否中证800</th>\n",
       "      <th>Theme</th>\n",
       "    </tr>\n",
       "  </thead>\n",
       "  <tbody>\n",
       "    <tr>\n",
       "      <th>0</th>\n",
       "      <td>601398</td>\n",
       "      <td>工商银行</td>\n",
       "      <td>2.052900e+08</td>\n",
       "      <td>银行</td>\n",
       "      <td>国有银行</td>\n",
       "      <td>国有银行</td>\n",
       "      <td>是</td>\n",
       "      <td>金融地产</td>\n",
       "    </tr>\n",
       "    <tr>\n",
       "      <th>1</th>\n",
       "      <td>601939</td>\n",
       "      <td>建设银行</td>\n",
       "      <td>1.785078e+08</td>\n",
       "      <td>银行</td>\n",
       "      <td>国有银行</td>\n",
       "      <td>国有银行</td>\n",
       "      <td>是</td>\n",
       "      <td>金融地产</td>\n",
       "    </tr>\n",
       "    <tr>\n",
       "      <th>2</th>\n",
       "      <td>601318</td>\n",
       "      <td>中国平安</td>\n",
       "      <td>1.536820e+08</td>\n",
       "      <td>非银行金融</td>\n",
       "      <td>保险</td>\n",
       "      <td>保险</td>\n",
       "      <td>是</td>\n",
       "      <td>金融地产</td>\n",
       "    </tr>\n",
       "    <tr>\n",
       "      <th>3</th>\n",
       "      <td>600519</td>\n",
       "      <td>贵州茅台</td>\n",
       "      <td>1.409868e+08</td>\n",
       "      <td>食品饮料</td>\n",
       "      <td>白酒</td>\n",
       "      <td>白酒</td>\n",
       "      <td>是</td>\n",
       "      <td>可选消费</td>\n",
       "    </tr>\n",
       "    <tr>\n",
       "      <th>4</th>\n",
       "      <td>601288</td>\n",
       "      <td>农业银行</td>\n",
       "      <td>1.263439e+08</td>\n",
       "      <td>银行</td>\n",
       "      <td>国有银行</td>\n",
       "      <td>国有银行</td>\n",
       "      <td>是</td>\n",
       "      <td>金融地产</td>\n",
       "    </tr>\n",
       "  </tbody>\n",
       "</table>\n",
       "</div>"
      ],
      "text/plain": [
       "   SecuCode SecuAbbr       TotalMV FirstIndustryName SecondIndustryName  \\\n",
       "0    601398     工商银行  2.052900e+08                银行               国有银行   \n",
       "1    601939     建设银行  1.785078e+08                银行               国有银行   \n",
       "2    601318     中国平安  1.536820e+08             非银行金融                 保险   \n",
       "3    600519     贵州茅台  1.409868e+08              食品饮料                 白酒   \n",
       "4    601288     农业银行  1.263439e+08                银行               国有银行   \n",
       "\n",
       "  ThirdIndustryName 是否中证800 Theme  \n",
       "0              国有银行       是  金融地产  \n",
       "1              国有银行       是  金融地产  \n",
       "2                保险       是  金融地产  \n",
       "3                白酒       是  可选消费  \n",
       "4              国有银行       是  金融地产  "
      ]
     },
     "execution_count": 145,
     "metadata": {},
     "output_type": "execute_result"
    }
   ],
   "source": [
    "df.head()"
   ]
  },
  {
   "cell_type": "code",
   "execution_count": 158,
   "metadata": {},
   "outputs": [],
   "source": [
    "df = df[df[u'是否中证800'] == u'是']"
   ]
  },
  {
   "cell_type": "code",
   "execution_count": 170,
   "metadata": {},
   "outputs": [
    {
     "data": {
      "text/plain": [
       "(796, 8)"
      ]
     },
     "execution_count": 170,
     "metadata": {},
     "output_type": "execute_result"
    }
   ],
   "source": [
    "df.shape"
   ]
  },
  {
   "cell_type": "code",
   "execution_count": 159,
   "metadata": {},
   "outputs": [],
   "source": [
    "theme_df = pd.read_excel(u'../data/行业分类表.xlsx', sheet_name=u'中信二级行业')"
   ]
  },
  {
   "cell_type": "code",
   "execution_count": 160,
   "metadata": {},
   "outputs": [
    {
     "data": {
      "text/html": [
       "<div>\n",
       "<style scoped>\n",
       "    .dataframe tbody tr th:only-of-type {\n",
       "        vertical-align: middle;\n",
       "    }\n",
       "\n",
       "    .dataframe tbody tr th {\n",
       "        vertical-align: top;\n",
       "    }\n",
       "\n",
       "    .dataframe thead th {\n",
       "        text-align: right;\n",
       "    }\n",
       "</style>\n",
       "<table border=\"1\" class=\"dataframe\">\n",
       "  <thead>\n",
       "    <tr style=\"text-align: right;\">\n",
       "      <th></th>\n",
       "      <th>金融地产</th>\n",
       "      <th>可选消费</th>\n",
       "      <th>必选医药</th>\n",
       "      <th>信息科技</th>\n",
       "      <th>其他经济敏感</th>\n",
       "      <th>其他经济不敏感</th>\n",
       "    </tr>\n",
       "  </thead>\n",
       "  <tbody>\n",
       "    <tr>\n",
       "      <th>0</th>\n",
       "      <td>保险</td>\n",
       "      <td>白酒</td>\n",
       "      <td>其他医药医疗</td>\n",
       "      <td>IT服务</td>\n",
       "      <td>油田服务</td>\n",
       "      <td>金属制品</td>\n",
       "    </tr>\n",
       "    <tr>\n",
       "      <th>1</th>\n",
       "      <td>证券</td>\n",
       "      <td>白色家电</td>\n",
       "      <td>中药生产</td>\n",
       "      <td>电子设备</td>\n",
       "      <td>运输设备</td>\n",
       "      <td>电站设备</td>\n",
       "    </tr>\n",
       "    <tr>\n",
       "      <th>2</th>\n",
       "      <td>股份制与城商行</td>\n",
       "      <td>乘用车</td>\n",
       "      <td>零售</td>\n",
       "      <td>半导体</td>\n",
       "      <td>化学制品</td>\n",
       "      <td>输变电设备</td>\n",
       "    </tr>\n",
       "    <tr>\n",
       "      <th>3</th>\n",
       "      <td>房地产开发管理</td>\n",
       "      <td>小家电</td>\n",
       "      <td>生物医药</td>\n",
       "      <td>传媒</td>\n",
       "      <td>建筑施工</td>\n",
       "      <td>合成纤维及树脂</td>\n",
       "    </tr>\n",
       "    <tr>\n",
       "      <th>4</th>\n",
       "      <td>国有银行</td>\n",
       "      <td>商用车</td>\n",
       "      <td>品牌服饰</td>\n",
       "      <td>计算机软件</td>\n",
       "      <td>工程机械</td>\n",
       "      <td>航空航天</td>\n",
       "    </tr>\n",
       "    <tr>\n",
       "      <th>5</th>\n",
       "      <td>信托及其他</td>\n",
       "      <td>照明设备及其他</td>\n",
       "      <td>其他饮料</td>\n",
       "      <td>新能源设备</td>\n",
       "      <td>普钢</td>\n",
       "      <td>造纸</td>\n",
       "    </tr>\n",
       "    <tr>\n",
       "      <th>6</th>\n",
       "      <td>NaN</td>\n",
       "      <td>汽车销售及服务</td>\n",
       "      <td>化学制药</td>\n",
       "      <td>计算机硬件</td>\n",
       "      <td>航空机场</td>\n",
       "      <td>电信运营</td>\n",
       "    </tr>\n",
       "    <tr>\n",
       "      <th>7</th>\n",
       "      <td>NaN</td>\n",
       "      <td>黑色家电</td>\n",
       "      <td>食品</td>\n",
       "      <td>增值服务</td>\n",
       "      <td>石油化工</td>\n",
       "      <td>其他军工</td>\n",
       "    </tr>\n",
       "    <tr>\n",
       "      <th>8</th>\n",
       "      <td>NaN</td>\n",
       "      <td>其他轻工</td>\n",
       "      <td>NaN</td>\n",
       "      <td>其他元器件</td>\n",
       "      <td>煤炭开采洗选</td>\n",
       "      <td>综合</td>\n",
       "    </tr>\n",
       "    <tr>\n",
       "      <th>9</th>\n",
       "      <td>NaN</td>\n",
       "      <td>建筑装修</td>\n",
       "      <td>NaN</td>\n",
       "      <td>汽车零部件</td>\n",
       "      <td>贵金属</td>\n",
       "      <td>兵器兵装</td>\n",
       "    </tr>\n",
       "    <tr>\n",
       "      <th>10</th>\n",
       "      <td>NaN</td>\n",
       "      <td>水泥</td>\n",
       "      <td>NaN</td>\n",
       "      <td>通用设备</td>\n",
       "      <td>发电及电网</td>\n",
       "      <td>农业</td>\n",
       "    </tr>\n",
       "    <tr>\n",
       "      <th>11</th>\n",
       "      <td>NaN</td>\n",
       "      <td>景区和旅行社</td>\n",
       "      <td>NaN</td>\n",
       "      <td>其他专用设备</td>\n",
       "      <td>航运港口</td>\n",
       "      <td>林业</td>\n",
       "    </tr>\n",
       "    <tr>\n",
       "      <th>12</th>\n",
       "      <td>NaN</td>\n",
       "      <td>酒店及餐饮</td>\n",
       "      <td>NaN</td>\n",
       "      <td>通信设备制造</td>\n",
       "      <td>公路铁路</td>\n",
       "      <td>渔业</td>\n",
       "    </tr>\n",
       "    <tr>\n",
       "      <th>13</th>\n",
       "      <td>NaN</td>\n",
       "      <td>其他建材</td>\n",
       "      <td>NaN</td>\n",
       "      <td>仪器仪表</td>\n",
       "      <td>纺织制造</td>\n",
       "      <td>房地产服务</td>\n",
       "    </tr>\n",
       "    <tr>\n",
       "      <th>14</th>\n",
       "      <td>NaN</td>\n",
       "      <td>NaN</td>\n",
       "      <td>NaN</td>\n",
       "      <td>化学原料</td>\n",
       "      <td>石油开采</td>\n",
       "      <td>玻璃</td>\n",
       "    </tr>\n",
       "    <tr>\n",
       "      <th>15</th>\n",
       "      <td>NaN</td>\n",
       "      <td>NaN</td>\n",
       "      <td>NaN</td>\n",
       "      <td>稀有金属</td>\n",
       "      <td>工业金属</td>\n",
       "      <td>摩托车及其他</td>\n",
       "    </tr>\n",
       "    <tr>\n",
       "      <th>16</th>\n",
       "      <td>NaN</td>\n",
       "      <td>NaN</td>\n",
       "      <td>NaN</td>\n",
       "      <td>环保及公用事业</td>\n",
       "      <td>其他钢铁</td>\n",
       "      <td>牧业</td>\n",
       "    </tr>\n",
       "    <tr>\n",
       "      <th>17</th>\n",
       "      <td>NaN</td>\n",
       "      <td>NaN</td>\n",
       "      <td>NaN</td>\n",
       "      <td>NaN</td>\n",
       "      <td>贸易</td>\n",
       "      <td>公交物流</td>\n",
       "    </tr>\n",
       "    <tr>\n",
       "      <th>18</th>\n",
       "      <td>NaN</td>\n",
       "      <td>NaN</td>\n",
       "      <td>NaN</td>\n",
       "      <td>NaN</td>\n",
       "      <td>煤炭化工</td>\n",
       "      <td>农用化工</td>\n",
       "    </tr>\n",
       "  </tbody>\n",
       "</table>\n",
       "</div>"
      ],
      "text/plain": [
       "       金融地产     可选消费    必选医药     信息科技  其他经济敏感  其他经济不敏感\n",
       "0        保险       白酒  其他医药医疗     IT服务    油田服务     金属制品\n",
       "1        证券     白色家电    中药生产     电子设备    运输设备     电站设备\n",
       "2   股份制与城商行      乘用车      零售      半导体    化学制品    输变电设备\n",
       "3   房地产开发管理      小家电    生物医药       传媒    建筑施工  合成纤维及树脂\n",
       "4      国有银行      商用车    品牌服饰    计算机软件    工程机械     航空航天\n",
       "5     信托及其他  照明设备及其他    其他饮料    新能源设备      普钢       造纸\n",
       "6       NaN  汽车销售及服务    化学制药    计算机硬件    航空机场     电信运营\n",
       "7       NaN     黑色家电      食品     增值服务    石油化工     其他军工\n",
       "8       NaN     其他轻工     NaN    其他元器件  煤炭开采洗选       综合\n",
       "9       NaN     建筑装修     NaN    汽车零部件     贵金属     兵器兵装\n",
       "10      NaN       水泥     NaN     通用设备   发电及电网       农业\n",
       "11      NaN   景区和旅行社     NaN   其他专用设备    航运港口       林业\n",
       "12      NaN    酒店及餐饮     NaN   通信设备制造    公路铁路       渔业\n",
       "13      NaN     其他建材     NaN     仪器仪表    纺织制造    房地产服务\n",
       "14      NaN      NaN     NaN     化学原料    石油开采       玻璃\n",
       "15      NaN      NaN     NaN     稀有金属    工业金属   摩托车及其他\n",
       "16      NaN      NaN     NaN  环保及公用事业    其他钢铁       牧业\n",
       "17      NaN      NaN     NaN      NaN      贸易     公交物流\n",
       "18      NaN      NaN     NaN      NaN    煤炭化工     农用化工"
      ]
     },
     "execution_count": 160,
     "metadata": {},
     "output_type": "execute_result"
    }
   ],
   "source": [
    "theme_df"
   ]
  },
  {
   "cell_type": "code",
   "execution_count": 161,
   "metadata": {},
   "outputs": [],
   "source": [
    "theme2ind = {}\n",
    "for key in theme_df.columns:\n",
    "    theme2ind[key] = [x for x in theme_df[key] if x is not np.nan]"
   ]
  },
  {
   "cell_type": "code",
   "execution_count": 162,
   "metadata": {},
   "outputs": [],
   "source": [
    "ind2theme = {}\n",
    "for key, value in theme2ind.items():\n",
    "    for element in value:\n",
    "        ind2theme[element] = key"
   ]
  },
  {
   "cell_type": "code",
   "execution_count": 163,
   "metadata": {},
   "outputs": [],
   "source": [
    "df['Theme'] = [ind2theme[x] for x in df['SecondIndustryName']]"
   ]
  },
  {
   "cell_type": "code",
   "execution_count": 164,
   "metadata": {},
   "outputs": [],
   "source": [
    "results = df.groupby('Theme')['TotalMV'].sum()"
   ]
  },
  {
   "cell_type": "code",
   "execution_count": 165,
   "metadata": {},
   "outputs": [],
   "source": [
    "results = results.sort_values(ascending=False)"
   ]
  },
  {
   "cell_type": "code",
   "execution_count": 166,
   "metadata": {},
   "outputs": [
    {
     "data": {
      "text/plain": [
       "Theme\n",
       "金融地产       1.768834e+09\n",
       "其他经济敏感     7.949237e+08\n",
       "信息科技       6.971556e+08\n",
       "可选消费       5.223160e+08\n",
       "必选医药       3.599227e+08\n",
       "其他经济不敏感    2.732473e+08\n",
       "Name: TotalMV, dtype: float64"
      ]
     },
     "execution_count": 166,
     "metadata": {},
     "output_type": "execute_result"
    }
   ],
   "source": [
    "results"
   ]
  },
  {
   "cell_type": "code",
   "execution_count": 167,
   "metadata": {},
   "outputs": [],
   "source": [
    "weight = results / results.sum()"
   ]
  },
  {
   "cell_type": "code",
   "execution_count": 168,
   "metadata": {},
   "outputs": [
    {
     "data": {
      "text/plain": [
       "Theme\n",
       "金融地产       0.400515\n",
       "其他经济敏感     0.179994\n",
       "信息科技       0.157856\n",
       "可选消费       0.118267\n",
       "必选医药       0.081497\n",
       "其他经济不敏感    0.061871\n",
       "Name: TotalMV, dtype: float64"
      ]
     },
     "execution_count": 168,
     "metadata": {},
     "output_type": "execute_result"
    }
   ],
   "source": [
    "weight"
   ]
  },
  {
   "cell_type": "code",
   "execution_count": 169,
   "metadata": {},
   "outputs": [
    {
     "data": {
      "text/plain": [
       "([<matplotlib.patches.Wedge at 0x144d1ab0>,\n",
       "  <matplotlib.patches.Wedge at 0x144d1490>,\n",
       "  <matplotlib.patches.Wedge at 0x1485b1b0>,\n",
       "  <matplotlib.patches.Wedge at 0x1485bbf0>,\n",
       "  <matplotlib.patches.Wedge at 0x1485b090>,\n",
       "  <matplotlib.patches.Wedge at 0x1485bb10>],\n",
       " [Text(-0.931909,-0.58442,'金融地产'),\n",
       "  Text(0.799024,-0.756016,'其他经济敏感'),\n",
       "  Text(1.04968,0.328894,'信息科技'),\n",
       "  Text(0.428047,1.0133,'可选消费'),\n",
       "  Text(-0.248512,1.07156,'必选医药'),\n",
       "  Text(-0.69021,0.856511,'其他经济不敏感')],\n",
       " [Text(-0.508314,-0.318774,'40.1%'),\n",
       "  Text(0.435831,-0.412372,'18.0%'),\n",
       "  Text(0.572553,0.179396,'15.8%'),\n",
       "  Text(0.23348,0.552709,'11.8%'),\n",
       "  Text(-0.135552,0.584488,'8.1%'),\n",
       "  Text(-0.376478,0.467188,'6.2%')])"
      ]
     },
     "execution_count": 169,
     "metadata": {},
     "output_type": "execute_result"
    },
    {
     "data": {
      "image/png": "[encoded data removed]",
      "text/plain": [
       "<Figure size 864x864 with 1 Axes>"
      ]
     },
     "metadata": {},
     "output_type": "display_data"
    }
   ],
   "source": [
    "fig, ax = plt.subplots(figsize=(12, 12))\n",
    "\n",
    "labels = weight.index.tolist()\n",
    "sizes = weight.values\n",
    "colors = ['gold', 'yellowgreen', 'lightcoral', 'lightskyblue', 'red', 'orange']\n",
    "\n",
    "ax.pie(sizes, labels=labels, autopct='%1.1f%%', colors=colors, startangle=140, textprops={'fontsize': 20})"
   ]
  },
  {
   "cell_type": "code",
   "execution_count": 144,
   "metadata": {},
   "outputs": [],
   "source": [
    "v = df.groupby('SecondIndustryName')['TotalMV'].sum().sort_values(ascending=False)"
   ]
  },
  {
   "cell_type": "code",
   "execution_count": 115,
   "metadata": {},
   "outputs": [],
   "source": [
    "v /= v.sum()"
   ]
  },
  {
   "cell_type": "code",
   "execution_count": 116,
   "metadata": {},
   "outputs": [],
   "source": [
    "t = pd.DataFrame({u'行业': v.index, u'占比': v.values})"
   ]
  },
  {
   "cell_type": "code",
   "execution_count": 117,
   "metadata": {},
   "outputs": [],
   "source": [
    "t.to_excel('C:/Users/zhangyang01/Desktop/ratio.xlsx')"
   ]
  },
  {
   "cell_type": "code",
   "execution_count": null,
   "metadata": {},
   "outputs": [],
   "source": []
  }
 ],
 "metadata": {
  "kernelspec": {
   "display_name": "Python 3",
   "language": "python",
   "name": "python3"
  },
  "language_info": {
   "codemirror_mode": {
    "name": "ipython",
    "version": 3
   },
   "file_extension": ".py",
   "mimetype": "text/x-python",
   "name": "python",
   "nbconvert_exporter": "python",
   "pygments_lexer": "ipython3",
   "version": "3.6.5"
  }
 },
 "nbformat": 4,
 "nbformat_minor": 4
}
